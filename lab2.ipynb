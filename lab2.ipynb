{
 "cells": [
  {
   "cell_type": "code",
   "execution_count": 1,
   "id": "b870edf2-062d-4f79-a557-b01c7e112cbc",
   "metadata": {
    "tags": []
   },
   "outputs": [],
   "source": [
    "import os\n",
    "\n",
    "os.chdir(\"C:\\\\Users\\\\olya\\\\Downloads\")\n",
    "\n",
    "import pandas as pd\n",
    "import numpy as np\n",
    "import matplotlib\n",
    "import matplotlib.pyplot as plt\n",
    "%matplotlib inline"
   ]
  },
  {
   "cell_type": "code",
   "execution_count": 2,
   "id": "02d21fce-18d8-43b8-9b69-4cdc15b6ff54",
   "metadata": {},
   "outputs": [],
   "source": [
    "AH = pd.read_csv('PRODUCT_LIST.CSV', sep=\";\",encoding='Windows-1251', header = 0, index_col=False)\n",
    "df = pd.read_csv('SALE_LIST.csv', sep=\";\",encoding='Windows-1251', header = 0, index_col=False)"
   ]
  },
  {
   "cell_type": "code",
   "execution_count": 3,
   "id": "0868411c-ecef-4ccd-89e9-4296cd75894a",
   "metadata": {},
   "outputs": [
    {
     "data": {
      "text/html": [
       "<div>\n",
       "<style scoped>\n",
       "    .dataframe tbody tr th:only-of-type {\n",
       "        vertical-align: middle;\n",
       "    }\n",
       "\n",
       "    .dataframe tbody tr th {\n",
       "        vertical-align: top;\n",
       "    }\n",
       "\n",
       "    .dataframe thead th {\n",
       "        text-align: right;\n",
       "    }\n",
       "</style>\n",
       "<table border=\"1\" class=\"dataframe\">\n",
       "  <thead>\n",
       "    <tr style=\"text-align: right;\">\n",
       "      <th></th>\n",
       "      <th>date</th>\n",
       "      <th>product_code</th>\n",
       "      <th>rest_code</th>\n",
       "      <th>product_count</th>\n",
       "    </tr>\n",
       "  </thead>\n",
       "  <tbody>\n",
       "    <tr>\n",
       "      <th>0</th>\n",
       "      <td>06.01.2009</td>\n",
       "      <td>824021</td>\n",
       "      <td>Озерный</td>\n",
       "      <td>4</td>\n",
       "    </tr>\n",
       "    <tr>\n",
       "      <th>1</th>\n",
       "      <td>06.01.2009</td>\n",
       "      <td>824068</td>\n",
       "      <td>Озерный</td>\n",
       "      <td>1</td>\n",
       "    </tr>\n",
       "    <tr>\n",
       "      <th>2</th>\n",
       "      <td>06.01.2009</td>\n",
       "      <td>824070</td>\n",
       "      <td>Озерный</td>\n",
       "      <td>2</td>\n",
       "    </tr>\n",
       "    <tr>\n",
       "      <th>3</th>\n",
       "      <td>06.01.2009</td>\n",
       "      <td>824073</td>\n",
       "      <td>Озерный</td>\n",
       "      <td>1</td>\n",
       "    </tr>\n",
       "    <tr>\n",
       "      <th>4</th>\n",
       "      <td>06.01.2009</td>\n",
       "      <td>824074</td>\n",
       "      <td>Озерный</td>\n",
       "      <td>1</td>\n",
       "    </tr>\n",
       "  </tbody>\n",
       "</table>\n",
       "</div>"
      ],
      "text/plain": [
       "         date  product_code rest_code  product_count\n",
       "0  06.01.2009        824021   Озерный              4\n",
       "1  06.01.2009        824068   Озерный              1\n",
       "2  06.01.2009        824070   Озерный              2\n",
       "3  06.01.2009        824073   Озерный              1\n",
       "4  06.01.2009        824074   Озерный              1"
      ]
     },
     "execution_count": 3,
     "metadata": {},
     "output_type": "execute_result"
    }
   ],
   "source": [
    "df.head()"
   ]
  },
  {
   "cell_type": "code",
   "execution_count": 4,
   "id": "e78bf862-c0a8-45f9-9477-88624522e2b2",
   "metadata": {},
   "outputs": [
    {
     "data": {
      "text/html": [
       "<div>\n",
       "<style scoped>\n",
       "    .dataframe tbody tr th:only-of-type {\n",
       "        vertical-align: middle;\n",
       "    }\n",
       "\n",
       "    .dataframe tbody tr th {\n",
       "        vertical-align: top;\n",
       "    }\n",
       "\n",
       "    .dataframe thead th {\n",
       "        text-align: right;\n",
       "    }\n",
       "</style>\n",
       "<table border=\"1\" class=\"dataframe\">\n",
       "  <thead>\n",
       "    <tr style=\"text-align: right;\">\n",
       "      <th></th>\n",
       "      <th>Product_code</th>\n",
       "      <th>Product_name</th>\n",
       "      <th>Unnamed: 2</th>\n",
       "      <th>Unnamed: 3</th>\n",
       "    </tr>\n",
       "  </thead>\n",
       "  <tbody>\n",
       "    <tr>\n",
       "      <th>0</th>\n",
       "      <td>821001</td>\n",
       "      <td>Кофе ЭСПРЕССО  30 мл</td>\n",
       "      <td>NaN</td>\n",
       "      <td>NaN</td>\n",
       "    </tr>\n",
       "    <tr>\n",
       "      <th>1</th>\n",
       "      <td>821002</td>\n",
       "      <td>Кофе ДОППИО 60мл</td>\n",
       "      <td>NaN</td>\n",
       "      <td>NaN</td>\n",
       "    </tr>\n",
       "    <tr>\n",
       "      <th>2</th>\n",
       "      <td>821003</td>\n",
       "      <td>Кофе РИСТРЕТТО  20 мл</td>\n",
       "      <td>NaN</td>\n",
       "      <td>NaN</td>\n",
       "    </tr>\n",
       "    <tr>\n",
       "      <th>3</th>\n",
       "      <td>821004</td>\n",
       "      <td>Фильтр кофе Верньяно250мл</td>\n",
       "      <td>NaN</td>\n",
       "      <td>NaN</td>\n",
       "    </tr>\n",
       "    <tr>\n",
       "      <th>4</th>\n",
       "      <td>821005</td>\n",
       "      <td>Кофе ЛУНГО  50 мл</td>\n",
       "      <td>NaN</td>\n",
       "      <td>NaN</td>\n",
       "    </tr>\n",
       "  </tbody>\n",
       "</table>\n",
       "</div>"
      ],
      "text/plain": [
       "   Product_code               Product_name Unnamed: 2 Unnamed: 3\n",
       "0        821001       Кофе ЭСПРЕССО  30 мл        NaN        NaN\n",
       "1        821002           Кофе ДОППИО 60мл        NaN        NaN\n",
       "2        821003      Кофе РИСТРЕТТО  20 мл        NaN        NaN\n",
       "3        821004  Фильтр кофе Верньяно250мл        NaN        NaN\n",
       "4        821005          Кофе ЛУНГО  50 мл        NaN        NaN"
      ]
     },
     "execution_count": 4,
     "metadata": {},
     "output_type": "execute_result"
    }
   ],
   "source": [
    "AH.head()"
   ]
  },
  {
   "cell_type": "code",
   "execution_count": null,
   "id": "8e802e11-3c9c-4e02-b7e1-c1f0a529bbee",
   "metadata": {},
   "outputs": [],
   "source": []
  },
  {
   "cell_type": "code",
   "execution_count": 5,
   "id": "e55bea3f-0365-4c97-8b3f-148057ab95c0",
   "metadata": {
    "tags": []
   },
   "outputs": [],
   "source": [
    "AH.rename(columns = {'Product_code':'product_code'}, inplace = True)"
   ]
  },
  {
   "cell_type": "code",
   "execution_count": 6,
   "id": "1282da39-39f1-4b1e-83d1-1db6aee7956e",
   "metadata": {},
   "outputs": [],
   "source": [
    "mergeList = AH.merge(df, on=['product_code'])"
   ]
  },
  {
   "cell_type": "code",
   "execution_count": 7,
   "id": "9556d493-c210-4b59-a641-e94384cfd6df",
   "metadata": {},
   "outputs": [],
   "source": [
    "topm = mergeList[mergeList['rest_code'] == 'Мечта'].sort_values('product_count', ascending = False)\n",
    "topo = mergeList[mergeList['rest_code'] == 'Озерный'].sort_values('product_count', ascending = False)"
   ]
  },
  {
   "cell_type": "code",
   "execution_count": 8,
   "id": "56da8e21-35a9-4af5-a94f-ac1bb50ee0a4",
   "metadata": {},
   "outputs": [
    {
     "data": {
      "text/html": [
       "<div>\n",
       "<style scoped>\n",
       "    .dataframe tbody tr th:only-of-type {\n",
       "        vertical-align: middle;\n",
       "    }\n",
       "\n",
       "    .dataframe tbody tr th {\n",
       "        vertical-align: top;\n",
       "    }\n",
       "\n",
       "    .dataframe thead th {\n",
       "        text-align: right;\n",
       "    }\n",
       "</style>\n",
       "<table border=\"1\" class=\"dataframe\">\n",
       "  <thead>\n",
       "    <tr style=\"text-align: right;\">\n",
       "      <th></th>\n",
       "      <th>product_code</th>\n",
       "      <th>Product_name</th>\n",
       "      <th>Unnamed: 2</th>\n",
       "      <th>Unnamed: 3</th>\n",
       "      <th>date</th>\n",
       "      <th>rest_code</th>\n",
       "      <th>product_count</th>\n",
       "    </tr>\n",
       "  </thead>\n",
       "  <tbody>\n",
       "    <tr>\n",
       "      <th>32928</th>\n",
       "      <td>822006</td>\n",
       "      <td>Кофе КАПУЧИНО 150мл</td>\n",
       "      <td>NaN</td>\n",
       "      <td>NaN</td>\n",
       "      <td>16.05.2010</td>\n",
       "      <td>Мечта</td>\n",
       "      <td>239</td>\n",
       "    </tr>\n",
       "    <tr>\n",
       "      <th>33770</th>\n",
       "      <td>822006</td>\n",
       "      <td>Кофе КАПУЧИНО 150мл</td>\n",
       "      <td>NaN</td>\n",
       "      <td>NaN</td>\n",
       "      <td>21.04.2012</td>\n",
       "      <td>Мечта</td>\n",
       "      <td>233</td>\n",
       "    </tr>\n",
       "    <tr>\n",
       "      <th>33804</th>\n",
       "      <td>822006</td>\n",
       "      <td>Кофе КАПУЧИНО 150мл</td>\n",
       "      <td>NaN</td>\n",
       "      <td>NaN</td>\n",
       "      <td>13.05.2012</td>\n",
       "      <td>Мечта</td>\n",
       "      <td>219</td>\n",
       "    </tr>\n",
       "    <tr>\n",
       "      <th>33810</th>\n",
       "      <td>822006</td>\n",
       "      <td>Кофе КАПУЧИНО 150мл</td>\n",
       "      <td>NaN</td>\n",
       "      <td>NaN</td>\n",
       "      <td>19.05.2012</td>\n",
       "      <td>Мечта</td>\n",
       "      <td>208</td>\n",
       "    </tr>\n",
       "    <tr>\n",
       "      <th>32936</th>\n",
       "      <td>822006</td>\n",
       "      <td>Кофе КАПУЧИНО 150мл</td>\n",
       "      <td>NaN</td>\n",
       "      <td>NaN</td>\n",
       "      <td>23.05.2010</td>\n",
       "      <td>Мечта</td>\n",
       "      <td>207</td>\n",
       "    </tr>\n",
       "    <tr>\n",
       "      <th>...</th>\n",
       "      <td>...</td>\n",
       "      <td>...</td>\n",
       "      <td>...</td>\n",
       "      <td>...</td>\n",
       "      <td>...</td>\n",
       "      <td>...</td>\n",
       "      <td>...</td>\n",
       "    </tr>\n",
       "    <tr>\n",
       "      <th>130051</th>\n",
       "      <td>892433</td>\n",
       "      <td>Эклер ванильный 60г</td>\n",
       "      <td>NaN</td>\n",
       "      <td>NaN</td>\n",
       "      <td>16.09.2011</td>\n",
       "      <td>Мечта</td>\n",
       "      <td>-4</td>\n",
       "    </tr>\n",
       "    <tr>\n",
       "      <th>51412</th>\n",
       "      <td>822164</td>\n",
       "      <td>Раф кофе 300мл</td>\n",
       "      <td>NaN</td>\n",
       "      <td>NaN</td>\n",
       "      <td>17.03.2013</td>\n",
       "      <td>Мечта</td>\n",
       "      <td>-5</td>\n",
       "    </tr>\n",
       "    <tr>\n",
       "      <th>114777</th>\n",
       "      <td>892175</td>\n",
       "      <td>Эклер ванильный 70г</td>\n",
       "      <td>NaN</td>\n",
       "      <td>NaN</td>\n",
       "      <td>05.03.2010</td>\n",
       "      <td>Мечта</td>\n",
       "      <td>-5</td>\n",
       "    </tr>\n",
       "    <tr>\n",
       "      <th>116696</th>\n",
       "      <td>892370</td>\n",
       "      <td>Эклер шоколадный 60г</td>\n",
       "      <td>NaN</td>\n",
       "      <td>NaN</td>\n",
       "      <td>05.03.2010</td>\n",
       "      <td>Мечта</td>\n",
       "      <td>-5</td>\n",
       "    </tr>\n",
       "    <tr>\n",
       "      <th>117083</th>\n",
       "      <td>892370</td>\n",
       "      <td>Эклер шоколадный 60г</td>\n",
       "      <td>NaN</td>\n",
       "      <td>NaN</td>\n",
       "      <td>25.03.2011</td>\n",
       "      <td>Мечта</td>\n",
       "      <td>-6</td>\n",
       "    </tr>\n",
       "  </tbody>\n",
       "</table>\n",
       "<p>73690 rows × 7 columns</p>\n",
       "</div>"
      ],
      "text/plain": [
       "        product_code          Product_name Unnamed: 2 Unnamed: 3        date  \\\n",
       "32928         822006   Кофе КАПУЧИНО 150мл        NaN        NaN  16.05.2010   \n",
       "33770         822006   Кофе КАПУЧИНО 150мл        NaN        NaN  21.04.2012   \n",
       "33804         822006   Кофе КАПУЧИНО 150мл        NaN        NaN  13.05.2012   \n",
       "33810         822006   Кофе КАПУЧИНО 150мл        NaN        NaN  19.05.2012   \n",
       "32936         822006   Кофе КАПУЧИНО 150мл        NaN        NaN  23.05.2010   \n",
       "...              ...                   ...        ...        ...         ...   \n",
       "130051        892433   Эклер ванильный 60г        NaN        NaN  16.09.2011   \n",
       "51412         822164        Раф кофе 300мл        NaN        NaN  17.03.2013   \n",
       "114777        892175   Эклер ванильный 70г        NaN        NaN  05.03.2010   \n",
       "116696        892370  Эклер шоколадный 60г        NaN        NaN  05.03.2010   \n",
       "117083        892370  Эклер шоколадный 60г        NaN        NaN  25.03.2011   \n",
       "\n",
       "       rest_code  product_count  \n",
       "32928      Мечта            239  \n",
       "33770      Мечта            233  \n",
       "33804      Мечта            219  \n",
       "33810      Мечта            208  \n",
       "32936      Мечта            207  \n",
       "...          ...            ...  \n",
       "130051     Мечта             -4  \n",
       "51412      Мечта             -5  \n",
       "114777     Мечта             -5  \n",
       "116696     Мечта             -5  \n",
       "117083     Мечта             -6  \n",
       "\n",
       "[73690 rows x 7 columns]"
      ]
     },
     "execution_count": 8,
     "metadata": {},
     "output_type": "execute_result"
    }
   ],
   "source": [
    "topm"
   ]
  },
  {
   "cell_type": "code",
   "execution_count": 9,
   "id": "868f82f1-8fb5-45db-a286-cf2e16c69453",
   "metadata": {},
   "outputs": [
    {
     "name": "stdout",
     "output_type": "stream",
     "text": [
      "['Кофе Латте 300мл', 'Кофе КАПУЧИНО 150мл', 'Кофе АМЕРИКАНО 90мл', 'Кофе ЭСПРЕССО  30 мл', 'Раф кофе 300мл']\n"
     ]
    }
   ],
   "source": [
    "top5m = list(topm.groupby('Product_name')['product_count'].sum().sort_values(ascending = False).head(5).index.values)\n",
    "print(top5m)"
   ]
  },
  {
   "cell_type": "code",
   "execution_count": 10,
   "id": "f14ad6a2-30aa-454d-9ded-d4e8d4ccb347",
   "metadata": {
    "tags": []
   },
   "outputs": [
    {
     "data": {
      "text/plain": [
       "<AxesSubplot:xlabel='Product_name'>"
      ]
     },
     "execution_count": 10,
     "metadata": {},
     "output_type": "execute_result"
    },
    {
     "data": {
      "image/png": "[encoded data removed]",
      "text/plain": [
       "<Figure size 432x288 with 1 Axes>"
      ]
     },
     "metadata": {
      "needs_background": "light"
     },
     "output_type": "display_data"
    }
   ],
   "source": [
    "topm[topm['Product_name'].isin(top5m)].groupby('Product_name')['product_count'].sum().plot.bar()"
   ]
  },
  {
   "cell_type": "code",
   "execution_count": 11,
   "id": "26fcfaf7-e5a0-4469-aa29-67b7db51d9ff",
   "metadata": {},
   "outputs": [
    {
     "data": {
      "text/plain": [
       "1254434"
      ]
     },
     "execution_count": 11,
     "metadata": {},
     "output_type": "execute_result"
    }
   ],
   "source": [
    "topm['product_count'].sum()"
   ]
  },
  {
   "cell_type": "code",
   "execution_count": 12,
   "id": "58b6ae3f-f2d4-4964-b586-ac0d6361169a",
   "metadata": {},
   "outputs": [
    {
     "data": {
      "text/plain": [
       "(array([1, 2, 3, 4, 5]),\n",
       " [Text(1, 0, 'Кофе АМЕРИКАНО 90мл'),\n",
       "  Text(2, 0, 'Кофе КАПУЧИНО 150мл'),\n",
       "  Text(3, 0, 'Кофе Латте 300мл'),\n",
       "  Text(4, 0, 'Кофе ЭСПРЕССО  30 мл'),\n",
       "  Text(5, 0, 'Раф кофе 300мл')])"
      ]
     },
     "execution_count": 12,
     "metadata": {},
     "output_type": "execute_result"
    },
    {
     "data": {
      "image/png": "[encoded data removed]",
      "text/plain": [
       "<Figure size 432x288 with 1 Axes>"
      ]
     },
     "metadata": {
      "needs_background": "light"
     },
     "output_type": "display_data"
    }
   ],
   "source": [
    "topm[topm['Product_name'].isin(top5m)].boxplot(column='product_count',by='Product_name')\n",
    "plt.xticks(rotation=90)"
   ]
  },
  {
   "cell_type": "code",
   "execution_count": 13,
   "id": "c72351fb-1bb4-42b7-848d-0fd3911dafbb",
   "metadata": {},
   "outputs": [
    {
     "data": {
      "text/html": [
       "<div>\n",
       "<style scoped>\n",
       "    .dataframe tbody tr th:only-of-type {\n",
       "        vertical-align: middle;\n",
       "    }\n",
       "\n",
       "    .dataframe tbody tr th {\n",
       "        vertical-align: top;\n",
       "    }\n",
       "\n",
       "    .dataframe thead th {\n",
       "        text-align: right;\n",
       "    }\n",
       "</style>\n",
       "<table border=\"1\" class=\"dataframe\">\n",
       "  <thead>\n",
       "    <tr style=\"text-align: right;\">\n",
       "      <th></th>\n",
       "      <th>product_code</th>\n",
       "      <th>Product_name</th>\n",
       "      <th>Unnamed: 2</th>\n",
       "      <th>Unnamed: 3</th>\n",
       "      <th>date</th>\n",
       "      <th>rest_code</th>\n",
       "      <th>product_count</th>\n",
       "    </tr>\n",
       "  </thead>\n",
       "  <tbody>\n",
       "    <tr>\n",
       "      <th>31150</th>\n",
       "      <td>822006</td>\n",
       "      <td>Кофе КАПУЧИНО 150мл</td>\n",
       "      <td>NaN</td>\n",
       "      <td>NaN</td>\n",
       "      <td>05.02.2010</td>\n",
       "      <td>Озерный</td>\n",
       "      <td>67</td>\n",
       "    </tr>\n",
       "    <tr>\n",
       "      <th>31270</th>\n",
       "      <td>822006</td>\n",
       "      <td>Кофе КАПУЧИНО 150мл</td>\n",
       "      <td>NaN</td>\n",
       "      <td>NaN</td>\n",
       "      <td>28.05.2010</td>\n",
       "      <td>Озерный</td>\n",
       "      <td>64</td>\n",
       "    </tr>\n",
       "    <tr>\n",
       "      <th>31233</th>\n",
       "      <td>822006</td>\n",
       "      <td>Кофе КАПУЧИНО 150мл</td>\n",
       "      <td>NaN</td>\n",
       "      <td>NaN</td>\n",
       "      <td>22.04.2010</td>\n",
       "      <td>Озерный</td>\n",
       "      <td>62</td>\n",
       "    </tr>\n",
       "    <tr>\n",
       "      <th>31191</th>\n",
       "      <td>822006</td>\n",
       "      <td>Кофе КАПУЧИНО 150мл</td>\n",
       "      <td>NaN</td>\n",
       "      <td>NaN</td>\n",
       "      <td>16.03.2010</td>\n",
       "      <td>Озерный</td>\n",
       "      <td>57</td>\n",
       "    </tr>\n",
       "    <tr>\n",
       "      <th>31408</th>\n",
       "      <td>822006</td>\n",
       "      <td>Кофе КАПУЧИНО 150мл</td>\n",
       "      <td>NaN</td>\n",
       "      <td>NaN</td>\n",
       "      <td>07.10.2010</td>\n",
       "      <td>Озерный</td>\n",
       "      <td>56</td>\n",
       "    </tr>\n",
       "    <tr>\n",
       "      <th>...</th>\n",
       "      <td>...</td>\n",
       "      <td>...</td>\n",
       "      <td>...</td>\n",
       "      <td>...</td>\n",
       "      <td>...</td>\n",
       "      <td>...</td>\n",
       "      <td>...</td>\n",
       "    </tr>\n",
       "    <tr>\n",
       "      <th>32189</th>\n",
       "      <td>822006</td>\n",
       "      <td>Кофе КАПУЧИНО 150мл</td>\n",
       "      <td>NaN</td>\n",
       "      <td>NaN</td>\n",
       "      <td>04.09.2012</td>\n",
       "      <td>Озерный</td>\n",
       "      <td>-2</td>\n",
       "    </tr>\n",
       "    <tr>\n",
       "      <th>36766</th>\n",
       "      <td>822087</td>\n",
       "      <td>Кофе Латте 300мл</td>\n",
       "      <td>NaN</td>\n",
       "      <td>NaN</td>\n",
       "      <td>20.09.2012</td>\n",
       "      <td>Озерный</td>\n",
       "      <td>-2</td>\n",
       "    </tr>\n",
       "    <tr>\n",
       "      <th>32609</th>\n",
       "      <td>822006</td>\n",
       "      <td>Кофе КАПУЧИНО 150мл</td>\n",
       "      <td>NaN</td>\n",
       "      <td>NaN</td>\n",
       "      <td>06.09.2013</td>\n",
       "      <td>Озерный</td>\n",
       "      <td>-2</td>\n",
       "    </tr>\n",
       "    <tr>\n",
       "      <th>7056</th>\n",
       "      <td>821005</td>\n",
       "      <td>Кофе ЛУНГО  50 мл</td>\n",
       "      <td>NaN</td>\n",
       "      <td>NaN</td>\n",
       "      <td>08.01.2010</td>\n",
       "      <td>Озерный</td>\n",
       "      <td>-2</td>\n",
       "    </tr>\n",
       "    <tr>\n",
       "      <th>95095</th>\n",
       "      <td>824144</td>\n",
       "      <td>Чай Шиповник 230мл</td>\n",
       "      <td>NaN</td>\n",
       "      <td>NaN</td>\n",
       "      <td>19.11.2012</td>\n",
       "      <td>Озерный</td>\n",
       "      <td>-2</td>\n",
       "    </tr>\n",
       "  </tbody>\n",
       "</table>\n",
       "<p>62230 rows × 7 columns</p>\n",
       "</div>"
      ],
      "text/plain": [
       "       product_code         Product_name Unnamed: 2 Unnamed: 3        date  \\\n",
       "31150        822006  Кофе КАПУЧИНО 150мл        NaN        NaN  05.02.2010   \n",
       "31270        822006  Кофе КАПУЧИНО 150мл        NaN        NaN  28.05.2010   \n",
       "31233        822006  Кофе КАПУЧИНО 150мл        NaN        NaN  22.04.2010   \n",
       "31191        822006  Кофе КАПУЧИНО 150мл        NaN        NaN  16.03.2010   \n",
       "31408        822006  Кофе КАПУЧИНО 150мл        NaN        NaN  07.10.2010   \n",
       "...             ...                  ...        ...        ...         ...   \n",
       "32189        822006  Кофе КАПУЧИНО 150мл        NaN        NaN  04.09.2012   \n",
       "36766        822087     Кофе Латте 300мл        NaN        NaN  20.09.2012   \n",
       "32609        822006  Кофе КАПУЧИНО 150мл        NaN        NaN  06.09.2013   \n",
       "7056         821005    Кофе ЛУНГО  50 мл        NaN        NaN  08.01.2010   \n",
       "95095        824144   Чай Шиповник 230мл        NaN        NaN  19.11.2012   \n",
       "\n",
       "      rest_code  product_count  \n",
       "31150   Озерный             67  \n",
       "31270   Озерный             64  \n",
       "31233   Озерный             62  \n",
       "31191   Озерный             57  \n",
       "31408   Озерный             56  \n",
       "...         ...            ...  \n",
       "32189   Озерный             -2  \n",
       "36766   Озерный             -2  \n",
       "32609   Озерный             -2  \n",
       "7056    Озерный             -2  \n",
       "95095   Озерный             -2  \n",
       "\n",
       "[62230 rows x 7 columns]"
      ]
     },
     "execution_count": 13,
     "metadata": {},
     "output_type": "execute_result"
    }
   ],
   "source": [
    "topo"
   ]
  },
  {
   "cell_type": "code",
   "execution_count": 14,
   "id": "aeaa6af8-5fca-441b-8af6-bd6a59633725",
   "metadata": {},
   "outputs": [
    {
     "name": "stdout",
     "output_type": "stream",
     "text": [
      "['Кофе КАПУЧИНО 150мл', 'Кофе Латте 300мл', 'Кофе ЭСПРЕССО  30 мл', 'Кофе АМЕРИКАНО 90мл', 'Раф кофе 300мл']\n"
     ]
    }
   ],
   "source": [
    "top5o = list(topo.groupby('Product_name')['product_count'].sum().sort_values(ascending = False).head(5).index.values)\n",
    "print(top5o)"
   ]
  },
  {
   "cell_type": "code",
   "execution_count": 15,
   "id": "8b82ee86-5eb1-49dd-be2d-13638a184aed",
   "metadata": {},
   "outputs": [
    {
     "data": {
      "text/plain": [
       "<AxesSubplot:xlabel='Product_name'>"
      ]
     },
     "execution_count": 15,
     "metadata": {},
     "output_type": "execute_result"
    },
    {
     "data": {
      "image/png": "[encoded data removed]",
      "text/plain": [
       "<Figure size 432x288 with 1 Axes>"
      ]
     },
     "metadata": {
      "needs_background": "light"
     },
     "output_type": "display_data"
    }
   ],
   "source": [
    "topo[topo['Product_name'].isin(top5o)].groupby('Product_name')['product_count'].sum().plot.bar()"
   ]
  },
  {
   "cell_type": "code",
   "execution_count": 16,
   "id": "e92e1d1a-b3f8-4433-91e6-ecb92ca51f32",
   "metadata": {},
   "outputs": [
    {
     "data": {
      "text/plain": [
       "(array([1, 2, 3, 4, 5]),\n",
       " [Text(1, 0, 'Кофе АМЕРИКАНО 90мл'),\n",
       "  Text(2, 0, 'Кофе КАПУЧИНО 150мл'),\n",
       "  Text(3, 0, 'Кофе Латте 300мл'),\n",
       "  Text(4, 0, 'Кофе ЭСПРЕССО  30 мл'),\n",
       "  Text(5, 0, 'Раф кофе 300мл')])"
      ]
     },
     "execution_count": 16,
     "metadata": {},
     "output_type": "execute_result"
    },
    {
     "data": {
      "image/png": "[encoded data removed]",
      "text/plain": [
       "<Figure size 432x288 with 1 Axes>"
      ]
     },
     "metadata": {
      "needs_background": "light"
     },
     "output_type": "display_data"
    }
   ],
   "source": [
    "topm[topm['Product_name'].isin(top5m)].boxplot(column='product_count',by='Product_name')\n",
    "plt.xticks(rotation=90)"
   ]
  },
  {
   "cell_type": "code",
   "execution_count": 17,
   "id": "150a516b-59df-43d3-8897-a9b39e0ba0b4",
   "metadata": {},
   "outputs": [
    {
     "data": {
      "text/plain": [
       "<matplotlib.legend.Legend at 0x197e4a149d0>"
      ]
     },
     "execution_count": 17,
     "metadata": {},
     "output_type": "execute_result"
    },
    {
     "data": {
      "image/png": "[encoded data removed]",
      "text/plain": [
       "<Figure size 432x288 with 1 Axes>"
      ]
     },
     "metadata": {
      "needs_background": "light"
     },
     "output_type": "display_data"
    }
   ],
   "source": [
    "gtopm=topm[topm['Product_name'].isin(top5m)].groupby('Product_name')['product_count'].sum().plot.bar(alpha=0.5,color='red')\n",
    "gtopo=topo[topo['Product_name'].isin(top5o)].groupby('Product_name')['product_count'].sum().plot.bar(alpha=0.6)\n",
    "plt.legend(['Мечта','Озерный'])"
   ]
  },
  {
   "cell_type": "code",
   "execution_count": 18,
   "id": "58368efb-61d9-4d69-ad10-cf3ccd35a41c",
   "metadata": {},
   "outputs": [
    {
     "data": {
      "text/plain": [
       "1254434"
      ]
     },
     "execution_count": 18,
     "metadata": {},
     "output_type": "execute_result"
    }
   ],
   "source": [
    "topm['product_count'].sum()\n"
   ]
  },
  {
   "cell_type": "code",
   "execution_count": 19,
   "id": "74306dcb-1b3c-451e-87af-c46b7ad323e0",
   "metadata": {},
   "outputs": [
    {
     "data": {
      "text/plain": [
       "291882"
      ]
     },
     "execution_count": 19,
     "metadata": {},
     "output_type": "execute_result"
    }
   ],
   "source": [
    "topo['product_count'].sum()"
   ]
  },
  {
   "cell_type": "code",
   "execution_count": 20,
   "id": "2735166f-6227-48f3-b241-c4d38041bfd1",
   "metadata": {},
   "outputs": [
    {
     "data": {
      "text/plain": [
       "<AxesSubplot:>"
      ]
     },
     "execution_count": 20,
     "metadata": {},
     "output_type": "execute_result"
    },
    {
     "data": {
      "image/png": "[encoded data removed]",
      "text/plain": [
       "<Figure size 432x288 with 1 Axes>"
      ]
     },
     "metadata": {
      "needs_background": "light"
     },
     "output_type": "display_data"
    }
   ],
   "source": [
    "df1=pd.DataFrame(data={'product_count':[topm['product_count'].sum(),topo['product_count'].sum()]},index=['Мечта','Озерный'])\n",
    "df1.plot.bar()"
   ]
  },
  {
   "cell_type": "code",
   "execution_count": 21,
   "id": "950bcfc8-fca4-4eaf-a91e-ef7d104bbfc4",
   "metadata": {},
   "outputs": [
    {
     "data": {
      "text/html": [
       "<div>\n",
       "<style scoped>\n",
       "    .dataframe tbody tr th:only-of-type {\n",
       "        vertical-align: middle;\n",
       "    }\n",
       "\n",
       "    .dataframe tbody tr th {\n",
       "        vertical-align: top;\n",
       "    }\n",
       "\n",
       "    .dataframe thead th {\n",
       "        text-align: right;\n",
       "    }\n",
       "</style>\n",
       "<table border=\"1\" class=\"dataframe\">\n",
       "  <thead>\n",
       "    <tr style=\"text-align: right;\">\n",
       "      <th></th>\n",
       "      <th>date</th>\n",
       "      <th>product_code</th>\n",
       "      <th>rest_code</th>\n",
       "      <th>product_count</th>\n",
       "    </tr>\n",
       "  </thead>\n",
       "  <tbody>\n",
       "    <tr>\n",
       "      <th>0</th>\n",
       "      <td>06.01.2009</td>\n",
       "      <td>824021</td>\n",
       "      <td>Озерный</td>\n",
       "      <td>4</td>\n",
       "    </tr>\n",
       "    <tr>\n",
       "      <th>1</th>\n",
       "      <td>06.01.2009</td>\n",
       "      <td>824068</td>\n",
       "      <td>Озерный</td>\n",
       "      <td>1</td>\n",
       "    </tr>\n",
       "    <tr>\n",
       "      <th>2</th>\n",
       "      <td>06.01.2009</td>\n",
       "      <td>824070</td>\n",
       "      <td>Озерный</td>\n",
       "      <td>2</td>\n",
       "    </tr>\n",
       "    <tr>\n",
       "      <th>3</th>\n",
       "      <td>06.01.2009</td>\n",
       "      <td>824073</td>\n",
       "      <td>Озерный</td>\n",
       "      <td>1</td>\n",
       "    </tr>\n",
       "    <tr>\n",
       "      <th>4</th>\n",
       "      <td>06.01.2009</td>\n",
       "      <td>824074</td>\n",
       "      <td>Озерный</td>\n",
       "      <td>1</td>\n",
       "    </tr>\n",
       "    <tr>\n",
       "      <th>...</th>\n",
       "      <td>...</td>\n",
       "      <td>...</td>\n",
       "      <td>...</td>\n",
       "      <td>...</td>\n",
       "    </tr>\n",
       "    <tr>\n",
       "      <th>135915</th>\n",
       "      <td>26.05.2013</td>\n",
       "      <td>892545</td>\n",
       "      <td>Мечта</td>\n",
       "      <td>3</td>\n",
       "    </tr>\n",
       "    <tr>\n",
       "      <th>135916</th>\n",
       "      <td>27.05.2013</td>\n",
       "      <td>892545</td>\n",
       "      <td>Мечта</td>\n",
       "      <td>1</td>\n",
       "    </tr>\n",
       "    <tr>\n",
       "      <th>135917</th>\n",
       "      <td>28.05.2013</td>\n",
       "      <td>892545</td>\n",
       "      <td>Мечта</td>\n",
       "      <td>3</td>\n",
       "    </tr>\n",
       "    <tr>\n",
       "      <th>135918</th>\n",
       "      <td>29.05.2013</td>\n",
       "      <td>892545</td>\n",
       "      <td>Мечта</td>\n",
       "      <td>4</td>\n",
       "    </tr>\n",
       "    <tr>\n",
       "      <th>135919</th>\n",
       "      <td>30.05.2013</td>\n",
       "      <td>892545</td>\n",
       "      <td>Мечта</td>\n",
       "      <td>1</td>\n",
       "    </tr>\n",
       "  </tbody>\n",
       "</table>\n",
       "<p>135920 rows × 4 columns</p>\n",
       "</div>"
      ],
      "text/plain": [
       "              date  product_code rest_code  product_count\n",
       "0       06.01.2009        824021   Озерный              4\n",
       "1       06.01.2009        824068   Озерный              1\n",
       "2       06.01.2009        824070   Озерный              2\n",
       "3       06.01.2009        824073   Озерный              1\n",
       "4       06.01.2009        824074   Озерный              1\n",
       "...            ...           ...       ...            ...\n",
       "135915  26.05.2013        892545     Мечта              3\n",
       "135916  27.05.2013        892545     Мечта              1\n",
       "135917  28.05.2013        892545     Мечта              3\n",
       "135918  29.05.2013        892545     Мечта              4\n",
       "135919  30.05.2013        892545     Мечта              1\n",
       "\n",
       "[135920 rows x 4 columns]"
      ]
     },
     "execution_count": 21,
     "metadata": {},
     "output_type": "execute_result"
    }
   ],
   "source": [
    "df"
   ]
  },
  {
   "cell_type": "code",
   "execution_count": 22,
   "id": "367820d8-9387-445f-86a8-712e282e931e",
   "metadata": {},
   "outputs": [
    {
     "data": {
      "text/plain": [
       "<AxesSubplot:title={'center':'product_count'}, xlabel='rest_code'>"
      ]
     },
     "execution_count": 22,
     "metadata": {},
     "output_type": "execute_result"
    },
    {
     "data": {
      "image/png": "[encoded data removed]",
      "text/plain": [
       "<Figure size 432x288 with 1 Axes>"
      ]
     },
     "metadata": {
      "needs_background": "light"
     },
     "output_type": "display_data"
    }
   ],
   "source": [
    "df.boxplot(column='product_count', by='rest_code')"
   ]
  },
  {
   "cell_type": "code",
   "execution_count": null,
   "id": "eb38d07b-4c23-4506-972f-c8b0e59dc14b",
   "metadata": {},
   "outputs": [],
   "source": []
  },
  {
   "cell_type": "code",
   "execution_count": null,
   "id": "10e7ebbb-1278-468c-acd3-5a19b8135784",
   "metadata": {},
   "outputs": [],
   "source": []
  },
  {
   "cell_type": "code",
   "execution_count": null,
   "id": "46e27f4a-b756-4d9e-a28e-38695623e2e8",
   "metadata": {},
   "outputs": [],
   "source": []
  }
 ],
 "metadata": {
  "kernelspec": {
   "display_name": "Python 3",
   "language": "python",
   "name": "python3"
  },
  "language_info": {
   "codemirror_mode": {
    "name": "ipython",
    "version": 3
   },
   "file_extension": ".py",
   "mimetype": "text/x-python",
   "name": "python",
   "nbconvert_exporter": "python",
   "pygments_lexer": "ipython3",
   "version": "3.8.8"
  }
 },
 "nbformat": 4,
 "nbformat_minor": 5
}
