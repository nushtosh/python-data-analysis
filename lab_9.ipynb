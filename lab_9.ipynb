{
 "cells": [
  {
   "cell_type": "code",
   "execution_count": 5,
   "id": "21c880d3-3e85-4306-be00-50aa8b2409be",
   "metadata": {
    "jupyter": {
     "source_hidden": true
    },
    "tags": []
   },
   "outputs": [],
   "source": [
    "import pandas as pd\n",
    "import numpy as np\n",
    "import matplotlib\n",
    "import matplotlib.pyplot as plt\n",
    "matplotlib.style.use('ggplot')\n",
    "%matplotlib inline\n",
    "import os\n",
    "\n",
    "os.chdir(\"C:\\\\Users\\\\olya\\\\Downloads\")\n",
    "import xml.etree.ElementTree as ET"
   ]
  },
  {
   "cell_type": "code",
   "execution_count": 136,
   "id": "7d183fbf-96ee-46c3-824c-8d675bf0145e",
   "metadata": {},
   "outputs": [
    {
     "data": {
      "text/html": [
       "<div>\n",
       "<style scoped>\n",
       "    .dataframe tbody tr th:only-of-type {\n",
       "        vertical-align: middle;\n",
       "    }\n",
       "\n",
       "    .dataframe tbody tr th {\n",
       "        vertical-align: top;\n",
       "    }\n",
       "\n",
       "    .dataframe thead th {\n",
       "        text-align: right;\n",
       "    }\n",
       "</style>\n",
       "<table border=\"1\" class=\"dataframe\">\n",
       "  <thead>\n",
       "    <tr style=\"text-align: right;\">\n",
       "      <th></th>\n",
       "      <th>0</th>\n",
       "      <th>1</th>\n",
       "      <th>2</th>\n",
       "    </tr>\n",
       "  </thead>\n",
       "  <tbody>\n",
       "    <tr>\n",
       "      <th>DATA_RECORD</th>\n",
       "      <td>243887</td>\n",
       "      <td>01.01.2009 0:00:00.000000</td>\n",
       "      <td>1</td>\n",
       "    </tr>\n",
       "    <tr>\n",
       "      <th>DATA_RECORD</th>\n",
       "      <td>243068</td>\n",
       "      <td>01.01.2009 0:00:00.000000</td>\n",
       "      <td>2</td>\n",
       "    </tr>\n",
       "    <tr>\n",
       "      <th>DATA_RECORD</th>\n",
       "      <td>242266</td>\n",
       "      <td>01.01.2009 0:00:00.000000</td>\n",
       "      <td>3</td>\n",
       "    </tr>\n",
       "    <tr>\n",
       "      <th>DATA_RECORD</th>\n",
       "      <td>242659</td>\n",
       "      <td>01.01.2009 0:00:00.000000</td>\n",
       "      <td>4</td>\n",
       "    </tr>\n",
       "    <tr>\n",
       "      <th>DATA_RECORD</th>\n",
       "      <td>243724</td>\n",
       "      <td>01.01.2009 0:00:00.000000</td>\n",
       "      <td>5</td>\n",
       "    </tr>\n",
       "    <tr>\n",
       "      <th>...</th>\n",
       "      <td>...</td>\n",
       "      <td>...</td>\n",
       "      <td>...</td>\n",
       "    </tr>\n",
       "    <tr>\n",
       "      <th>DATA_RECORD</th>\n",
       "      <td>371835</td>\n",
       "      <td>31.12.2010 0:00:00.000000</td>\n",
       "      <td>20</td>\n",
       "    </tr>\n",
       "    <tr>\n",
       "      <th>DATA_RECORD</th>\n",
       "      <td>370674</td>\n",
       "      <td>31.12.2010 0:00:00.000000</td>\n",
       "      <td>21</td>\n",
       "    </tr>\n",
       "    <tr>\n",
       "      <th>DATA_RECORD</th>\n",
       "      <td>369646</td>\n",
       "      <td>31.12.2010 0:00:00.000000</td>\n",
       "      <td>22</td>\n",
       "    </tr>\n",
       "    <tr>\n",
       "      <th>DATA_RECORD</th>\n",
       "      <td>365917</td>\n",
       "      <td>31.12.2010 0:00:00.000000</td>\n",
       "      <td>23</td>\n",
       "    </tr>\n",
       "    <tr>\n",
       "      <th>DATA_RECORD</th>\n",
       "      <td>362311</td>\n",
       "      <td>31.12.2010 0:00:00.000000</td>\n",
       "      <td>24</td>\n",
       "    </tr>\n",
       "  </tbody>\n",
       "</table>\n",
       "<p>17518 rows × 3 columns</p>\n",
       "</div>"
      ],
      "text/plain": [
       "                  0                          1   2\n",
       "DATA_RECORD  243887  01.01.2009 0:00:00.000000   1\n",
       "DATA_RECORD  243068  01.01.2009 0:00:00.000000   2\n",
       "DATA_RECORD  242266  01.01.2009 0:00:00.000000   3\n",
       "DATA_RECORD  242659  01.01.2009 0:00:00.000000   4\n",
       "DATA_RECORD  243724  01.01.2009 0:00:00.000000   5\n",
       "...             ...                        ...  ..\n",
       "DATA_RECORD  371835  31.12.2010 0:00:00.000000  20\n",
       "DATA_RECORD  370674  31.12.2010 0:00:00.000000  21\n",
       "DATA_RECORD  369646  31.12.2010 0:00:00.000000  22\n",
       "DATA_RECORD  365917  31.12.2010 0:00:00.000000  23\n",
       "DATA_RECORD  362311  31.12.2010 0:00:00.000000  24\n",
       "\n",
       "[17518 rows x 3 columns]"
      ]
     },
     "execution_count": 136,
     "metadata": {},
     "output_type": "execute_result"
    }
   ],
   "source": [
    "\n",
    "df = open('electric power.xml', 'r').read()\n",
    "root = ET.XML(df)\n",
    "\n",
    "data = []\n",
    "cols = []\n",
    "for i, child in enumerate(root):\n",
    "    data.append([subchild.text for subchild in child])\n",
    "    cols.append(child.tag)\n",
    "\n",
    "df = pd.DataFrame(data).T  # Write in DF and transpose it\n",
    "df.columns = cols  # Update column names\n",
    "df=df.transpose()\n",
    "df"
   ]
  },
  {
   "cell_type": "code",
   "execution_count": 137,
   "id": "51c82305-fcb0-4ed9-b87e-0fb305e38015",
   "metadata": {
    "collapsed": true,
    "jupyter": {
     "outputs_hidden": true
    },
    "tags": []
   },
   "outputs": [
    {
     "data": {
      "text/html": [
       "<div>\n",
       "<style scoped>\n",
       "    .dataframe tbody tr th:only-of-type {\n",
       "        vertical-align: middle;\n",
       "    }\n",
       "\n",
       "    .dataframe tbody tr th {\n",
       "        vertical-align: top;\n",
       "    }\n",
       "\n",
       "    .dataframe thead th {\n",
       "        text-align: right;\n",
       "    }\n",
       "</style>\n",
       "<table border=\"1\" class=\"dataframe\">\n",
       "  <thead>\n",
       "    <tr style=\"text-align: right;\">\n",
       "      <th></th>\n",
       "      <th>quant</th>\n",
       "      <th>date</th>\n",
       "      <th>hour</th>\n",
       "    </tr>\n",
       "  </thead>\n",
       "  <tbody>\n",
       "    <tr>\n",
       "      <th>DATA_RECORD</th>\n",
       "      <td>243887</td>\n",
       "      <td>01.01.2009 0:00:00.000000</td>\n",
       "      <td>1</td>\n",
       "    </tr>\n",
       "    <tr>\n",
       "      <th>DATA_RECORD</th>\n",
       "      <td>243068</td>\n",
       "      <td>01.01.2009 0:00:00.000000</td>\n",
       "      <td>2</td>\n",
       "    </tr>\n",
       "    <tr>\n",
       "      <th>DATA_RECORD</th>\n",
       "      <td>242266</td>\n",
       "      <td>01.01.2009 0:00:00.000000</td>\n",
       "      <td>3</td>\n",
       "    </tr>\n",
       "    <tr>\n",
       "      <th>DATA_RECORD</th>\n",
       "      <td>242659</td>\n",
       "      <td>01.01.2009 0:00:00.000000</td>\n",
       "      <td>4</td>\n",
       "    </tr>\n",
       "    <tr>\n",
       "      <th>DATA_RECORD</th>\n",
       "      <td>243724</td>\n",
       "      <td>01.01.2009 0:00:00.000000</td>\n",
       "      <td>5</td>\n",
       "    </tr>\n",
       "    <tr>\n",
       "      <th>...</th>\n",
       "      <td>...</td>\n",
       "      <td>...</td>\n",
       "      <td>...</td>\n",
       "    </tr>\n",
       "    <tr>\n",
       "      <th>DATA_RECORD</th>\n",
       "      <td>371835</td>\n",
       "      <td>31.12.2010 0:00:00.000000</td>\n",
       "      <td>20</td>\n",
       "    </tr>\n",
       "    <tr>\n",
       "      <th>DATA_RECORD</th>\n",
       "      <td>370674</td>\n",
       "      <td>31.12.2010 0:00:00.000000</td>\n",
       "      <td>21</td>\n",
       "    </tr>\n",
       "    <tr>\n",
       "      <th>DATA_RECORD</th>\n",
       "      <td>369646</td>\n",
       "      <td>31.12.2010 0:00:00.000000</td>\n",
       "      <td>22</td>\n",
       "    </tr>\n",
       "    <tr>\n",
       "      <th>DATA_RECORD</th>\n",
       "      <td>365917</td>\n",
       "      <td>31.12.2010 0:00:00.000000</td>\n",
       "      <td>23</td>\n",
       "    </tr>\n",
       "    <tr>\n",
       "      <th>DATA_RECORD</th>\n",
       "      <td>362311</td>\n",
       "      <td>31.12.2010 0:00:00.000000</td>\n",
       "      <td>24</td>\n",
       "    </tr>\n",
       "  </tbody>\n",
       "</table>\n",
       "<p>17518 rows × 3 columns</p>\n",
       "</div>"
      ],
      "text/plain": [
       "              quant                       date hour\n",
       "DATA_RECORD  243887  01.01.2009 0:00:00.000000    1\n",
       "DATA_RECORD  243068  01.01.2009 0:00:00.000000    2\n",
       "DATA_RECORD  242266  01.01.2009 0:00:00.000000    3\n",
       "DATA_RECORD  242659  01.01.2009 0:00:00.000000    4\n",
       "DATA_RECORD  243724  01.01.2009 0:00:00.000000    5\n",
       "...             ...                        ...  ...\n",
       "DATA_RECORD  371835  31.12.2010 0:00:00.000000   20\n",
       "DATA_RECORD  370674  31.12.2010 0:00:00.000000   21\n",
       "DATA_RECORD  369646  31.12.2010 0:00:00.000000   22\n",
       "DATA_RECORD  365917  31.12.2010 0:00:00.000000   23\n",
       "DATA_RECORD  362311  31.12.2010 0:00:00.000000   24\n",
       "\n",
       "[17518 rows x 3 columns]"
      ]
     },
     "execution_count": 137,
     "metadata": {},
     "output_type": "execute_result"
    }
   ],
   "source": [
    "df = df.rename(columns={0: 'quant'})\n",
    "df = df.rename(columns={1: 'date'})\n",
    "df = df.rename(columns={2: 'hour'})\n",
    "df"
   ]
  },
  {
   "cell_type": "code",
   "execution_count": 138,
   "id": "e8d36cbe-a386-4200-995c-8a61ca9303be",
   "metadata": {
    "collapsed": true,
    "jupyter": {
     "outputs_hidden": true
    },
    "tags": []
   },
   "outputs": [
    {
     "data": {
      "text/html": [
       "<div>\n",
       "<style scoped>\n",
       "    .dataframe tbody tr th:only-of-type {\n",
       "        vertical-align: middle;\n",
       "    }\n",
       "\n",
       "    .dataframe tbody tr th {\n",
       "        vertical-align: top;\n",
       "    }\n",
       "\n",
       "    .dataframe thead th {\n",
       "        text-align: right;\n",
       "    }\n",
       "</style>\n",
       "<table border=\"1\" class=\"dataframe\">\n",
       "  <thead>\n",
       "    <tr style=\"text-align: right;\">\n",
       "      <th></th>\n",
       "      <th>quant</th>\n",
       "      <th>date</th>\n",
       "      <th>hour</th>\n",
       "    </tr>\n",
       "  </thead>\n",
       "  <tbody>\n",
       "    <tr>\n",
       "      <th>0</th>\n",
       "      <td>243887</td>\n",
       "      <td>01.01.2009 0:00:00.000000</td>\n",
       "      <td>1</td>\n",
       "    </tr>\n",
       "    <tr>\n",
       "      <th>1</th>\n",
       "      <td>243068</td>\n",
       "      <td>01.01.2009 0:00:00.000000</td>\n",
       "      <td>2</td>\n",
       "    </tr>\n",
       "    <tr>\n",
       "      <th>2</th>\n",
       "      <td>242266</td>\n",
       "      <td>01.01.2009 0:00:00.000000</td>\n",
       "      <td>3</td>\n",
       "    </tr>\n",
       "    <tr>\n",
       "      <th>3</th>\n",
       "      <td>242659</td>\n",
       "      <td>01.01.2009 0:00:00.000000</td>\n",
       "      <td>4</td>\n",
       "    </tr>\n",
       "    <tr>\n",
       "      <th>4</th>\n",
       "      <td>243724</td>\n",
       "      <td>01.01.2009 0:00:00.000000</td>\n",
       "      <td>5</td>\n",
       "    </tr>\n",
       "    <tr>\n",
       "      <th>...</th>\n",
       "      <td>...</td>\n",
       "      <td>...</td>\n",
       "      <td>...</td>\n",
       "    </tr>\n",
       "    <tr>\n",
       "      <th>17513</th>\n",
       "      <td>371835</td>\n",
       "      <td>31.12.2010 0:00:00.000000</td>\n",
       "      <td>20</td>\n",
       "    </tr>\n",
       "    <tr>\n",
       "      <th>17514</th>\n",
       "      <td>370674</td>\n",
       "      <td>31.12.2010 0:00:00.000000</td>\n",
       "      <td>21</td>\n",
       "    </tr>\n",
       "    <tr>\n",
       "      <th>17515</th>\n",
       "      <td>369646</td>\n",
       "      <td>31.12.2010 0:00:00.000000</td>\n",
       "      <td>22</td>\n",
       "    </tr>\n",
       "    <tr>\n",
       "      <th>17516</th>\n",
       "      <td>365917</td>\n",
       "      <td>31.12.2010 0:00:00.000000</td>\n",
       "      <td>23</td>\n",
       "    </tr>\n",
       "    <tr>\n",
       "      <th>17517</th>\n",
       "      <td>362311</td>\n",
       "      <td>31.12.2010 0:00:00.000000</td>\n",
       "      <td>24</td>\n",
       "    </tr>\n",
       "  </tbody>\n",
       "</table>\n",
       "<p>17518 rows × 3 columns</p>\n",
       "</div>"
      ],
      "text/plain": [
       "        quant                       date hour\n",
       "0      243887  01.01.2009 0:00:00.000000    1\n",
       "1      243068  01.01.2009 0:00:00.000000    2\n",
       "2      242266  01.01.2009 0:00:00.000000    3\n",
       "3      242659  01.01.2009 0:00:00.000000    4\n",
       "4      243724  01.01.2009 0:00:00.000000    5\n",
       "...       ...                        ...  ...\n",
       "17513  371835  31.12.2010 0:00:00.000000   20\n",
       "17514  370674  31.12.2010 0:00:00.000000   21\n",
       "17515  369646  31.12.2010 0:00:00.000000   22\n",
       "17516  365917  31.12.2010 0:00:00.000000   23\n",
       "17517  362311  31.12.2010 0:00:00.000000   24\n",
       "\n",
       "[17518 rows x 3 columns]"
      ]
     },
     "execution_count": 138,
     "metadata": {},
     "output_type": "execute_result"
    }
   ],
   "source": [
    "df.index=(range(len(df)))\n",
    "df"
   ]
  },
  {
   "cell_type": "code",
   "execution_count": 139,
   "id": "1bb48b37-a1a0-443d-8a25-38111732699f",
   "metadata": {},
   "outputs": [],
   "source": [
    "df['quant']=df['quant'].astype(str).astype(float)\n",
    "#df['date']=pd.to_datetime(df['date'])\n",
    "df['hour']=df['hour'].astype(str).astype(int)"
   ]
  },
  {
   "cell_type": "code",
   "execution_count": 140,
   "id": "43cdafcc-bf50-475b-9353-22345a244766",
   "metadata": {},
   "outputs": [
    {
     "data": {
      "text/plain": [
       "quant    float64\n",
       "date      object\n",
       "hour       int32\n",
       "dtype: object"
      ]
     },
     "execution_count": 140,
     "metadata": {},
     "output_type": "execute_result"
    }
   ],
   "source": [
    "df.dtypes"
   ]
  },
  {
   "cell_type": "code",
   "execution_count": 141,
   "id": "98a00699-5802-4dac-984e-9b5a2cf327f0",
   "metadata": {
    "collapsed": true,
    "jupyter": {
     "outputs_hidden": true
    },
    "tags": []
   },
   "outputs": [
    {
     "data": {
      "text/html": [
       "<div>\n",
       "<style scoped>\n",
       "    .dataframe tbody tr th:only-of-type {\n",
       "        vertical-align: middle;\n",
       "    }\n",
       "\n",
       "    .dataframe tbody tr th {\n",
       "        vertical-align: top;\n",
       "    }\n",
       "\n",
       "    .dataframe thead th {\n",
       "        text-align: right;\n",
       "    }\n",
       "</style>\n",
       "<table border=\"1\" class=\"dataframe\">\n",
       "  <thead>\n",
       "    <tr style=\"text-align: right;\">\n",
       "      <th></th>\n",
       "      <th>quant</th>\n",
       "      <th>date</th>\n",
       "      <th>hour</th>\n",
       "    </tr>\n",
       "  </thead>\n",
       "  <tbody>\n",
       "    <tr>\n",
       "      <th>0</th>\n",
       "      <td>243887.0</td>\n",
       "      <td>01.01.2009 0:00:00.000000</td>\n",
       "      <td>1</td>\n",
       "    </tr>\n",
       "    <tr>\n",
       "      <th>1</th>\n",
       "      <td>243068.0</td>\n",
       "      <td>01.01.2009 0:00:00.000000</td>\n",
       "      <td>2</td>\n",
       "    </tr>\n",
       "    <tr>\n",
       "      <th>2</th>\n",
       "      <td>242266.0</td>\n",
       "      <td>01.01.2009 0:00:00.000000</td>\n",
       "      <td>3</td>\n",
       "    </tr>\n",
       "    <tr>\n",
       "      <th>3</th>\n",
       "      <td>242659.0</td>\n",
       "      <td>01.01.2009 0:00:00.000000</td>\n",
       "      <td>4</td>\n",
       "    </tr>\n",
       "    <tr>\n",
       "      <th>4</th>\n",
       "      <td>243724.0</td>\n",
       "      <td>01.01.2009 0:00:00.000000</td>\n",
       "      <td>5</td>\n",
       "    </tr>\n",
       "    <tr>\n",
       "      <th>...</th>\n",
       "      <td>...</td>\n",
       "      <td>...</td>\n",
       "      <td>...</td>\n",
       "    </tr>\n",
       "    <tr>\n",
       "      <th>17513</th>\n",
       "      <td>371835.0</td>\n",
       "      <td>31.12.2010 0:00:00.000000</td>\n",
       "      <td>20</td>\n",
       "    </tr>\n",
       "    <tr>\n",
       "      <th>17514</th>\n",
       "      <td>370674.0</td>\n",
       "      <td>31.12.2010 0:00:00.000000</td>\n",
       "      <td>21</td>\n",
       "    </tr>\n",
       "    <tr>\n",
       "      <th>17515</th>\n",
       "      <td>369646.0</td>\n",
       "      <td>31.12.2010 0:00:00.000000</td>\n",
       "      <td>22</td>\n",
       "    </tr>\n",
       "    <tr>\n",
       "      <th>17516</th>\n",
       "      <td>365917.0</td>\n",
       "      <td>31.12.2010 0:00:00.000000</td>\n",
       "      <td>23</td>\n",
       "    </tr>\n",
       "    <tr>\n",
       "      <th>17517</th>\n",
       "      <td>362311.0</td>\n",
       "      <td>31.12.2010 0:00:00.000000</td>\n",
       "      <td>24</td>\n",
       "    </tr>\n",
       "  </tbody>\n",
       "</table>\n",
       "<p>17518 rows × 3 columns</p>\n",
       "</div>"
      ],
      "text/plain": [
       "          quant                       date  hour\n",
       "0      243887.0  01.01.2009 0:00:00.000000     1\n",
       "1      243068.0  01.01.2009 0:00:00.000000     2\n",
       "2      242266.0  01.01.2009 0:00:00.000000     3\n",
       "3      242659.0  01.01.2009 0:00:00.000000     4\n",
       "4      243724.0  01.01.2009 0:00:00.000000     5\n",
       "...         ...                        ...   ...\n",
       "17513  371835.0  31.12.2010 0:00:00.000000    20\n",
       "17514  370674.0  31.12.2010 0:00:00.000000    21\n",
       "17515  369646.0  31.12.2010 0:00:00.000000    22\n",
       "17516  365917.0  31.12.2010 0:00:00.000000    23\n",
       "17517  362311.0  31.12.2010 0:00:00.000000    24\n",
       "\n",
       "[17518 rows x 3 columns]"
      ]
     },
     "execution_count": 141,
     "metadata": {},
     "output_type": "execute_result"
    }
   ],
   "source": [
    "df"
   ]
  },
  {
   "cell_type": "code",
   "execution_count": 142,
   "id": "d2b16b92-fc6e-4436-97cf-5a317dd48e4a",
   "metadata": {
    "tags": []
   },
   "outputs": [
    {
     "data": {
      "text/plain": [
       "<bound method DataFrame.count of           quant                       date  hour\n",
       "2      242266.0  01.01.2009 0:00:00.000000     3\n",
       "26     242270.0  02.01.2009 0:00:00.000000     3\n",
       "50     245231.0  03.01.2009 0:00:00.000000     3\n",
       "74     248550.0  04.01.2009 0:00:00.000000     3\n",
       "98     252412.0  05.01.2009 0:00:00.000000     3\n",
       "...         ...                        ...   ...\n",
       "17400  260913.0  27.12.2010 0:00:00.000000     3\n",
       "17424  263762.0  28.12.2010 0:00:00.000000     3\n",
       "17448  329908.0  29.12.2010 0:00:00.000000     3\n",
       "17472  337204.0  30.12.2010 0:00:00.000000     3\n",
       "17496  336900.0  31.12.2010 0:00:00.000000     3\n",
       "\n",
       "[728 rows x 3 columns]>"
      ]
     },
     "execution_count": 142,
     "metadata": {},
     "output_type": "execute_result"
    }
   ],
   "source": [
    "df[df['hour']==3].count"
   ]
  },
  {
   "cell_type": "code",
   "execution_count": 337,
   "id": "b938144d-91fd-4527-bfac-c96db44ff2ac",
   "metadata": {},
   "outputs": [
    {
     "data": {
      "text/html": [
       "<div>\n",
       "<style scoped>\n",
       "    .dataframe tbody tr th:only-of-type {\n",
       "        vertical-align: middle;\n",
       "    }\n",
       "\n",
       "    .dataframe tbody tr th {\n",
       "        vertical-align: top;\n",
       "    }\n",
       "\n",
       "    .dataframe thead th {\n",
       "        text-align: right;\n",
       "    }\n",
       "</style>\n",
       "<table border=\"1\" class=\"dataframe\">\n",
       "  <thead>\n",
       "    <tr style=\"text-align: right;\">\n",
       "      <th></th>\n",
       "      <th>date</th>\n",
       "      <th>record</th>\n",
       "    </tr>\n",
       "  </thead>\n",
       "  <tbody>\n",
       "    <tr>\n",
       "      <th>0</th>\n",
       "      <td>0</td>\n",
       "      <td>0</td>\n",
       "    </tr>\n",
       "  </tbody>\n",
       "</table>\n",
       "</div>"
      ],
      "text/plain": [
       "  date  record\n",
       "0    0       0"
      ]
     },
     "execution_count": 337,
     "metadata": {},
     "output_type": "execute_result"
    }
   ],
   "source": [
    "sutki = pd.DataFrame({'date': ['0'], 'record': [0]})\n",
    "sutki"
   ]
  },
  {
   "cell_type": "code",
   "execution_count": 338,
   "id": "ef349836-016f-45ef-acb5-e0e38e100819",
   "metadata": {
    "collapsed": true,
    "jupyter": {
     "outputs_hidden": true
    },
    "tags": []
   },
   "outputs": [
    {
     "data": {
      "text/html": [
       "<div>\n",
       "<style scoped>\n",
       "    .dataframe tbody tr th:only-of-type {\n",
       "        vertical-align: middle;\n",
       "    }\n",
       "\n",
       "    .dataframe tbody tr th {\n",
       "        vertical-align: top;\n",
       "    }\n",
       "\n",
       "    .dataframe thead th {\n",
       "        text-align: right;\n",
       "    }\n",
       "</style>\n",
       "<table border=\"1\" class=\"dataframe\">\n",
       "  <thead>\n",
       "    <tr style=\"text-align: right;\">\n",
       "      <th></th>\n",
       "      <th>date</th>\n",
       "      <th>record</th>\n",
       "    </tr>\n",
       "  </thead>\n",
       "  <tbody>\n",
       "    <tr>\n",
       "      <th>0</th>\n",
       "      <td>0</td>\n",
       "      <td>0.0</td>\n",
       "    </tr>\n",
       "    <tr>\n",
       "      <th>1</th>\n",
       "      <td>01.01.2009 0:00:00.000000</td>\n",
       "      <td>5830312.0</td>\n",
       "    </tr>\n",
       "    <tr>\n",
       "      <th>2</th>\n",
       "      <td>02.01.2009 0:00:00.000000</td>\n",
       "      <td>5865441.0</td>\n",
       "    </tr>\n",
       "    <tr>\n",
       "      <th>3</th>\n",
       "      <td>03.01.2009 0:00:00.000000</td>\n",
       "      <td>5949114.0</td>\n",
       "    </tr>\n",
       "    <tr>\n",
       "      <th>4</th>\n",
       "      <td>04.01.2009 0:00:00.000000</td>\n",
       "      <td>6067779.0</td>\n",
       "    </tr>\n",
       "    <tr>\n",
       "      <th>...</th>\n",
       "      <td>...</td>\n",
       "      <td>...</td>\n",
       "    </tr>\n",
       "    <tr>\n",
       "      <th>726</th>\n",
       "      <td>27.12.2010 0:00:00.000000</td>\n",
       "      <td>6624696.0</td>\n",
       "    </tr>\n",
       "    <tr>\n",
       "      <th>727</th>\n",
       "      <td>28.12.2010 0:00:00.000000</td>\n",
       "      <td>7543819.0</td>\n",
       "    </tr>\n",
       "    <tr>\n",
       "      <th>728</th>\n",
       "      <td>29.12.2010 0:00:00.000000</td>\n",
       "      <td>8790105.0</td>\n",
       "    </tr>\n",
       "    <tr>\n",
       "      <th>729</th>\n",
       "      <td>30.12.2010 0:00:00.000000</td>\n",
       "      <td>8876376.0</td>\n",
       "    </tr>\n",
       "    <tr>\n",
       "      <th>730</th>\n",
       "      <td>31.12.2010 0:00:00.000000</td>\n",
       "      <td>8631863.0</td>\n",
       "    </tr>\n",
       "  </tbody>\n",
       "</table>\n",
       "<p>731 rows × 2 columns</p>\n",
       "</div>"
      ],
      "text/plain": [
       "                          date     record\n",
       "0                            0        0.0\n",
       "1    01.01.2009 0:00:00.000000  5830312.0\n",
       "2    02.01.2009 0:00:00.000000  5865441.0\n",
       "3    03.01.2009 0:00:00.000000  5949114.0\n",
       "4    04.01.2009 0:00:00.000000  6067779.0\n",
       "..                         ...        ...\n",
       "726  27.12.2010 0:00:00.000000  6624696.0\n",
       "727  28.12.2010 0:00:00.000000  7543819.0\n",
       "728  29.12.2010 0:00:00.000000  8790105.0\n",
       "729  30.12.2010 0:00:00.000000  8876376.0\n",
       "730  31.12.2010 0:00:00.000000  8631863.0\n",
       "\n",
       "[731 rows x 2 columns]"
      ]
     },
     "execution_count": 338,
     "metadata": {},
     "output_type": "execute_result"
    }
   ],
   "source": [
    "i = 0\n",
    "while i < 17518:\n",
    "    aaa=df.loc[i].at['quant']\n",
    "    flag=1\n",
    "    for t in range(1,24):\n",
    "        if (df.loc[i+t].at['hour']==3):\n",
    "            flag=flag*0\n",
    "    if (flag==0):\n",
    "        for t in range(1,24):\n",
    "            aaa+=df.loc[i+t].at['quant']\n",
    "        i=i+24\n",
    "    else:\n",
    "        for t in range(1,23):\n",
    "            aaa+=df.loc[i+t].at['quant']\n",
    "        i=i+23\n",
    "    new_row = {'record':aaa, 'date':df.loc[i-1].at['date']}\n",
    "    sutki = sutki.append(new_row, ignore_index=True)\n",
    "sutki"
   ]
  },
  {
   "cell_type": "code",
   "execution_count": 339,
   "id": "d097cef9-1698-4662-bb68-b81cab57c74c",
   "metadata": {},
   "outputs": [],
   "source": [
    "sutki['date']=sutki['date'].astype(str)"
   ]
  },
  {
   "cell_type": "code",
   "execution_count": 340,
   "id": "68f97bf0-a3d3-44f2-a6af-33beed6767da",
   "metadata": {
    "collapsed": true,
    "jupyter": {
     "outputs_hidden": true
    },
    "tags": []
   },
   "outputs": [
    {
     "data": {
      "text/html": [
       "<div>\n",
       "<style scoped>\n",
       "    .dataframe tbody tr th:only-of-type {\n",
       "        vertical-align: middle;\n",
       "    }\n",
       "\n",
       "    .dataframe tbody tr th {\n",
       "        vertical-align: top;\n",
       "    }\n",
       "\n",
       "    .dataframe thead th {\n",
       "        text-align: right;\n",
       "    }\n",
       "</style>\n",
       "<table border=\"1\" class=\"dataframe\">\n",
       "  <thead>\n",
       "    <tr style=\"text-align: right;\">\n",
       "      <th></th>\n",
       "      <th>date</th>\n",
       "      <th>record</th>\n",
       "    </tr>\n",
       "  </thead>\n",
       "  <tbody>\n",
       "    <tr>\n",
       "      <th>0</th>\n",
       "      <td>0</td>\n",
       "      <td>0.0</td>\n",
       "    </tr>\n",
       "    <tr>\n",
       "      <th>1</th>\n",
       "      <td>01.01.2009 0:00:00.000000</td>\n",
       "      <td>5830312.0</td>\n",
       "    </tr>\n",
       "    <tr>\n",
       "      <th>2</th>\n",
       "      <td>02.01.2009 0:00:00.000000</td>\n",
       "      <td>5865441.0</td>\n",
       "    </tr>\n",
       "    <tr>\n",
       "      <th>3</th>\n",
       "      <td>03.01.2009 0:00:00.000000</td>\n",
       "      <td>5949114.0</td>\n",
       "    </tr>\n",
       "    <tr>\n",
       "      <th>4</th>\n",
       "      <td>04.01.2009 0:00:00.000000</td>\n",
       "      <td>6067779.0</td>\n",
       "    </tr>\n",
       "    <tr>\n",
       "      <th>...</th>\n",
       "      <td>...</td>\n",
       "      <td>...</td>\n",
       "    </tr>\n",
       "    <tr>\n",
       "      <th>726</th>\n",
       "      <td>27.12.2010 0:00:00.000000</td>\n",
       "      <td>6624696.0</td>\n",
       "    </tr>\n",
       "    <tr>\n",
       "      <th>727</th>\n",
       "      <td>28.12.2010 0:00:00.000000</td>\n",
       "      <td>7543819.0</td>\n",
       "    </tr>\n",
       "    <tr>\n",
       "      <th>728</th>\n",
       "      <td>29.12.2010 0:00:00.000000</td>\n",
       "      <td>8790105.0</td>\n",
       "    </tr>\n",
       "    <tr>\n",
       "      <th>729</th>\n",
       "      <td>30.12.2010 0:00:00.000000</td>\n",
       "      <td>8876376.0</td>\n",
       "    </tr>\n",
       "    <tr>\n",
       "      <th>730</th>\n",
       "      <td>31.12.2010 0:00:00.000000</td>\n",
       "      <td>8631863.0</td>\n",
       "    </tr>\n",
       "  </tbody>\n",
       "</table>\n",
       "<p>731 rows × 2 columns</p>\n",
       "</div>"
      ],
      "text/plain": [
       "                          date     record\n",
       "0                            0        0.0\n",
       "1    01.01.2009 0:00:00.000000  5830312.0\n",
       "2    02.01.2009 0:00:00.000000  5865441.0\n",
       "3    03.01.2009 0:00:00.000000  5949114.0\n",
       "4    04.01.2009 0:00:00.000000  6067779.0\n",
       "..                         ...        ...\n",
       "726  27.12.2010 0:00:00.000000  6624696.0\n",
       "727  28.12.2010 0:00:00.000000  7543819.0\n",
       "728  29.12.2010 0:00:00.000000  8790105.0\n",
       "729  30.12.2010 0:00:00.000000  8876376.0\n",
       "730  31.12.2010 0:00:00.000000  8631863.0\n",
       "\n",
       "[731 rows x 2 columns]"
      ]
     },
     "execution_count": 340,
     "metadata": {},
     "output_type": "execute_result"
    }
   ],
   "source": [
    "sutki"
   ]
  },
  {
   "cell_type": "code",
   "execution_count": 341,
   "id": "1015450b-3c48-4674-8f18-d4bcdf29d26f",
   "metadata": {
    "collapsed": true,
    "jupyter": {
     "outputs_hidden": true
    },
    "tags": []
   },
   "outputs": [
    {
     "data": {
      "text/html": [
       "<div>\n",
       "<style scoped>\n",
       "    .dataframe tbody tr th:only-of-type {\n",
       "        vertical-align: middle;\n",
       "    }\n",
       "\n",
       "    .dataframe tbody tr th {\n",
       "        vertical-align: top;\n",
       "    }\n",
       "\n",
       "    .dataframe thead th {\n",
       "        text-align: right;\n",
       "    }\n",
       "</style>\n",
       "<table border=\"1\" class=\"dataframe\">\n",
       "  <thead>\n",
       "    <tr style=\"text-align: right;\">\n",
       "      <th></th>\n",
       "      <th>date</th>\n",
       "      <th>record</th>\n",
       "    </tr>\n",
       "  </thead>\n",
       "  <tbody>\n",
       "    <tr>\n",
       "      <th>0</th>\n",
       "      <td>0</td>\n",
       "      <td>0.0</td>\n",
       "    </tr>\n",
       "    <tr>\n",
       "      <th>1</th>\n",
       "      <td>01.01.2009</td>\n",
       "      <td>5830312.0</td>\n",
       "    </tr>\n",
       "    <tr>\n",
       "      <th>2</th>\n",
       "      <td>02.01.2009</td>\n",
       "      <td>5865441.0</td>\n",
       "    </tr>\n",
       "    <tr>\n",
       "      <th>3</th>\n",
       "      <td>03.01.2009</td>\n",
       "      <td>5949114.0</td>\n",
       "    </tr>\n",
       "    <tr>\n",
       "      <th>4</th>\n",
       "      <td>04.01.2009</td>\n",
       "      <td>6067779.0</td>\n",
       "    </tr>\n",
       "    <tr>\n",
       "      <th>...</th>\n",
       "      <td>...</td>\n",
       "      <td>...</td>\n",
       "    </tr>\n",
       "    <tr>\n",
       "      <th>726</th>\n",
       "      <td>27.12.2010</td>\n",
       "      <td>6624696.0</td>\n",
       "    </tr>\n",
       "    <tr>\n",
       "      <th>727</th>\n",
       "      <td>28.12.2010</td>\n",
       "      <td>7543819.0</td>\n",
       "    </tr>\n",
       "    <tr>\n",
       "      <th>728</th>\n",
       "      <td>29.12.2010</td>\n",
       "      <td>8790105.0</td>\n",
       "    </tr>\n",
       "    <tr>\n",
       "      <th>729</th>\n",
       "      <td>30.12.2010</td>\n",
       "      <td>8876376.0</td>\n",
       "    </tr>\n",
       "    <tr>\n",
       "      <th>730</th>\n",
       "      <td>31.12.2010</td>\n",
       "      <td>8631863.0</td>\n",
       "    </tr>\n",
       "  </tbody>\n",
       "</table>\n",
       "<p>731 rows × 2 columns</p>\n",
       "</div>"
      ],
      "text/plain": [
       "           date     record\n",
       "0             0        0.0\n",
       "1    01.01.2009  5830312.0\n",
       "2    02.01.2009  5865441.0\n",
       "3    03.01.2009  5949114.0\n",
       "4    04.01.2009  6067779.0\n",
       "..          ...        ...\n",
       "726  27.12.2010  6624696.0\n",
       "727  28.12.2010  7543819.0\n",
       "728  29.12.2010  8790105.0\n",
       "729  30.12.2010  8876376.0\n",
       "730  31.12.2010  8631863.0\n",
       "\n",
       "[731 rows x 2 columns]"
      ]
     },
     "execution_count": 341,
     "metadata": {},
     "output_type": "execute_result"
    }
   ],
   "source": [
    "for i in range(1,731):\n",
    "    aaa = sutki.loc[i].at['date'].split(' ')[0]\n",
    "    sutki.loc[i,'date']=aaa\n",
    "sutki"
   ]
  },
  {
   "cell_type": "code",
   "execution_count": 342,
   "id": "0d1f6223-3ecc-4267-80a4-0e042e16b606",
   "metadata": {
    "collapsed": true,
    "jupyter": {
     "outputs_hidden": true
    },
    "tags": []
   },
   "outputs": [
    {
     "data": {
      "text/html": [
       "<div>\n",
       "<style scoped>\n",
       "    .dataframe tbody tr th:only-of-type {\n",
       "        vertical-align: middle;\n",
       "    }\n",
       "\n",
       "    .dataframe tbody tr th {\n",
       "        vertical-align: top;\n",
       "    }\n",
       "\n",
       "    .dataframe thead th {\n",
       "        text-align: right;\n",
       "    }\n",
       "</style>\n",
       "<table border=\"1\" class=\"dataframe\">\n",
       "  <thead>\n",
       "    <tr style=\"text-align: right;\">\n",
       "      <th></th>\n",
       "      <th>date</th>\n",
       "      <th>record</th>\n",
       "    </tr>\n",
       "  </thead>\n",
       "  <tbody>\n",
       "    <tr>\n",
       "      <th>1</th>\n",
       "      <td>01.01.2009</td>\n",
       "      <td>5830312.0</td>\n",
       "    </tr>\n",
       "    <tr>\n",
       "      <th>2</th>\n",
       "      <td>02.01.2009</td>\n",
       "      <td>5865441.0</td>\n",
       "    </tr>\n",
       "    <tr>\n",
       "      <th>3</th>\n",
       "      <td>03.01.2009</td>\n",
       "      <td>5949114.0</td>\n",
       "    </tr>\n",
       "    <tr>\n",
       "      <th>4</th>\n",
       "      <td>04.01.2009</td>\n",
       "      <td>6067779.0</td>\n",
       "    </tr>\n",
       "    <tr>\n",
       "      <th>5</th>\n",
       "      <td>05.01.2009</td>\n",
       "      <td>6115772.0</td>\n",
       "    </tr>\n",
       "    <tr>\n",
       "      <th>...</th>\n",
       "      <td>...</td>\n",
       "      <td>...</td>\n",
       "    </tr>\n",
       "    <tr>\n",
       "      <th>726</th>\n",
       "      <td>27.12.2010</td>\n",
       "      <td>6624696.0</td>\n",
       "    </tr>\n",
       "    <tr>\n",
       "      <th>727</th>\n",
       "      <td>28.12.2010</td>\n",
       "      <td>7543819.0</td>\n",
       "    </tr>\n",
       "    <tr>\n",
       "      <th>728</th>\n",
       "      <td>29.12.2010</td>\n",
       "      <td>8790105.0</td>\n",
       "    </tr>\n",
       "    <tr>\n",
       "      <th>729</th>\n",
       "      <td>30.12.2010</td>\n",
       "      <td>8876376.0</td>\n",
       "    </tr>\n",
       "    <tr>\n",
       "      <th>730</th>\n",
       "      <td>31.12.2010</td>\n",
       "      <td>8631863.0</td>\n",
       "    </tr>\n",
       "  </tbody>\n",
       "</table>\n",
       "<p>730 rows × 2 columns</p>\n",
       "</div>"
      ],
      "text/plain": [
       "           date     record\n",
       "1    01.01.2009  5830312.0\n",
       "2    02.01.2009  5865441.0\n",
       "3    03.01.2009  5949114.0\n",
       "4    04.01.2009  6067779.0\n",
       "5    05.01.2009  6115772.0\n",
       "..          ...        ...\n",
       "726  27.12.2010  6624696.0\n",
       "727  28.12.2010  7543819.0\n",
       "728  29.12.2010  8790105.0\n",
       "729  30.12.2010  8876376.0\n",
       "730  31.12.2010  8631863.0\n",
       "\n",
       "[730 rows x 2 columns]"
      ]
     },
     "execution_count": 342,
     "metadata": {},
     "output_type": "execute_result"
    }
   ],
   "source": [
    "sutki=sutki.drop(labels = [0],axis = 0)\n",
    "sutki"
   ]
  },
  {
   "cell_type": "code",
   "execution_count": 343,
   "id": "694770a6-de03-4936-8157-27700d8d7465",
   "metadata": {},
   "outputs": [
    {
     "data": {
      "text/html": [
       "<div>\n",
       "<style scoped>\n",
       "    .dataframe tbody tr th:only-of-type {\n",
       "        vertical-align: middle;\n",
       "    }\n",
       "\n",
       "    .dataframe tbody tr th {\n",
       "        vertical-align: top;\n",
       "    }\n",
       "\n",
       "    .dataframe thead th {\n",
       "        text-align: right;\n",
       "    }\n",
       "</style>\n",
       "<table border=\"1\" class=\"dataframe\">\n",
       "  <thead>\n",
       "    <tr style=\"text-align: right;\">\n",
       "      <th></th>\n",
       "      <th>date</th>\n",
       "      <th>record</th>\n",
       "    </tr>\n",
       "  </thead>\n",
       "  <tbody>\n",
       "    <tr>\n",
       "      <th>1</th>\n",
       "      <td>2009-01-01</td>\n",
       "      <td>5830312.0</td>\n",
       "    </tr>\n",
       "    <tr>\n",
       "      <th>2</th>\n",
       "      <td>2009-01-02</td>\n",
       "      <td>5865441.0</td>\n",
       "    </tr>\n",
       "    <tr>\n",
       "      <th>3</th>\n",
       "      <td>2009-01-03</td>\n",
       "      <td>5949114.0</td>\n",
       "    </tr>\n",
       "    <tr>\n",
       "      <th>4</th>\n",
       "      <td>2009-01-04</td>\n",
       "      <td>6067779.0</td>\n",
       "    </tr>\n",
       "    <tr>\n",
       "      <th>5</th>\n",
       "      <td>2009-01-05</td>\n",
       "      <td>6115772.0</td>\n",
       "    </tr>\n",
       "    <tr>\n",
       "      <th>...</th>\n",
       "      <td>...</td>\n",
       "      <td>...</td>\n",
       "    </tr>\n",
       "    <tr>\n",
       "      <th>726</th>\n",
       "      <td>2010-12-27</td>\n",
       "      <td>6624696.0</td>\n",
       "    </tr>\n",
       "    <tr>\n",
       "      <th>727</th>\n",
       "      <td>2010-12-28</td>\n",
       "      <td>7543819.0</td>\n",
       "    </tr>\n",
       "    <tr>\n",
       "      <th>728</th>\n",
       "      <td>2010-12-29</td>\n",
       "      <td>8790105.0</td>\n",
       "    </tr>\n",
       "    <tr>\n",
       "      <th>729</th>\n",
       "      <td>2010-12-30</td>\n",
       "      <td>8876376.0</td>\n",
       "    </tr>\n",
       "    <tr>\n",
       "      <th>730</th>\n",
       "      <td>2010-12-31</td>\n",
       "      <td>8631863.0</td>\n",
       "    </tr>\n",
       "  </tbody>\n",
       "</table>\n",
       "<p>730 rows × 2 columns</p>\n",
       "</div>"
      ],
      "text/plain": [
       "          date     record\n",
       "1   2009-01-01  5830312.0\n",
       "2   2009-01-02  5865441.0\n",
       "3   2009-01-03  5949114.0\n",
       "4   2009-01-04  6067779.0\n",
       "5   2009-01-05  6115772.0\n",
       "..         ...        ...\n",
       "726 2010-12-27  6624696.0\n",
       "727 2010-12-28  7543819.0\n",
       "728 2010-12-29  8790105.0\n",
       "729 2010-12-30  8876376.0\n",
       "730 2010-12-31  8631863.0\n",
       "\n",
       "[730 rows x 2 columns]"
      ]
     },
     "execution_count": 343,
     "metadata": {},
     "output_type": "execute_result"
    }
   ],
   "source": [
    "sutki['date'] = pd.to_datetime(sutki['date'], format='%d.%m.%Y')\n",
    "sutki"
   ]
  },
  {
   "cell_type": "code",
   "execution_count": 344,
   "id": "6c70fc0a-cc29-4c61-827b-969437ff4cc0",
   "metadata": {},
   "outputs": [
    {
     "data": {
      "text/plain": [
       "Text(0, 0.5, 'log10 electricity')"
      ]
     },
     "execution_count": 344,
     "metadata": {},
     "output_type": "execute_result"
    },
    {
     "data": {
      "image/png": "[encoded data removed]",
      "text/plain": [
       "<Figure size 2808x576 with 2 Axes>"
      ]
     },
     "metadata": {
      "needs_background": "light"
     },
     "output_type": "display_data"
    }
   ],
   "source": [
    "fig = plt.figure(figsize=(39, 8))\n",
    "ax1 = fig.add_subplot(121)\n",
    "sutki['record'].plot(ax=ax1)\n",
    "ax1.set_title(u'потребление электричества')\n",
    "ax1.set_ylabel(u'electricity')\n",
    "\n",
    "ax2 = fig.add_subplot(122)\n",
    "pd.Series(np.log10(sutki['record'])).plot(ax=ax2)\n",
    "ax2.set_title(u'log10 от потребление электричества')\n",
    "ax2.set_ylabel(u'log10 electricity')"
   ]
  },
  {
   "cell_type": "code",
   "execution_count": 345,
   "id": "35404158-3ac5-495f-9fba-5c44435ec9e6",
   "metadata": {
    "collapsed": true,
    "jupyter": {
     "outputs_hidden": true
    },
    "tags": []
   },
   "outputs": [
    {
     "data": {
      "text/html": [
       "<div>\n",
       "<style scoped>\n",
       "    .dataframe tbody tr th:only-of-type {\n",
       "        vertical-align: middle;\n",
       "    }\n",
       "\n",
       "    .dataframe tbody tr th {\n",
       "        vertical-align: top;\n",
       "    }\n",
       "\n",
       "    .dataframe thead th {\n",
       "        text-align: right;\n",
       "    }\n",
       "</style>\n",
       "<table border=\"1\" class=\"dataframe\">\n",
       "  <thead>\n",
       "    <tr style=\"text-align: right;\">\n",
       "      <th></th>\n",
       "      <th>date</th>\n",
       "      <th>record</th>\n",
       "    </tr>\n",
       "  </thead>\n",
       "  <tbody>\n",
       "    <tr>\n",
       "      <th>0</th>\n",
       "      <td>2011-01-01</td>\n",
       "      <td>0</td>\n",
       "    </tr>\n",
       "    <tr>\n",
       "      <th>1</th>\n",
       "      <td>2011-01-02</td>\n",
       "      <td>0</td>\n",
       "    </tr>\n",
       "    <tr>\n",
       "      <th>2</th>\n",
       "      <td>2011-01-03</td>\n",
       "      <td>0</td>\n",
       "    </tr>\n",
       "    <tr>\n",
       "      <th>3</th>\n",
       "      <td>2011-01-04</td>\n",
       "      <td>0</td>\n",
       "    </tr>\n",
       "    <tr>\n",
       "      <th>4</th>\n",
       "      <td>2011-01-05</td>\n",
       "      <td>0</td>\n",
       "    </tr>\n",
       "    <tr>\n",
       "      <th>5</th>\n",
       "      <td>2011-01-06</td>\n",
       "      <td>0</td>\n",
       "    </tr>\n",
       "    <tr>\n",
       "      <th>6</th>\n",
       "      <td>2011-01-07</td>\n",
       "      <td>0</td>\n",
       "    </tr>\n",
       "  </tbody>\n",
       "</table>\n",
       "</div>"
      ],
      "text/plain": [
       "        date  record\n",
       "0 2011-01-01       0\n",
       "1 2011-01-02       0\n",
       "2 2011-01-03       0\n",
       "3 2011-01-04       0\n",
       "4 2011-01-05       0\n",
       "5 2011-01-06       0\n",
       "6 2011-01-07       0"
      ]
     },
     "execution_count": 345,
     "metadata": {},
     "output_type": "execute_result"
    }
   ],
   "source": [
    "\n",
    "new_dates = pd.date_range('2011-01-01', '2011-01-07', freq='D')\n",
    "df2 = pd.DataFrame({'date': new_dates,'record':0})\n",
    "df2"
   ]
  },
  {
   "cell_type": "code",
   "execution_count": 346,
   "id": "68a3c265-e648-4b1b-a889-5cb787c6b29e",
   "metadata": {
    "collapsed": true,
    "jupyter": {
     "outputs_hidden": true
    },
    "tags": []
   },
   "outputs": [
    {
     "data": {
      "text/html": [
       "<div>\n",
       "<style scoped>\n",
       "    .dataframe tbody tr th:only-of-type {\n",
       "        vertical-align: middle;\n",
       "    }\n",
       "\n",
       "    .dataframe tbody tr th {\n",
       "        vertical-align: top;\n",
       "    }\n",
       "\n",
       "    .dataframe thead th {\n",
       "        text-align: right;\n",
       "    }\n",
       "</style>\n",
       "<table border=\"1\" class=\"dataframe\">\n",
       "  <thead>\n",
       "    <tr style=\"text-align: right;\">\n",
       "      <th></th>\n",
       "      <th>date</th>\n",
       "      <th>record</th>\n",
       "    </tr>\n",
       "  </thead>\n",
       "  <tbody>\n",
       "    <tr>\n",
       "      <th>0</th>\n",
       "      <td>2009-01-01</td>\n",
       "      <td>5830312.0</td>\n",
       "    </tr>\n",
       "    <tr>\n",
       "      <th>1</th>\n",
       "      <td>2009-01-02</td>\n",
       "      <td>5865441.0</td>\n",
       "    </tr>\n",
       "    <tr>\n",
       "      <th>2</th>\n",
       "      <td>2009-01-03</td>\n",
       "      <td>5949114.0</td>\n",
       "    </tr>\n",
       "    <tr>\n",
       "      <th>3</th>\n",
       "      <td>2009-01-04</td>\n",
       "      <td>6067779.0</td>\n",
       "    </tr>\n",
       "    <tr>\n",
       "      <th>4</th>\n",
       "      <td>2009-01-05</td>\n",
       "      <td>6115772.0</td>\n",
       "    </tr>\n",
       "    <tr>\n",
       "      <th>...</th>\n",
       "      <td>...</td>\n",
       "      <td>...</td>\n",
       "    </tr>\n",
       "    <tr>\n",
       "      <th>732</th>\n",
       "      <td>2011-01-03</td>\n",
       "      <td>0.0</td>\n",
       "    </tr>\n",
       "    <tr>\n",
       "      <th>733</th>\n",
       "      <td>2011-01-04</td>\n",
       "      <td>0.0</td>\n",
       "    </tr>\n",
       "    <tr>\n",
       "      <th>734</th>\n",
       "      <td>2011-01-05</td>\n",
       "      <td>0.0</td>\n",
       "    </tr>\n",
       "    <tr>\n",
       "      <th>735</th>\n",
       "      <td>2011-01-06</td>\n",
       "      <td>0.0</td>\n",
       "    </tr>\n",
       "    <tr>\n",
       "      <th>736</th>\n",
       "      <td>2011-01-07</td>\n",
       "      <td>0.0</td>\n",
       "    </tr>\n",
       "  </tbody>\n",
       "</table>\n",
       "<p>737 rows × 2 columns</p>\n",
       "</div>"
      ],
      "text/plain": [
       "          date     record\n",
       "0   2009-01-01  5830312.0\n",
       "1   2009-01-02  5865441.0\n",
       "2   2009-01-03  5949114.0\n",
       "3   2009-01-04  6067779.0\n",
       "4   2009-01-05  6115772.0\n",
       "..         ...        ...\n",
       "732 2011-01-03        0.0\n",
       "733 2011-01-04        0.0\n",
       "734 2011-01-05        0.0\n",
       "735 2011-01-06        0.0\n",
       "736 2011-01-07        0.0\n",
       "\n",
       "[737 rows x 2 columns]"
      ]
     },
     "execution_count": 346,
     "metadata": {},
     "output_type": "execute_result"
    }
   ],
   "source": [
    "sutki=pd.concat([sutki, df2])\n",
    "sutki.index=(range(len(sutki)))\n",
    "sutki"
   ]
  },
  {
   "cell_type": "code",
   "execution_count": 347,
   "id": "c32d136f-a339-4ff5-b5f2-3619426b84b6",
   "metadata": {},
   "outputs": [
    {
     "data": {
      "text/html": [
       "<div>\n",
       "<style scoped>\n",
       "    .dataframe tbody tr th:only-of-type {\n",
       "        vertical-align: middle;\n",
       "    }\n",
       "\n",
       "    .dataframe tbody tr th {\n",
       "        vertical-align: top;\n",
       "    }\n",
       "\n",
       "    .dataframe thead th {\n",
       "        text-align: right;\n",
       "    }\n",
       "</style>\n",
       "<table border=\"1\" class=\"dataframe\">\n",
       "  <thead>\n",
       "    <tr style=\"text-align: right;\">\n",
       "      <th></th>\n",
       "      <th>date</th>\n",
       "      <th>record</th>\n",
       "    </tr>\n",
       "  </thead>\n",
       "  <tbody>\n",
       "    <tr>\n",
       "      <th>0</th>\n",
       "      <td>2009-01-01</td>\n",
       "      <td>5830312.0</td>\n",
       "    </tr>\n",
       "    <tr>\n",
       "      <th>1</th>\n",
       "      <td>2009-01-02</td>\n",
       "      <td>5865441.0</td>\n",
       "    </tr>\n",
       "    <tr>\n",
       "      <th>2</th>\n",
       "      <td>2009-01-03</td>\n",
       "      <td>5949114.0</td>\n",
       "    </tr>\n",
       "    <tr>\n",
       "      <th>3</th>\n",
       "      <td>2009-01-04</td>\n",
       "      <td>6067779.0</td>\n",
       "    </tr>\n",
       "    <tr>\n",
       "      <th>4</th>\n",
       "      <td>2009-01-05</td>\n",
       "      <td>6115772.0</td>\n",
       "    </tr>\n",
       "    <tr>\n",
       "      <th>...</th>\n",
       "      <td>...</td>\n",
       "      <td>...</td>\n",
       "    </tr>\n",
       "    <tr>\n",
       "      <th>732</th>\n",
       "      <td>2011-01-03</td>\n",
       "      <td>0.0</td>\n",
       "    </tr>\n",
       "    <tr>\n",
       "      <th>733</th>\n",
       "      <td>2011-01-04</td>\n",
       "      <td>0.0</td>\n",
       "    </tr>\n",
       "    <tr>\n",
       "      <th>734</th>\n",
       "      <td>2011-01-05</td>\n",
       "      <td>0.0</td>\n",
       "    </tr>\n",
       "    <tr>\n",
       "      <th>735</th>\n",
       "      <td>2011-01-06</td>\n",
       "      <td>0.0</td>\n",
       "    </tr>\n",
       "    <tr>\n",
       "      <th>736</th>\n",
       "      <td>2011-01-07</td>\n",
       "      <td>0.0</td>\n",
       "    </tr>\n",
       "  </tbody>\n",
       "</table>\n",
       "<p>737 rows × 2 columns</p>\n",
       "</div>"
      ],
      "text/plain": [
       "          date     record\n",
       "0   2009-01-01  5830312.0\n",
       "1   2009-01-02  5865441.0\n",
       "2   2009-01-03  5949114.0\n",
       "3   2009-01-04  6067779.0\n",
       "4   2009-01-05  6115772.0\n",
       "..         ...        ...\n",
       "732 2011-01-03        0.0\n",
       "733 2011-01-04        0.0\n",
       "734 2011-01-05        0.0\n",
       "735 2011-01-06        0.0\n",
       "736 2011-01-07        0.0\n",
       "\n",
       "[737 rows x 2 columns]"
      ]
     },
     "execution_count": 347,
     "metadata": {},
     "output_type": "execute_result"
    }
   ],
   "source": [
    "df2=sutki\n",
    "df2"
   ]
  },
  {
   "cell_type": "code",
   "execution_count": 384,
   "id": "95bbf2b2-1f10-485d-adee-56483ccf743f",
   "metadata": {},
   "outputs": [],
   "source": [
    "from sklearn.linear_model import LinearRegression"
   ]
  },
  {
   "cell_type": "code",
   "execution_count": 349,
   "id": "4072d97f-99ab-4e4e-9a15-27f5a29fc588",
   "metadata": {},
   "outputs": [
    {
     "data": {
      "text/html": [
       "<div>\n",
       "<style scoped>\n",
       "    .dataframe tbody tr th:only-of-type {\n",
       "        vertical-align: middle;\n",
       "    }\n",
       "\n",
       "    .dataframe tbody tr th {\n",
       "        vertical-align: top;\n",
       "    }\n",
       "\n",
       "    .dataframe thead th {\n",
       "        text-align: right;\n",
       "    }\n",
       "</style>\n",
       "<table border=\"1\" class=\"dataframe\">\n",
       "  <thead>\n",
       "    <tr style=\"text-align: right;\">\n",
       "      <th></th>\n",
       "      <th>date</th>\n",
       "      <th>record</th>\n",
       "      <th>days</th>\n",
       "    </tr>\n",
       "  </thead>\n",
       "  <tbody>\n",
       "    <tr>\n",
       "      <th>0</th>\n",
       "      <td>2009-01-01</td>\n",
       "      <td>5830312.0</td>\n",
       "      <td>1</td>\n",
       "    </tr>\n",
       "    <tr>\n",
       "      <th>1</th>\n",
       "      <td>2009-01-02</td>\n",
       "      <td>5865441.0</td>\n",
       "      <td>2</td>\n",
       "    </tr>\n",
       "    <tr>\n",
       "      <th>2</th>\n",
       "      <td>2009-01-03</td>\n",
       "      <td>5949114.0</td>\n",
       "      <td>3</td>\n",
       "    </tr>\n",
       "    <tr>\n",
       "      <th>3</th>\n",
       "      <td>2009-01-04</td>\n",
       "      <td>6067779.0</td>\n",
       "      <td>4</td>\n",
       "    </tr>\n",
       "    <tr>\n",
       "      <th>4</th>\n",
       "      <td>2009-01-05</td>\n",
       "      <td>6115772.0</td>\n",
       "      <td>5</td>\n",
       "    </tr>\n",
       "    <tr>\n",
       "      <th>...</th>\n",
       "      <td>...</td>\n",
       "      <td>...</td>\n",
       "      <td>...</td>\n",
       "    </tr>\n",
       "    <tr>\n",
       "      <th>732</th>\n",
       "      <td>2011-01-03</td>\n",
       "      <td>0.0</td>\n",
       "      <td>733</td>\n",
       "    </tr>\n",
       "    <tr>\n",
       "      <th>733</th>\n",
       "      <td>2011-01-04</td>\n",
       "      <td>0.0</td>\n",
       "      <td>734</td>\n",
       "    </tr>\n",
       "    <tr>\n",
       "      <th>734</th>\n",
       "      <td>2011-01-05</td>\n",
       "      <td>0.0</td>\n",
       "      <td>735</td>\n",
       "    </tr>\n",
       "    <tr>\n",
       "      <th>735</th>\n",
       "      <td>2011-01-06</td>\n",
       "      <td>0.0</td>\n",
       "      <td>736</td>\n",
       "    </tr>\n",
       "    <tr>\n",
       "      <th>736</th>\n",
       "      <td>2011-01-07</td>\n",
       "      <td>0.0</td>\n",
       "      <td>737</td>\n",
       "    </tr>\n",
       "  </tbody>\n",
       "</table>\n",
       "<p>737 rows × 3 columns</p>\n",
       "</div>"
      ],
      "text/plain": [
       "          date     record  days\n",
       "0   2009-01-01  5830312.0     1\n",
       "1   2009-01-02  5865441.0     2\n",
       "2   2009-01-03  5949114.0     3\n",
       "3   2009-01-04  6067779.0     4\n",
       "4   2009-01-05  6115772.0     5\n",
       "..         ...        ...   ...\n",
       "732 2011-01-03        0.0   733\n",
       "733 2011-01-04        0.0   734\n",
       "734 2011-01-05        0.0   735\n",
       "735 2011-01-06        0.0   736\n",
       "736 2011-01-07        0.0   737\n",
       "\n",
       "[737 rows x 3 columns]"
      ]
     },
     "execution_count": 349,
     "metadata": {},
     "output_type": "execute_result"
    }
   ],
   "source": [
    "df2['days'] = range(1, len(df2) + 1)\n",
    "df2"
   ]
  },
  {
   "cell_type": "code",
   "execution_count": 350,
   "id": "bb6520b1-9962-4110-a600-2d68e1ac938f",
   "metadata": {
    "tags": []
   },
   "outputs": [],
   "source": [
    "for x in range(1, 13):\n",
    "    df2['season_' + str(x)] = df2['date'].dt.month == x"
   ]
  },
  {
   "cell_type": "code",
   "execution_count": 351,
   "id": "74916189-d955-4a78-aaf8-8e5d5122c95d",
   "metadata": {},
   "outputs": [
    {
     "data": {
      "text/plain": [
       "['season_2',\n",
       " 'season_3',\n",
       " 'season_4',\n",
       " 'season_5',\n",
       " 'season_6',\n",
       " 'season_7',\n",
       " 'season_8',\n",
       " 'season_9',\n",
       " 'season_10',\n",
       " 'season_11',\n",
       " 'season_12']"
      ]
     },
     "execution_count": 351,
     "metadata": {},
     "output_type": "execute_result"
    }
   ],
   "source": [
    "season_columns = ['season_' + str(x) for x in range(2, 13)]\n",
    "season_columns"
   ]
  },
  {
   "cell_type": "code",
   "execution_count": 352,
   "id": "6f840494-87f9-48cd-86ec-76048df88c82",
   "metadata": {},
   "outputs": [],
   "source": [
    "X = df2[['days'] + season_columns]\n",
    "y = df2['record']"
   ]
  },
  {
   "cell_type": "code",
   "execution_count": 353,
   "id": "20446421-6019-45e6-8bc5-63f14ac9cf40",
   "metadata": {},
   "outputs": [],
   "source": [
    "X1 = X[X.index < 730]\n",
    "y1 = y[y.index < 730]"
   ]
  },
  {
   "cell_type": "code",
   "execution_count": 354,
   "id": "74021a60-e2fb-425b-a57f-1b620243cfa2",
   "metadata": {},
   "outputs": [
    {
     "data": {
      "text/plain": [
       "LinearRegression()"
      ]
     },
     "execution_count": 354,
     "metadata": {},
     "output_type": "execute_result"
    }
   ],
   "source": [
    "model = LinearRegression()\n",
    "model.fit(X1, y1)"
   ]
  },
  {
   "cell_type": "code",
   "execution_count": 355,
   "id": "753ee429-9135-4d1f-822b-14af4fa58030",
   "metadata": {},
   "outputs": [
    {
     "data": {
      "text/plain": [
       "<AxesSubplot:>"
      ]
     },
     "execution_count": 355,
     "metadata": {},
     "output_type": "execute_result"
    },
    {
     "data": {
      "image/png": "[encoded data removed]",
      "text/plain": [
       "<Figure size 432x288 with 1 Axes>"
      ]
     },
     "metadata": {
      "needs_background": "light"
     },
     "output_type": "display_data"
    }
   ],
   "source": [
    "pred = pd.DataFrame({\n",
    "    'pred': model.predict(X1),\n",
    "    'real': y1})\n",
    "pred.plot()"
   ]
  },
  {
   "cell_type": "code",
   "execution_count": 359,
   "id": "c93970cf-e22e-4462-9b57-251ac09bc403",
   "metadata": {
    "collapsed": true,
    "jupyter": {
     "outputs_hidden": true
    },
    "tags": []
   },
   "outputs": [
    {
     "name": "stderr",
     "output_type": "stream",
     "text": [
      "<ipython-input-359-252bca6f803e>:2: SettingWithCopyWarning: \n",
      "A value is trying to be set on a copy of a slice from a DataFrame\n",
      "\n",
      "See the caveats in the documentation: https://pandas.pydata.org/pandas-docs/stable/user_guide/indexing.html#returning-a-view-versus-a-copy\n",
      "  y[i]=None\n"
     ]
    }
   ],
   "source": [
    "for i in range(730,737):\n",
    "    y[i]=None"
   ]
  },
  {
   "cell_type": "code",
   "execution_count": 360,
   "id": "ba558af4-5096-4be5-a88a-5541b5640cbf",
   "metadata": {
    "collapsed": true,
    "jupyter": {
     "outputs_hidden": true
    },
    "tags": []
   },
   "outputs": [
    {
     "data": {
      "text/plain": [
       "0      5830312.0\n",
       "1      5865441.0\n",
       "2      5949114.0\n",
       "3      6067779.0\n",
       "4      6115772.0\n",
       "         ...    \n",
       "732          NaN\n",
       "733          NaN\n",
       "734          NaN\n",
       "735          NaN\n",
       "736          NaN\n",
       "Name: record, Length: 737, dtype: float64"
      ]
     },
     "execution_count": 360,
     "metadata": {},
     "output_type": "execute_result"
    }
   ],
   "source": [
    "y"
   ]
  },
  {
   "cell_type": "code",
   "execution_count": 371,
   "id": "c0b9270d-a130-4021-a0d8-d9f52518eeb5",
   "metadata": {},
   "outputs": [
    {
     "data": {
      "text/plain": [
       "<AxesSubplot:>"
      ]
     },
     "execution_count": 371,
     "metadata": {},
     "output_type": "execute_result"
    },
    {
     "data": {
      "image/png": "[encoded data removed]",
      "text/plain": [
       "<Figure size 2232x576 with 1 Axes>"
      ]
     },
     "metadata": {
      "needs_background": "light"
     },
     "output_type": "display_data"
    }
   ],
   "source": [
    "pred = pd.DataFrame({\n",
    "    'pred': model.predict(X),\n",
    "    'real': y})\n",
    "plt.rcParams[\"figure.figsize\"] = (31, 8)\n",
    "pred.plot()"
   ]
  },
  {
   "cell_type": "code",
   "execution_count": 378,
   "id": "096c4350-ceac-498d-90e7-7810399c41e9",
   "metadata": {},
   "outputs": [],
   "source": [
    "daysrec=model.predict(X)[-7:]\n",
    "daysdat=df2['date'][-7:]"
   ]
  },
  {
   "cell_type": "code",
   "execution_count": 380,
   "id": "a7822e3f-aaf7-4c9a-8c80-73870c3eb32a",
   "metadata": {},
   "outputs": [
    {
     "data": {
      "text/html": [
       "<div>\n",
       "<style scoped>\n",
       "    .dataframe tbody tr th:only-of-type {\n",
       "        vertical-align: middle;\n",
       "    }\n",
       "\n",
       "    .dataframe tbody tr th {\n",
       "        vertical-align: top;\n",
       "    }\n",
       "\n",
       "    .dataframe thead th {\n",
       "        text-align: right;\n",
       "    }\n",
       "</style>\n",
       "<table border=\"1\" class=\"dataframe\">\n",
       "  <thead>\n",
       "    <tr style=\"text-align: right;\">\n",
       "      <th></th>\n",
       "      <th>date</th>\n",
       "      <th>pred</th>\n",
       "    </tr>\n",
       "  </thead>\n",
       "  <tbody>\n",
       "    <tr>\n",
       "      <th>730</th>\n",
       "      <td>2011-01-01</td>\n",
       "      <td>8.662461e+06</td>\n",
       "    </tr>\n",
       "    <tr>\n",
       "      <th>731</th>\n",
       "      <td>2011-01-02</td>\n",
       "      <td>8.666225e+06</td>\n",
       "    </tr>\n",
       "    <tr>\n",
       "      <th>732</th>\n",
       "      <td>2011-01-03</td>\n",
       "      <td>8.669989e+06</td>\n",
       "    </tr>\n",
       "    <tr>\n",
       "      <th>733</th>\n",
       "      <td>2011-01-04</td>\n",
       "      <td>8.673753e+06</td>\n",
       "    </tr>\n",
       "    <tr>\n",
       "      <th>734</th>\n",
       "      <td>2011-01-05</td>\n",
       "      <td>8.677517e+06</td>\n",
       "    </tr>\n",
       "    <tr>\n",
       "      <th>735</th>\n",
       "      <td>2011-01-06</td>\n",
       "      <td>8.681281e+06</td>\n",
       "    </tr>\n",
       "    <tr>\n",
       "      <th>736</th>\n",
       "      <td>2011-01-07</td>\n",
       "      <td>8.685044e+06</td>\n",
       "    </tr>\n",
       "  </tbody>\n",
       "</table>\n",
       "</div>"
      ],
      "text/plain": [
       "          date          pred\n",
       "730 2011-01-01  8.662461e+06\n",
       "731 2011-01-02  8.666225e+06\n",
       "732 2011-01-03  8.669989e+06\n",
       "733 2011-01-04  8.673753e+06\n",
       "734 2011-01-05  8.677517e+06\n",
       "735 2011-01-06  8.681281e+06\n",
       "736 2011-01-07  8.685044e+06"
      ]
     },
     "execution_count": 380,
     "metadata": {},
     "output_type": "execute_result"
    }
   ],
   "source": [
    "seven=pd.DataFrame({\n",
    "    'date': daysdat,\n",
    "    'pred': daysrec})\n",
    "seven"
   ]
  },
  {
   "cell_type": "code",
   "execution_count": 381,
   "id": "6d6247d5-dc15-4add-a8af-bd19ea5ed74d",
   "metadata": {},
   "outputs": [
    {
     "data": {
      "text/plain": [
       "0.8679461749714339"
      ]
     },
     "execution_count": 381,
     "metadata": {},
     "output_type": "execute_result"
    }
   ],
   "source": [
    "r2=(model.score(X1, y1))\n",
    "r2"
   ]
  },
  {
   "cell_type": "code",
   "execution_count": 386,
   "id": "6e48ea31-6924-478c-a09b-e348deec3153",
   "metadata": {},
   "outputs": [],
   "source": [
    "from sklearn import metrics"
   ]
  },
  {
   "cell_type": "code",
   "execution_count": 390,
   "id": "bd9195fa-f905-4c93-bda2-a816d5a98521",
   "metadata": {},
   "outputs": [
    {
     "data": {
      "text/plain": [
       "0.11136777312888836"
      ]
     },
     "execution_count": 390,
     "metadata": {},
     "output_type": "execute_result"
    }
   ],
   "source": [
    "mape=metrics.mean_absolute_percentage_error(y1,model.predict(X1))\n",
    "mape"
   ]
  },
  {
   "cell_type": "code",
   "execution_count": null,
   "id": "5a509570-e96b-4d99-9109-b31491137217",
   "metadata": {},
   "outputs": [],
   "source": []
  }
 ],
 "metadata": {
  "kernelspec": {
   "display_name": "Python 3",
   "language": "python",
   "name": "python3"
  },
  "language_info": {
   "codemirror_mode": {
    "name": "ipython",
    "version": 3
   },
   "file_extension": ".py",
   "mimetype": "text/x-python",
   "name": "python",
   "nbconvert_exporter": "python",
   "pygments_lexer": "ipython3",
   "version": "3.8.8"
  }
 },
 "nbformat": 4,
 "nbformat_minor": 5
}
