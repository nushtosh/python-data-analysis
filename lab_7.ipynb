{
 "cells": [
  {
   "cell_type": "code",
   "execution_count": 1,
   "id": "29fbc9ec-58ce-49dc-91d9-e24e7ee83874",
   "metadata": {},
   "outputs": [],
   "source": [
    "from scipy.stats import norm, chi2_contingency\n",
    "import statsmodels.api as sm\n",
    "import numpy as np\n"
   ]
  },
  {
   "cell_type": "code",
   "execution_count": 2,
   "id": "2b009e21-abab-4253-9f32-ca388bab07f2",
   "metadata": {
    "collapsed": true,
    "jupyter": {
     "outputs_hidden": true
    },
    "tags": []
   },
   "outputs": [
    {
     "ename": "SyntaxError",
     "evalue": "invalid syntax (<ipython-input-2-b2ac47ba8f64>, line 1)",
     "output_type": "error",
     "traceback": [
      "\u001b[1;36m  File \u001b[1;32m\"<ipython-input-2-b2ac47ba8f64>\"\u001b[1;36m, line \u001b[1;32m1\u001b[0m\n\u001b[1;33m    healthy(population-ill)          ill\u001b[0m\n\u001b[1;37m                                     ^\u001b[0m\n\u001b[1;31mSyntaxError\u001b[0m\u001b[1;31m:\u001b[0m invalid syntax\n"
     ]
    }
   ],
   "source": [
    "\n",
    "            healthy(population-ill)          ill\n",
    "spb           4 662 932                     3271\n",
    "moscow        10 811 688                    6305"
   ]
  },
  {
   "cell_type": "code",
   "execution_count": 31,
   "id": "a70d3477-3528-4926-b8c6-d277196e5af1",
   "metadata": {},
   "outputs": [
    {
     "name": "stdout",
     "output_type": "stream",
     "text": [
      "['8.588045835353', '0.000000000000']\n"
     ]
    }
   ],
   "source": [
    "s1 = 3271.0       #  число заболевших спб\n",
    "n1 = 4662932.0      #  число здоровых спб\n",
    "s2 = 6305.0        #  число заболевших москва\n",
    "n2 = 10811688.0      #  число здоровых москва\n",
    "p1 = s1/n1               #  оценка вероятности заболеть спб\n",
    "p2 = s2/n2               #  оценка вероятности заболеть москва\n",
    "p = (s1 + s2)/(n1+n2)    #  оценка вероятности заболеть спб+москва\n",
    "z = (p2-p1)/((p*(1-p)*((1/n1)+(1/n2)))**0.5)  #  z-метка\n",
    "\n",
    "p_value = norm.cdf(z)\n",
    "\n",
    "#  z-метка и p-значение\n",
    "print(['{:.12f}'.format(a) for a in (abs(z), p_value * 2)])"
   ]
  },
  {
   "cell_type": "code",
   "execution_count": 32,
   "id": "4e832b1f-657e-45cd-aaea-918967a1f23d",
   "metadata": {},
   "outputs": [
    {
     "name": "stdout",
     "output_type": "stream",
     "text": [
      "['8.588045835353', '0.000000000000']\n"
     ]
    }
   ],
   "source": [
    "z1, p_value1 = sm.stats.proportions_ztest([s1, s2], [n1, n2])\n",
    "\n",
    "#  z-метка и p-значение\n",
    "print(['{:.12f}'.format(b) for b in (z1, p_value1)])"
   ]
  },
  {
   "cell_type": "code",
   "execution_count": null,
   "id": "b82065e4-929c-4649-8a8e-308bbe11dd03",
   "metadata": {},
   "outputs": [],
   "source": [
    "\n",
    "                     healthy(population-ill)          ill\n",
    "алтайский край           2 205 862                    492\n",
    "рязанская область        1 049 336                    237"
   ]
  },
  {
   "cell_type": "code",
   "execution_count": 47,
   "id": "9fcdf869-7380-493f-b0f1-e9ba17de7260",
   "metadata": {},
   "outputs": [
    {
     "name": "stdout",
     "output_type": "stream",
     "text": [
      "['0.158642041975', '0.873950903511']\n"
     ]
    }
   ],
   "source": [
    "s1 =492.0      \n",
    "n1 =2205862.0     \n",
    "s2 =237.0       \n",
    "n2 =1049336.0      \n",
    "p2 = s1/n1               \n",
    "p1 = s2/n2               \n",
    "p = (s1 + s2)/(n1+n2)    \n",
    "z = (p2-p1)/((p*(1-p)*((1/n1)+(1/n2)))**0.5)  #  z-метка\n",
    "\n",
    "p_value = norm.cdf(z)\n",
    "\n",
    "#  z-метка и p-значение\n",
    "print(['{:.12f}'.format(a) for a in (abs(z), p_value * 2)])"
   ]
  },
  {
   "cell_type": "code",
   "execution_count": 48,
   "id": "1b8cfe03-d9ac-4a66-8a50-45e8afa752fb",
   "metadata": {},
   "outputs": [
    {
     "name": "stdout",
     "output_type": "stream",
     "text": [
      "['-0.158642041975', '0.873950903511']\n"
     ]
    }
   ],
   "source": [
    "z1, p_value1 = sm.stats.proportions_ztest([s1, s2], [n1, n2])\n",
    "\n",
    "#  z-метка и p-значение\n",
    "print(['{:.12f}'.format(b) for b in (z1, p_value1)])"
   ]
  },
  {
   "cell_type": "code",
   "execution_count": null,
   "id": "ec17e343-4f0d-4cb6-aba7-1e2f7ad93338",
   "metadata": {},
   "outputs": [],
   "source": []
  }
 ],
 "metadata": {
  "kernelspec": {
   "display_name": "Python 3",
   "language": "python",
   "name": "python3"
  },
  "language_info": {
   "codemirror_mode": {
    "name": "ipython",
    "version": 3
   },
   "file_extension": ".py",
   "mimetype": "text/x-python",
   "name": "python",
   "nbconvert_exporter": "python",
   "pygments_lexer": "ipython3",
   "version": "3.8.8"
  }
 },
 "nbformat": 4,
 "nbformat_minor": 5
}
