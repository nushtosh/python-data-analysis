{
 "cells": [
  {
   "cell_type": "code",
   "execution_count": 1,
   "id": "af27a7b1-9d51-4400-b2fd-85b7929cdb9d",
   "metadata": {},
   "outputs": [],
   "source": [
    "import os\n",
    "\n",
    "os.chdir(\"C:\\\\Users\\\\olya\\\\Downloads\")\n",
    "\n",
    "import pandas as pd\n",
    "import numpy as np\n",
    "import matplotlib\n",
    "import matplotlib.pyplot as plt\n",
    "%matplotlib inline\n",
    "import math\n",
    "from ipywidgets import HTML\n",
    "from ipyleaflet import Map, Marker, Popup"
   ]
  },
  {
   "cell_type": "code",
   "execution_count": 2,
   "id": "3c2e67f0-3974-4604-8c64-135c50a02df8",
   "metadata": {},
   "outputs": [],
   "source": [
    "df = pd.read_csv('ALL_SPB_STOPS.CSV', sep=\";\", header = 0, index_col=False,encoding='Windows-1251')"
   ]
  },
  {
   "cell_type": "code",
   "execution_count": 3,
   "id": "f865c154-2eb9-4668-b1a0-313af7339ae4",
   "metadata": {
    "tags": []
   },
   "outputs": [],
   "source": [
    "df.insert(4,\"S\",0)"
   ]
  },
  {
   "cell_type": "code",
   "execution_count": 4,
   "id": "1ef6d5a3-9b83-4612-a4d1-957b7b4084f4",
   "metadata": {
    "tags": []
   },
   "outputs": [
    {
     "data": {
      "text/html": [
       "<div>\n",
       "<style scoped>\n",
       "    .dataframe tbody tr th:only-of-type {\n",
       "        vertical-align: middle;\n",
       "    }\n",
       "\n",
       "    .dataframe tbody tr th {\n",
       "        vertical-align: top;\n",
       "    }\n",
       "\n",
       "    .dataframe thead th {\n",
       "        text-align: right;\n",
       "    }\n",
       "</style>\n",
       "<table border=\"1\" class=\"dataframe\">\n",
       "  <thead>\n",
       "    <tr style=\"text-align: right;\">\n",
       "      <th></th>\n",
       "      <th>ID_STOP</th>\n",
       "      <th>STOP_NAME</th>\n",
       "      <th>LATITUDE</th>\n",
       "      <th>LONGITUDE</th>\n",
       "      <th>S</th>\n",
       "    </tr>\n",
       "  </thead>\n",
       "  <tbody>\n",
       "    <tr>\n",
       "      <th>0</th>\n",
       "      <td>100101</td>\n",
       "      <td>Пр.Ветеранов-1</td>\n",
       "      <td>59.841604</td>\n",
       "      <td>30.253984</td>\n",
       "      <td>0</td>\n",
       "    </tr>\n",
       "    <tr>\n",
       "      <th>1</th>\n",
       "      <td>100102</td>\n",
       "      <td>Пр.Ветеранов-2</td>\n",
       "      <td>59.842042</td>\n",
       "      <td>30.250084</td>\n",
       "      <td>0</td>\n",
       "    </tr>\n",
       "    <tr>\n",
       "      <th>2</th>\n",
       "      <td>100103</td>\n",
       "      <td>Ленинский пр.-1</td>\n",
       "      <td>59.851683</td>\n",
       "      <td>30.268385</td>\n",
       "      <td>0</td>\n",
       "    </tr>\n",
       "    <tr>\n",
       "      <th>3</th>\n",
       "      <td>100104</td>\n",
       "      <td>Ленинский пр.-2</td>\n",
       "      <td>59.849710</td>\n",
       "      <td>30.268348</td>\n",
       "      <td>0</td>\n",
       "    </tr>\n",
       "    <tr>\n",
       "      <th>4</th>\n",
       "      <td>100105</td>\n",
       "      <td>Автово</td>\n",
       "      <td>59.867292</td>\n",
       "      <td>30.261133</td>\n",
       "      <td>0</td>\n",
       "    </tr>\n",
       "    <tr>\n",
       "      <th>5</th>\n",
       "      <td>100106</td>\n",
       "      <td>Кировский завод</td>\n",
       "      <td>59.879753</td>\n",
       "      <td>30.261631</td>\n",
       "      <td>0</td>\n",
       "    </tr>\n",
       "    <tr>\n",
       "      <th>6</th>\n",
       "      <td>100107</td>\n",
       "      <td>Нарвская</td>\n",
       "      <td>59.901064</td>\n",
       "      <td>30.274819</td>\n",
       "      <td>0</td>\n",
       "    </tr>\n",
       "    <tr>\n",
       "      <th>7</th>\n",
       "      <td>100108</td>\n",
       "      <td>Балтийская</td>\n",
       "      <td>59.907428</td>\n",
       "      <td>30.299786</td>\n",
       "      <td>0</td>\n",
       "    </tr>\n",
       "    <tr>\n",
       "      <th>8</th>\n",
       "      <td>100109</td>\n",
       "      <td>Пушкинская</td>\n",
       "      <td>59.920514</td>\n",
       "      <td>30.329678</td>\n",
       "      <td>0</td>\n",
       "    </tr>\n",
       "    <tr>\n",
       "      <th>9</th>\n",
       "      <td>100110</td>\n",
       "      <td>Владимирская</td>\n",
       "      <td>59.927611</td>\n",
       "      <td>30.348374</td>\n",
       "      <td>0</td>\n",
       "    </tr>\n",
       "    <tr>\n",
       "      <th>10</th>\n",
       "      <td>100111</td>\n",
       "      <td>Пл. Восстания-1</td>\n",
       "      <td>59.931585</td>\n",
       "      <td>30.360496</td>\n",
       "      <td>0</td>\n",
       "    </tr>\n",
       "    <tr>\n",
       "      <th>11</th>\n",
       "      <td>100112</td>\n",
       "      <td>Пл. Восстания-2</td>\n",
       "      <td>59.929490</td>\n",
       "      <td>30.360924</td>\n",
       "      <td>0</td>\n",
       "    </tr>\n",
       "    <tr>\n",
       "      <th>12</th>\n",
       "      <td>100113</td>\n",
       "      <td>Чернышевская</td>\n",
       "      <td>59.944575</td>\n",
       "      <td>30.359653</td>\n",
       "      <td>0</td>\n",
       "    </tr>\n",
       "    <tr>\n",
       "      <th>13</th>\n",
       "      <td>100114</td>\n",
       "      <td>Пл.Ленина-1</td>\n",
       "      <td>59.955586</td>\n",
       "      <td>30.355769</td>\n",
       "      <td>0</td>\n",
       "    </tr>\n",
       "    <tr>\n",
       "      <th>14</th>\n",
       "      <td>100115</td>\n",
       "      <td>Пл.Ленина-2</td>\n",
       "      <td>59.958563</td>\n",
       "      <td>30.354969</td>\n",
       "      <td>0</td>\n",
       "    </tr>\n",
       "    <tr>\n",
       "      <th>15</th>\n",
       "      <td>100116</td>\n",
       "      <td>Выборгская</td>\n",
       "      <td>59.971159</td>\n",
       "      <td>30.347427</td>\n",
       "      <td>0</td>\n",
       "    </tr>\n",
       "    <tr>\n",
       "      <th>16</th>\n",
       "      <td>100117</td>\n",
       "      <td>Лесная</td>\n",
       "      <td>59.984846</td>\n",
       "      <td>30.344265</td>\n",
       "      <td>0</td>\n",
       "    </tr>\n",
       "    <tr>\n",
       "      <th>17</th>\n",
       "      <td>100118</td>\n",
       "      <td>Пл. Мужества</td>\n",
       "      <td>59.999613</td>\n",
       "      <td>30.366041</td>\n",
       "      <td>0</td>\n",
       "    </tr>\n",
       "    <tr>\n",
       "      <th>18</th>\n",
       "      <td>100119</td>\n",
       "      <td>Политехническая</td>\n",
       "      <td>60.008864</td>\n",
       "      <td>30.370602</td>\n",
       "      <td>0</td>\n",
       "    </tr>\n",
       "    <tr>\n",
       "      <th>19</th>\n",
       "      <td>100120</td>\n",
       "      <td>Академическая</td>\n",
       "      <td>60.012807</td>\n",
       "      <td>30.396228</td>\n",
       "      <td>0</td>\n",
       "    </tr>\n",
       "    <tr>\n",
       "      <th>20</th>\n",
       "      <td>100121</td>\n",
       "      <td>Гражданский пр.</td>\n",
       "      <td>60.035036</td>\n",
       "      <td>30.418499</td>\n",
       "      <td>0</td>\n",
       "    </tr>\n",
       "    <tr>\n",
       "      <th>21</th>\n",
       "      <td>100122</td>\n",
       "      <td>Девяткино</td>\n",
       "      <td>60.050678</td>\n",
       "      <td>30.443201</td>\n",
       "      <td>0</td>\n",
       "    </tr>\n",
       "    <tr>\n",
       "      <th>22</th>\n",
       "      <td>100200</td>\n",
       "      <td>Купчино-2</td>\n",
       "      <td>59.829411</td>\n",
       "      <td>30.377155</td>\n",
       "      <td>0</td>\n",
       "    </tr>\n",
       "    <tr>\n",
       "      <th>23</th>\n",
       "      <td>100201</td>\n",
       "      <td>Купчино-1</td>\n",
       "      <td>59.830276</td>\n",
       "      <td>30.376737</td>\n",
       "      <td>0</td>\n",
       "    </tr>\n",
       "    <tr>\n",
       "      <th>24</th>\n",
       "      <td>100202</td>\n",
       "      <td>Звездная</td>\n",
       "      <td>59.833318</td>\n",
       "      <td>30.349144</td>\n",
       "      <td>0</td>\n",
       "    </tr>\n",
       "    <tr>\n",
       "      <th>25</th>\n",
       "      <td>100203</td>\n",
       "      <td>Московская-2</td>\n",
       "      <td>59.849238</td>\n",
       "      <td>30.321150</td>\n",
       "      <td>0</td>\n",
       "    </tr>\n",
       "    <tr>\n",
       "      <th>26</th>\n",
       "      <td>100204</td>\n",
       "      <td>Московская-1</td>\n",
       "      <td>59.853205</td>\n",
       "      <td>30.321769</td>\n",
       "      <td>0</td>\n",
       "    </tr>\n",
       "    <tr>\n",
       "      <th>27</th>\n",
       "      <td>100205</td>\n",
       "      <td>Парк Победы</td>\n",
       "      <td>59.866364</td>\n",
       "      <td>30.321545</td>\n",
       "      <td>0</td>\n",
       "    </tr>\n",
       "    <tr>\n",
       "      <th>28</th>\n",
       "      <td>100206</td>\n",
       "      <td>Электросила</td>\n",
       "      <td>59.879182</td>\n",
       "      <td>30.318912</td>\n",
       "      <td>0</td>\n",
       "    </tr>\n",
       "    <tr>\n",
       "      <th>29</th>\n",
       "      <td>100207</td>\n",
       "      <td>Московские ворота</td>\n",
       "      <td>59.891770</td>\n",
       "      <td>30.318018</td>\n",
       "      <td>0</td>\n",
       "    </tr>\n",
       "    <tr>\n",
       "      <th>30</th>\n",
       "      <td>100208</td>\n",
       "      <td>Фрунзенская</td>\n",
       "      <td>59.906269</td>\n",
       "      <td>30.317815</td>\n",
       "      <td>0</td>\n",
       "    </tr>\n",
       "    <tr>\n",
       "      <th>31</th>\n",
       "      <td>100209</td>\n",
       "      <td>Технологический институт-1</td>\n",
       "      <td>59.916725</td>\n",
       "      <td>30.318877</td>\n",
       "      <td>0</td>\n",
       "    </tr>\n",
       "    <tr>\n",
       "      <th>32</th>\n",
       "      <td>100210</td>\n",
       "      <td>Технологический институт-2</td>\n",
       "      <td>59.916281</td>\n",
       "      <td>30.318397</td>\n",
       "      <td>0</td>\n",
       "    </tr>\n",
       "    <tr>\n",
       "      <th>33</th>\n",
       "      <td>100211</td>\n",
       "      <td>Сенная площадь</td>\n",
       "      <td>59.927172</td>\n",
       "      <td>30.320395</td>\n",
       "      <td>0</td>\n",
       "    </tr>\n",
       "    <tr>\n",
       "      <th>34</th>\n",
       "      <td>100212</td>\n",
       "      <td>Невский пр.-1</td>\n",
       "      <td>59.934981</td>\n",
       "      <td>30.330494</td>\n",
       "      <td>0</td>\n",
       "    </tr>\n",
       "    <tr>\n",
       "      <th>35</th>\n",
       "      <td>100213</td>\n",
       "      <td>Невский пр.-2</td>\n",
       "      <td>59.935529</td>\n",
       "      <td>30.326934</td>\n",
       "      <td>0</td>\n",
       "    </tr>\n",
       "    <tr>\n",
       "      <th>36</th>\n",
       "      <td>100214</td>\n",
       "      <td>Горьковская</td>\n",
       "      <td>59.956301</td>\n",
       "      <td>30.318997</td>\n",
       "      <td>0</td>\n",
       "    </tr>\n",
       "    <tr>\n",
       "      <th>37</th>\n",
       "      <td>100215</td>\n",
       "      <td>Петроградская</td>\n",
       "      <td>59.966308</td>\n",
       "      <td>30.311407</td>\n",
       "      <td>0</td>\n",
       "    </tr>\n",
       "  </tbody>\n",
       "</table>\n",
       "</div>"
      ],
      "text/plain": [
       "    ID_STOP                   STOP_NAME   LATITUDE  LONGITUDE  S\n",
       "0    100101              Пр.Ветеранов-1  59.841604  30.253984  0\n",
       "1    100102              Пр.Ветеранов-2  59.842042  30.250084  0\n",
       "2    100103             Ленинский пр.-1  59.851683  30.268385  0\n",
       "3    100104             Ленинский пр.-2  59.849710  30.268348  0\n",
       "4    100105                      Автово  59.867292  30.261133  0\n",
       "5    100106             Кировский завод  59.879753  30.261631  0\n",
       "6    100107                    Нарвская  59.901064  30.274819  0\n",
       "7    100108                  Балтийская  59.907428  30.299786  0\n",
       "8    100109                  Пушкинская  59.920514  30.329678  0\n",
       "9    100110                Владимирская  59.927611  30.348374  0\n",
       "10   100111             Пл. Восстания-1  59.931585  30.360496  0\n",
       "11   100112             Пл. Восстания-2  59.929490  30.360924  0\n",
       "12   100113                Чернышевская  59.944575  30.359653  0\n",
       "13   100114                 Пл.Ленина-1  59.955586  30.355769  0\n",
       "14   100115                 Пл.Ленина-2  59.958563  30.354969  0\n",
       "15   100116                  Выборгская  59.971159  30.347427  0\n",
       "16   100117                      Лесная  59.984846  30.344265  0\n",
       "17   100118                Пл. Мужества  59.999613  30.366041  0\n",
       "18   100119             Политехническая  60.008864  30.370602  0\n",
       "19   100120               Академическая  60.012807  30.396228  0\n",
       "20   100121             Гражданский пр.  60.035036  30.418499  0\n",
       "21   100122                   Девяткино  60.050678  30.443201  0\n",
       "22   100200                   Купчино-2  59.829411  30.377155  0\n",
       "23   100201                   Купчино-1  59.830276  30.376737  0\n",
       "24   100202                    Звездная  59.833318  30.349144  0\n",
       "25   100203                Московская-2  59.849238  30.321150  0\n",
       "26   100204                Московская-1  59.853205  30.321769  0\n",
       "27   100205                 Парк Победы  59.866364  30.321545  0\n",
       "28   100206                 Электросила  59.879182  30.318912  0\n",
       "29   100207           Московские ворота  59.891770  30.318018  0\n",
       "30   100208                 Фрунзенская  59.906269  30.317815  0\n",
       "31   100209  Технологический институт-1  59.916725  30.318877  0\n",
       "32   100210  Технологический институт-2  59.916281  30.318397  0\n",
       "33   100211              Сенная площадь  59.927172  30.320395  0\n",
       "34   100212               Невский пр.-1  59.934981  30.330494  0\n",
       "35   100213               Невский пр.-2  59.935529  30.326934  0\n",
       "36   100214                 Горьковская  59.956301  30.318997  0\n",
       "37   100215               Петроградская  59.966308  30.311407  0"
      ]
     },
     "execution_count": 4,
     "metadata": {},
     "output_type": "execute_result"
    }
   ],
   "source": [
    "df.head(38)"
   ]
  },
  {
   "cell_type": "code",
   "execution_count": 5,
   "id": "426bf594-d668-42db-b185-77b0d72df1ff",
   "metadata": {},
   "outputs": [],
   "source": [
    "df['S']=0"
   ]
  },
  {
   "cell_type": "code",
   "execution_count": 6,
   "id": "9e6ea810-e8c6-4f4c-9ca5-7344550ab79a",
   "metadata": {},
   "outputs": [
    {
     "data": {
      "text/plain": [
       "ID_STOP        int64\n",
       "STOP_NAME     object\n",
       "LATITUDE     float64\n",
       "LONGITUDE    float64\n",
       "S              int64\n",
       "dtype: object"
      ]
     },
     "execution_count": 6,
     "metadata": {},
     "output_type": "execute_result"
    }
   ],
   "source": [
    "df.dtypes"
   ]
  },
  {
   "cell_type": "code",
   "execution_count": 7,
   "id": "b87b1dca-abb4-4d39-a49d-bf7c3880fcf1",
   "metadata": {},
   "outputs": [],
   "source": [
    "df['ID_STOP'] = df['ID_STOP'].astype(str)"
   ]
  },
  {
   "cell_type": "code",
   "execution_count": 8,
   "id": "282acc6b-5ca6-4700-a58c-3748fc8a2db3",
   "metadata": {},
   "outputs": [
    {
     "name": "stdout",
     "output_type": "stream",
     "text": [
      "   ID_STOP    STOP_NAME   LATITUDE  LONGITUDE  S\n",
      "36  100214  Горьковская  59.956301  30.318997  0\n"
     ]
    }
   ],
   "source": [
    "gor = df[(df['ID_STOP'].str.startswith('100'))&(df['STOP_NAME']=='Горьковская')]\n",
    "print(gor)"
   ]
  },
  {
   "cell_type": "code",
   "execution_count": 9,
   "id": "e99d704a-5c58-4de5-add8-3592d2324578",
   "metadata": {},
   "outputs": [
    {
     "name": "stdout",
     "output_type": "stream",
     "text": [
      "30.3189969457719\n"
     ]
    },
    {
     "data": {
      "text/plain": [
       "59.9563008079342"
      ]
     },
     "execution_count": 9,
     "metadata": {},
     "output_type": "execute_result"
    }
   ],
   "source": [
    "gorlong=gor.loc[36].at['LONGITUDE']\n",
    "gorlat=gor.loc[36].at['LATITUDE']\n",
    "print(gorlong)\n",
    "gorlat"
   ]
  },
  {
   "cell_type": "code",
   "execution_count": 10,
   "id": "488116e9-c103-4142-bb86-973f06da98b8",
   "metadata": {},
   "outputs": [],
   "source": [
    "A=abs(df['LATITUDE']-gorlat)*116.16\n",
    "B=abs(df['LONGITUDE']-gorlong)*113.3*np.cos(np.minimum(df['LATITUDE'],gorlat))\n",
    "temp=(A/6400)*(A/6400)+(B/6400)*(B/6400)\n",
    "C=np.sqrt(temp)*6400"
   ]
  },
  {
   "cell_type": "code",
   "execution_count": 11,
   "id": "e02b6307-756e-4966-81b4-e1194bb79ae9",
   "metadata": {
    "tags": []
   },
   "outputs": [],
   "source": [
    "df['S']=C"
   ]
  },
  {
   "cell_type": "code",
   "execution_count": 12,
   "id": "56faa81f-1258-4fc1-9888-5449cbfe9285",
   "metadata": {},
   "outputs": [
    {
     "data": {
      "text/html": [
       "<div>\n",
       "<style scoped>\n",
       "    .dataframe tbody tr th:only-of-type {\n",
       "        vertical-align: middle;\n",
       "    }\n",
       "\n",
       "    .dataframe tbody tr th {\n",
       "        vertical-align: top;\n",
       "    }\n",
       "\n",
       "    .dataframe thead th {\n",
       "        text-align: right;\n",
       "    }\n",
       "</style>\n",
       "<table border=\"1\" class=\"dataframe\">\n",
       "  <thead>\n",
       "    <tr style=\"text-align: right;\">\n",
       "      <th></th>\n",
       "      <th>ID_STOP</th>\n",
       "      <th>STOP_NAME</th>\n",
       "      <th>LATITUDE</th>\n",
       "      <th>LONGITUDE</th>\n",
       "      <th>S</th>\n",
       "    </tr>\n",
       "  </thead>\n",
       "  <tbody>\n",
       "    <tr>\n",
       "      <th>0</th>\n",
       "      <td>100101</td>\n",
       "      <td>Пр.Ветеранов-1</td>\n",
       "      <td>59.841604</td>\n",
       "      <td>30.253984</td>\n",
       "      <td>15.183257</td>\n",
       "    </tr>\n",
       "    <tr>\n",
       "      <th>1</th>\n",
       "      <td>100102</td>\n",
       "      <td>Пр.Ветеранов-2</td>\n",
       "      <td>59.842042</td>\n",
       "      <td>30.250084</td>\n",
       "      <td>15.353283</td>\n",
       "    </tr>\n",
       "    <tr>\n",
       "      <th>2</th>\n",
       "      <td>100103</td>\n",
       "      <td>Ленинский пр.-1</td>\n",
       "      <td>59.851683</td>\n",
       "      <td>30.268385</td>\n",
       "      <td>13.405717</td>\n",
       "    </tr>\n",
       "    <tr>\n",
       "      <th>3</th>\n",
       "      <td>100104</td>\n",
       "      <td>Ленинский пр.-2</td>\n",
       "      <td>59.849710</td>\n",
       "      <td>30.268348</td>\n",
       "      <td>13.616366</td>\n",
       "    </tr>\n",
       "    <tr>\n",
       "      <th>4</th>\n",
       "      <td>100105</td>\n",
       "      <td>Автово</td>\n",
       "      <td>59.867292</td>\n",
       "      <td>30.261133</td>\n",
       "      <td>12.188046</td>\n",
       "    </tr>\n",
       "  </tbody>\n",
       "</table>\n",
       "</div>"
      ],
      "text/plain": [
       "  ID_STOP        STOP_NAME   LATITUDE  LONGITUDE          S\n",
       "0  100101   Пр.Ветеранов-1  59.841604  30.253984  15.183257\n",
       "1  100102   Пр.Ветеранов-2  59.842042  30.250084  15.353283\n",
       "2  100103  Ленинский пр.-1  59.851683  30.268385  13.405717\n",
       "3  100104  Ленинский пр.-2  59.849710  30.268348  13.616366\n",
       "4  100105           Автово  59.867292  30.261133  12.188046"
      ]
     },
     "execution_count": 12,
     "metadata": {},
     "output_type": "execute_result"
    }
   ],
   "source": [
    "df.head()"
   ]
  },
  {
   "cell_type": "code",
   "execution_count": 13,
   "id": "ca4fe01f-95e0-4e41-9377-b519a1ee628c",
   "metadata": {},
   "outputs": [
    {
     "data": {
      "text/html": [
       "<div>\n",
       "<style scoped>\n",
       "    .dataframe tbody tr th:only-of-type {\n",
       "        vertical-align: middle;\n",
       "    }\n",
       "\n",
       "    .dataframe tbody tr th {\n",
       "        vertical-align: top;\n",
       "    }\n",
       "\n",
       "    .dataframe thead th {\n",
       "        text-align: right;\n",
       "    }\n",
       "</style>\n",
       "<table border=\"1\" class=\"dataframe\">\n",
       "  <thead>\n",
       "    <tr style=\"text-align: right;\">\n",
       "      <th></th>\n",
       "      <th>ID_STOP</th>\n",
       "      <th>STOP_NAME</th>\n",
       "      <th>LATITUDE</th>\n",
       "      <th>LONGITUDE</th>\n",
       "      <th>S</th>\n",
       "    </tr>\n",
       "  </thead>\n",
       "  <tbody>\n",
       "    <tr>\n",
       "      <th>0</th>\n",
       "      <td>1383</td>\n",
       "      <td>БОЛЬШАЯ МОНЕТНАЯ УЛ. [46А]</td>\n",
       "      <td>59.960944</td>\n",
       "      <td>30.316399</td>\n",
       "      <td>0.609547</td>\n",
       "    </tr>\n",
       "    <tr>\n",
       "      <th>1</th>\n",
       "      <td>16072</td>\n",
       "      <td>Сытный рынок T (6, 40)</td>\n",
       "      <td>59.956379</td>\n",
       "      <td>30.311045</td>\n",
       "      <td>0.869340</td>\n",
       "    </tr>\n",
       "    <tr>\n",
       "      <th>2</th>\n",
       "      <td>16077</td>\n",
       "      <td>Метро \"Горьковская\" T (6, 40)</td>\n",
       "      <td>59.956536</td>\n",
       "      <td>30.319330</td>\n",
       "      <td>0.045550</td>\n",
       "    </tr>\n",
       "    <tr>\n",
       "      <th>3</th>\n",
       "      <td>16083</td>\n",
       "      <td>Троицкая площадь T (6, 40)</td>\n",
       "      <td>59.954522</td>\n",
       "      <td>30.326731</td>\n",
       "      <td>0.870689</td>\n",
       "    </tr>\n",
       "    <tr>\n",
       "      <th>4</th>\n",
       "      <td>16150</td>\n",
       "      <td>Троицкая площадь T (6, 40)</td>\n",
       "      <td>59.954751</td>\n",
       "      <td>30.326880</td>\n",
       "      <td>0.880631</td>\n",
       "    </tr>\n",
       "    <tr>\n",
       "      <th>5</th>\n",
       "      <td>16153</td>\n",
       "      <td>Метро \"Горьковская\" Т (6, 40)</td>\n",
       "      <td>59.956591</td>\n",
       "      <td>30.319479</td>\n",
       "      <td>0.062550</td>\n",
       "    </tr>\n",
       "    <tr>\n",
       "      <th>6</th>\n",
       "      <td>16158</td>\n",
       "      <td>Сытный рынок T (6, 40)</td>\n",
       "      <td>59.956605</td>\n",
       "      <td>30.311727</td>\n",
       "      <td>0.795436</td>\n",
       "    </tr>\n",
       "    <tr>\n",
       "      <th>7</th>\n",
       "      <td>17847</td>\n",
       "      <td>Б. МОНЕТНАЯ УЛ. (тест)</td>\n",
       "      <td>59.961946</td>\n",
       "      <td>30.315037</td>\n",
       "      <td>0.785707</td>\n",
       "    </tr>\n",
       "    <tr>\n",
       "      <th>8</th>\n",
       "      <td>17848</td>\n",
       "      <td>ТРОИЦКАЯ ПЛ. (тест)</td>\n",
       "      <td>59.954098</td>\n",
       "      <td>30.322533</td>\n",
       "      <td>0.463727</td>\n",
       "    </tr>\n",
       "    <tr>\n",
       "      <th>9</th>\n",
       "      <td>17915</td>\n",
       "      <td>ТРОИЦКАЯ ПЛ. (тест)&lt;</td>\n",
       "      <td>59.953811</td>\n",
       "      <td>30.323404</td>\n",
       "      <td>0.562226</td>\n",
       "    </tr>\n",
       "    <tr>\n",
       "      <th>10</th>\n",
       "      <td>19098</td>\n",
       "      <td>СЫТНЫЙ РЫНОК</td>\n",
       "      <td>59.958649</td>\n",
       "      <td>30.311667</td>\n",
       "      <td>0.846489</td>\n",
       "    </tr>\n",
       "    <tr>\n",
       "      <th>11</th>\n",
       "      <td>19099</td>\n",
       "      <td>АВСТРИЙСКАЯ ПЛ.</td>\n",
       "      <td>59.960045</td>\n",
       "      <td>30.317961</td>\n",
       "      <td>0.449380</td>\n",
       "    </tr>\n",
       "    <tr>\n",
       "      <th>12</th>\n",
       "      <td>19100</td>\n",
       "      <td>М. МОНЕТНАЯ УЛ.</td>\n",
       "      <td>59.961142</td>\n",
       "      <td>30.323509</td>\n",
       "      <td>0.748029</td>\n",
       "    </tr>\n",
       "    <tr>\n",
       "      <th>13</th>\n",
       "      <td>19107</td>\n",
       "      <td>М. МОНЕТНАЯ УЛ.</td>\n",
       "      <td>59.962452</td>\n",
       "      <td>30.321533</td>\n",
       "      <td>0.766378</td>\n",
       "    </tr>\n",
       "    <tr>\n",
       "      <th>14</th>\n",
       "      <td>19108</td>\n",
       "      <td>КАМЕННООСТРОВСКИЙ ПР.</td>\n",
       "      <td>59.961481</td>\n",
       "      <td>30.316120</td>\n",
       "      <td>0.678908</td>\n",
       "    </tr>\n",
       "    <tr>\n",
       "      <th>15</th>\n",
       "      <td>19110</td>\n",
       "      <td>СЫТНИНСКАЯ УЛ.</td>\n",
       "      <td>59.958561</td>\n",
       "      <td>30.312363</td>\n",
       "      <td>0.771259</td>\n",
       "    </tr>\n",
       "    <tr>\n",
       "      <th>16</th>\n",
       "      <td>2062</td>\n",
       "      <td>СТ. МЕТРО \"ГОРЬКОВСКАЯ\"</td>\n",
       "      <td>59.955818</td>\n",
       "      <td>30.320890</td>\n",
       "      <td>0.214468</td>\n",
       "    </tr>\n",
       "    <tr>\n",
       "      <th>17</th>\n",
       "      <td>2150</td>\n",
       "      <td>ТРОИЦКАЯ ПЛОЩАДЬ [46А, 49]&lt;</td>\n",
       "      <td>59.954631</td>\n",
       "      <td>30.326467</td>\n",
       "      <td>0.839704</td>\n",
       "    </tr>\n",
       "    <tr>\n",
       "      <th>18</th>\n",
       "      <td>22833</td>\n",
       "      <td>ТРОИЦКАЯ ПЛ.</td>\n",
       "      <td>59.953363</td>\n",
       "      <td>30.324442</td>\n",
       "      <td>0.686527</td>\n",
       "    </tr>\n",
       "    <tr>\n",
       "      <th>19</th>\n",
       "      <td>23313</td>\n",
       "      <td>Ст. метро \"Горьковская\"</td>\n",
       "      <td>59.956605</td>\n",
       "      <td>30.319870</td>\n",
       "      <td>0.101752</td>\n",
       "    </tr>\n",
       "    <tr>\n",
       "      <th>20</th>\n",
       "      <td>23324</td>\n",
       "      <td>СЫТНЫЙ РЫНОК</td>\n",
       "      <td>59.956820</td>\n",
       "      <td>30.312458</td>\n",
       "      <td>0.717339</td>\n",
       "    </tr>\n",
       "    <tr>\n",
       "      <th>21</th>\n",
       "      <td>3250</td>\n",
       "      <td>СТ. МЕТРО \"ГОРЬКОВСКАЯ\" [46А]&lt;</td>\n",
       "      <td>59.955534</td>\n",
       "      <td>30.321617</td>\n",
       "      <td>0.299998</td>\n",
       "    </tr>\n",
       "  </tbody>\n",
       "</table>\n",
       "</div>"
      ],
      "text/plain": [
       "   ID_STOP                       STOP_NAME   LATITUDE  LONGITUDE         S\n",
       "0     1383      БОЛЬШАЯ МОНЕТНАЯ УЛ. [46А]  59.960944  30.316399  0.609547\n",
       "1    16072          Сытный рынок T (6, 40)  59.956379  30.311045  0.869340\n",
       "2    16077   Метро \"Горьковская\" T (6, 40)  59.956536  30.319330  0.045550\n",
       "3    16083      Троицкая площадь T (6, 40)  59.954522  30.326731  0.870689\n",
       "4    16150      Троицкая площадь T (6, 40)  59.954751  30.326880  0.880631\n",
       "5    16153   Метро \"Горьковская\" Т (6, 40)  59.956591  30.319479  0.062550\n",
       "6    16158          Сытный рынок T (6, 40)  59.956605  30.311727  0.795436\n",
       "7    17847          Б. МОНЕТНАЯ УЛ. (тест)  59.961946  30.315037  0.785707\n",
       "8    17848             ТРОИЦКАЯ ПЛ. (тест)  59.954098  30.322533  0.463727\n",
       "9    17915            ТРОИЦКАЯ ПЛ. (тест)<  59.953811  30.323404  0.562226\n",
       "10   19098                    СЫТНЫЙ РЫНОК  59.958649  30.311667  0.846489\n",
       "11   19099                 АВСТРИЙСКАЯ ПЛ.  59.960045  30.317961  0.449380\n",
       "12   19100                 М. МОНЕТНАЯ УЛ.  59.961142  30.323509  0.748029\n",
       "13   19107                 М. МОНЕТНАЯ УЛ.  59.962452  30.321533  0.766378\n",
       "14   19108           КАМЕННООСТРОВСКИЙ ПР.  59.961481  30.316120  0.678908\n",
       "15   19110                  СЫТНИНСКАЯ УЛ.  59.958561  30.312363  0.771259\n",
       "16    2062         СТ. МЕТРО \"ГОРЬКОВСКАЯ\"  59.955818  30.320890  0.214468\n",
       "17    2150     ТРОИЦКАЯ ПЛОЩАДЬ [46А, 49]<  59.954631  30.326467  0.839704\n",
       "18   22833                    ТРОИЦКАЯ ПЛ.  59.953363  30.324442  0.686527\n",
       "19   23313         Ст. метро \"Горьковская\"  59.956605  30.319870  0.101752\n",
       "20   23324                    СЫТНЫЙ РЫНОК  59.956820  30.312458  0.717339\n",
       "21    3250  СТ. МЕТРО \"ГОРЬКОВСКАЯ\" [46А]<  59.955534  30.321617  0.299998"
      ]
     },
     "execution_count": 13,
     "metadata": {},
     "output_type": "execute_result"
    }
   ],
   "source": [
    "st=df[df['S']<1]\n",
    "st=st.drop(labels=[36])\n",
    "st.index=(range(len(st)))\n",
    "st"
   ]
  },
  {
   "cell_type": "code",
   "execution_count": 14,
   "id": "0cdd9b5f-198a-442b-b87e-ebe70f81a225",
   "metadata": {},
   "outputs": [],
   "source": [
    "from scipy.cluster.hierarchy import dendrogram, linkage,fcluster"
   ]
  },
  {
   "cell_type": "code",
   "execution_count": 15,
   "id": "f28cbb4e-86cd-4c06-8ed1-5da55b6fdadc",
   "metadata": {},
   "outputs": [
    {
     "data": {
      "text/plain": [
       "[<matplotlib.lines.Line2D at 0x2b18a23a460>]"
      ]
     },
     "execution_count": 15,
     "metadata": {},
     "output_type": "execute_result"
    },
    {
     "data": {
      "image/png": "[encoded data removed]",
      "text/plain": [
       "<Figure size 432x288 with 1 Axes>"
      ]
     },
     "metadata": {
      "needs_background": "light"
     },
     "output_type": "display_data"
    }
   ],
   "source": [
    "x=st['LATITUDE']\n",
    "y=st['LONGITUDE']\n",
    "plt.plot(x, y,'bo')\n",
    "plt.plot(gorlat,gorlong,'ro')"
   ]
  },
  {
   "cell_type": "code",
   "execution_count": 16,
   "id": "d68fe80e-20f4-4827-be07-61c65080f8ff",
   "metadata": {},
   "outputs": [],
   "source": [
    "link=linkage(st.drop(['ID_STOP','STOP_NAME','S'],axis=1),'ward','euclidean')"
   ]
  },
  {
   "cell_type": "code",
   "execution_count": 17,
   "id": "c7acc93d-d2f7-4d8d-9236-539cc5d1a20c",
   "metadata": {},
   "outputs": [
    {
     "data": {
      "image/png": "[encoded data removed]",
      "text/plain": [
       "<Figure size 432x288 with 1 Axes>"
      ]
     },
     "metadata": {
      "needs_background": "light"
     },
     "output_type": "display_data"
    }
   ],
   "source": [
    "dn=dendrogram(link,orientation='right')"
   ]
  },
  {
   "cell_type": "code",
   "execution_count": 18,
   "id": "368b24cf-8eab-489a-9530-ea75a0ce9101",
   "metadata": {},
   "outputs": [],
   "source": [
    "st['cluster']=fcluster(link,4,criterion='maxclust')"
   ]
  },
  {
   "cell_type": "code",
   "execution_count": 19,
   "id": "f4578535-7460-4f07-8a81-a45caf6beb67",
   "metadata": {},
   "outputs": [
    {
     "data": {
      "text/plain": [
       "cluster\n",
       "1    5\n",
       "2    6\n",
       "3    5\n",
       "4    6\n",
       "dtype: int64"
      ]
     },
     "execution_count": 19,
     "metadata": {},
     "output_type": "execute_result"
    }
   ],
   "source": [
    "st.groupby('cluster').size()"
   ]
  },
  {
   "cell_type": "code",
   "execution_count": 20,
   "id": "c7e39151-420e-4117-8245-3a5159905018",
   "metadata": {},
   "outputs": [
    {
     "name": "stdout",
     "output_type": "stream",
     "text": [
      "Номер кластера 0 \n",
      " Series([], Name: STOP_NAME, dtype: object)\n",
      "Номер кластера 1 \n",
      " 2      Метро \"Горьковская\" T (6, 40)\n",
      "5      Метро \"Горьковская\" Т (6, 40)\n",
      "16           СТ. МЕТРО \"ГОРЬКОВСКАЯ\"\n",
      "19           Ст. метро \"Горьковская\"\n",
      "21    СТ. МЕТРО \"ГОРЬКОВСКАЯ\" [46А]<\n",
      "Name: STOP_NAME, dtype: object\n",
      "Номер кластера 2 \n",
      " 3      Троицкая площадь T (6, 40)\n",
      "4      Троицкая площадь T (6, 40)\n",
      "8             ТРОИЦКАЯ ПЛ. (тест)\n",
      "9            ТРОИЦКАЯ ПЛ. (тест)<\n",
      "17    ТРОИЦКАЯ ПЛОЩАДЬ [46А, 49]<\n",
      "18                   ТРОИЦКАЯ ПЛ.\n",
      "Name: STOP_NAME, dtype: object\n",
      "Номер кластера 3 \n",
      " 1     Сытный рынок T (6, 40)\n",
      "6     Сытный рынок T (6, 40)\n",
      "10              СЫТНЫЙ РЫНОК\n",
      "15            СЫТНИНСКАЯ УЛ.\n",
      "20              СЫТНЫЙ РЫНОК\n",
      "Name: STOP_NAME, dtype: object\n",
      "Номер кластера 4 \n",
      " 0     БОЛЬШАЯ МОНЕТНАЯ УЛ. [46А]\n",
      "7         Б. МОНЕТНАЯ УЛ. (тест)\n",
      "11               АВСТРИЙСКАЯ ПЛ.\n",
      "12               М. МОНЕТНАЯ УЛ.\n",
      "13               М. МОНЕТНАЯ УЛ.\n",
      "14         КАМЕННООСТРОВСКИЙ ПР.\n",
      "Name: STOP_NAME, dtype: object\n"
     ]
    }
   ],
   "source": [
    "for i in range(5): print(\"Номер кластера\",i,\"\\n\",st[st['cluster']==i]['STOP_NAME'])"
   ]
  },
  {
   "cell_type": "code",
   "execution_count": 21,
   "id": "1e2035ad-20c6-46c0-b74a-531518230f03",
   "metadata": {},
   "outputs": [
    {
     "data": {
      "text/plain": [
       "[<matplotlib.lines.Line2D at 0x2b18a3c1730>]"
      ]
     },
     "execution_count": 21,
     "metadata": {},
     "output_type": "execute_result"
    },
    {
     "data": {
      "image/png": "[encoded data removed]",
      "text/plain": [
       "<Figure size 432x288 with 1 Axes>"
      ]
     },
     "metadata": {
      "needs_background": "light"
     },
     "output_type": "display_data"
    }
   ],
   "source": [
    "x1=st[st['cluster']==1]['LATITUDE']\n",
    "y1=st[st['cluster']==1]['LONGITUDE']\n",
    "\n",
    "x2=st[st['cluster']==2]['LATITUDE']\n",
    "y2=st[st['cluster']==2]['LONGITUDE']\n",
    "\n",
    "x3=st[st['cluster']==3]['LATITUDE']\n",
    "y3=st[st['cluster']==3]['LONGITUDE']\n",
    "\n",
    "x4=st[st['cluster']==4]['LATITUDE']\n",
    "y4=st[st['cluster']==4]['LONGITUDE']\n",
    "\n",
    "plt.plot(x1, y1,'bo')\n",
    "plt.plot(x2, y2,'go')\n",
    "plt.plot(x3, y3,'mo')\n",
    "plt.plot(x4, y4,'co')\n",
    "plt.plot(gorlat,gorlong,'r*')"
   ]
  },
  {
   "cell_type": "code",
   "execution_count": 22,
   "id": "1f85241e-7ed9-4dc2-a06d-32e8a75f615d",
   "metadata": {},
   "outputs": [],
   "source": [
    "stops_coordinates=[]\n",
    "i = 0\n",
    "while i < len(st.index):\n",
    "    stops_coordinates.append({'index': i, 'Coordinates': [st['LATITUDE'][i], st['LONGITUDE'][i]], 'Location': st['STOP_NAME'][i]})\n",
    "    i += 1"
   ]
  },
  {
   "cell_type": "code",
   "execution_count": 23,
   "id": "c970e4bc-9de1-4532-9f98-1d5fc91ac1bc",
   "metadata": {},
   "outputs": [],
   "source": [
    "marker_coordinates = [stops['Coordinates'] for stops in stops_coordinates]\n",
    "marker_coordinates = [[float(x) for x in y] for y in marker_coordinates]"
   ]
  },
  {
   "cell_type": "code",
   "execution_count": 24,
   "id": "2bd81b42-5533-4644-97b6-f604b432c94c",
   "metadata": {},
   "outputs": [],
   "source": [
    "m = Map(center=(gorlat, gorlong), zoom=15)"
   ]
  },
  {
   "cell_type": "code",
   "execution_count": 25,
   "id": "36b5ee18-c840-451a-8ff8-9c125bd1c0dc",
   "metadata": {},
   "outputs": [],
   "source": [
    "markers = [Marker(location=(marker_coordinates[i])) for i in range(len(marker_coordinates))]"
   ]
  },
  {
   "cell_type": "code",
   "execution_count": 26,
   "id": "8ca9daee-ae01-4d89-8527-35d93bbf6d16",
   "metadata": {},
   "outputs": [],
   "source": [
    "info_box_template = \"\"\"\n",
    "<dl>\n",
    "<dt>Адрес:</dt><dd>{Location}\n",
    "</dl>\n",
    "\"\"\""
   ]
  },
  {
   "cell_type": "code",
   "execution_count": 27,
   "id": "6e06a867-bda2-47f4-9a1c-cdebb1db301b",
   "metadata": {},
   "outputs": [],
   "source": [
    "locations_info  = [info_box_template.format(**point) for point in stops_coordinates]"
   ]
  },
  {
   "cell_type": "code",
   "execution_count": 28,
   "id": "f0ee854e-4227-4afe-b9a7-3588b6b79d47",
   "metadata": {},
   "outputs": [],
   "source": [
    "for i in range(len(markers)):\n",
    "    markers[i].popup = HTML(locations_info[i])\n",
    "    m.add_layer(markers[i])"
   ]
  },
  {
   "cell_type": "code",
   "execution_count": 29,
   "id": "09b646a8-a156-47f2-97a8-8a2800a58ed9",
   "metadata": {},
   "outputs": [
    {
     "data": {
      "application/vnd.jupyter.widget-view+json": {
       "model_id": "e08aa8b931fc49aca41da6fa22fd5379",
       "version_major": 2,
       "version_minor": 0
      },
      "text/plain": [
       "Map(center=[59.9563008079342, 30.3189969457719], controls=(ZoomControl(options=['position', 'zoom_in_text', 'z…"
      ]
     },
     "metadata": {},
     "output_type": "display_data"
    }
   ],
   "source": [
    "m"
   ]
  },
  {
   "cell_type": "code",
   "execution_count": null,
   "id": "c6b0f18c-9b80-4013-8d0b-aa961077c141",
   "metadata": {},
   "outputs": [],
   "source": []
  }
 ],
 "metadata": {
  "kernelspec": {
   "display_name": "Python 3",
   "language": "python",
   "name": "python3"
  },
  "language_info": {
   "codemirror_mode": {
    "name": "ipython",
    "version": 3
   },
   "file_extension": ".py",
   "mimetype": "text/x-python",
   "name": "python",
   "nbconvert_exporter": "python",
   "pygments_lexer": "ipython3",
   "version": "3.8.8"
  }
 },
 "nbformat": 4,
 "nbformat_minor": 5
}
