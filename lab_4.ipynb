{
 "cells": [
  {
   "cell_type": "code",
   "execution_count": 1,
   "id": "d0e39a42-76d5-4bed-8564-52b22625f44f",
   "metadata": {},
   "outputs": [],
   "source": [
    "import os\n",
    "\n",
    "os.chdir(\"C:\\\\Users\\\\olya\\\\Downloads\")\n",
    "\n",
    "import pandas as pd\n",
    "import numpy as np\n",
    "import matplotlib\n",
    "import matplotlib.pyplot as plt\n",
    "%matplotlib inline\n",
    "import math\n",
    "from ipywidgets import HTML\n",
    "from ipyleaflet import Map, Marker, Popup"
   ]
  },
  {
   "cell_type": "code",
   "execution_count": 2,
   "id": "acc5433f-cf11-40d8-9a50-7fcea609848d",
   "metadata": {},
   "outputs": [],
   "source": [
    "df = pd.read_csv('ALL_SPB_STOPS.CSV', sep=\";\", header = 0, index_col=False,encoding='Windows-1251')"
   ]
  },
  {
   "cell_type": "code",
   "execution_count": 3,
   "id": "d057dff6-154d-4808-8251-d6e96f7178cb",
   "metadata": {},
   "outputs": [],
   "source": [
    "df.insert(4,\"S\",0)"
   ]
  },
  {
   "cell_type": "code",
   "execution_count": 4,
   "id": "0143703c-23fd-459d-9f67-684d63f6a8ac",
   "metadata": {},
   "outputs": [
    {
     "data": {
      "text/html": [
       "<div>\n",
       "<style scoped>\n",
       "    .dataframe tbody tr th:only-of-type {\n",
       "        vertical-align: middle;\n",
       "    }\n",
       "\n",
       "    .dataframe tbody tr th {\n",
       "        vertical-align: top;\n",
       "    }\n",
       "\n",
       "    .dataframe thead th {\n",
       "        text-align: right;\n",
       "    }\n",
       "</style>\n",
       "<table border=\"1\" class=\"dataframe\">\n",
       "  <thead>\n",
       "    <tr style=\"text-align: right;\">\n",
       "      <th></th>\n",
       "      <th>ID_STOP</th>\n",
       "      <th>STOP_NAME</th>\n",
       "      <th>LATITUDE</th>\n",
       "      <th>LONGITUDE</th>\n",
       "      <th>S</th>\n",
       "    </tr>\n",
       "  </thead>\n",
       "  <tbody>\n",
       "    <tr>\n",
       "      <th>0</th>\n",
       "      <td>100101</td>\n",
       "      <td>Пр.Ветеранов-1</td>\n",
       "      <td>59.841604</td>\n",
       "      <td>30.253984</td>\n",
       "      <td>0</td>\n",
       "    </tr>\n",
       "    <tr>\n",
       "      <th>1</th>\n",
       "      <td>100102</td>\n",
       "      <td>Пр.Ветеранов-2</td>\n",
       "      <td>59.842042</td>\n",
       "      <td>30.250084</td>\n",
       "      <td>0</td>\n",
       "    </tr>\n",
       "    <tr>\n",
       "      <th>2</th>\n",
       "      <td>100103</td>\n",
       "      <td>Ленинский пр.-1</td>\n",
       "      <td>59.851683</td>\n",
       "      <td>30.268385</td>\n",
       "      <td>0</td>\n",
       "    </tr>\n",
       "    <tr>\n",
       "      <th>3</th>\n",
       "      <td>100104</td>\n",
       "      <td>Ленинский пр.-2</td>\n",
       "      <td>59.849710</td>\n",
       "      <td>30.268348</td>\n",
       "      <td>0</td>\n",
       "    </tr>\n",
       "    <tr>\n",
       "      <th>4</th>\n",
       "      <td>100105</td>\n",
       "      <td>Автово</td>\n",
       "      <td>59.867292</td>\n",
       "      <td>30.261133</td>\n",
       "      <td>0</td>\n",
       "    </tr>\n",
       "  </tbody>\n",
       "</table>\n",
       "</div>"
      ],
      "text/plain": [
       "   ID_STOP        STOP_NAME   LATITUDE  LONGITUDE  S\n",
       "0   100101   Пр.Ветеранов-1  59.841604  30.253984  0\n",
       "1   100102   Пр.Ветеранов-2  59.842042  30.250084  0\n",
       "2   100103  Ленинский пр.-1  59.851683  30.268385  0\n",
       "3   100104  Ленинский пр.-2  59.849710  30.268348  0\n",
       "4   100105           Автово  59.867292  30.261133  0"
      ]
     },
     "execution_count": 4,
     "metadata": {},
     "output_type": "execute_result"
    }
   ],
   "source": [
    "df.head()"
   ]
  },
  {
   "cell_type": "code",
   "execution_count": 5,
   "id": "3dea7ef3-fe91-456c-9970-42b271d46e42",
   "metadata": {},
   "outputs": [],
   "source": [
    "df['S']=0"
   ]
  },
  {
   "cell_type": "code",
   "execution_count": 6,
   "id": "ef82dcea-99ca-4583-9a43-5960c5df025a",
   "metadata": {},
   "outputs": [
    {
     "data": {
      "text/plain": [
       "ID_STOP        int64\n",
       "STOP_NAME     object\n",
       "LATITUDE     float64\n",
       "LONGITUDE    float64\n",
       "S              int64\n",
       "dtype: object"
      ]
     },
     "execution_count": 6,
     "metadata": {},
     "output_type": "execute_result"
    }
   ],
   "source": [
    "df.dtypes"
   ]
  },
  {
   "cell_type": "code",
   "execution_count": 7,
   "id": "8343caf5-cb12-421f-998a-bc9e86749f62",
   "metadata": {},
   "outputs": [],
   "source": [
    "df['ID_STOP'] = df['ID_STOP'].astype(str)"
   ]
  },
  {
   "cell_type": "code",
   "execution_count": 8,
   "id": "aa88dfec-22ca-45a5-8743-47f2a2a64a66",
   "metadata": {},
   "outputs": [
    {
     "name": "stdout",
     "output_type": "stream",
     "text": [
      "   ID_STOP    STOP_NAME   LATITUDE  LONGITUDE  S\n",
      "36  100214  Горьковская  59.956301  30.318997  0\n"
     ]
    }
   ],
   "source": [
    "gor = df[(df['ID_STOP'].str.startswith('100'))&(df['STOP_NAME']=='Горьковская')]\n",
    "print(gor)"
   ]
  },
  {
   "cell_type": "code",
   "execution_count": 9,
   "id": "e5fea680-0f29-4fcc-a8ca-aa88371fc395",
   "metadata": {},
   "outputs": [
    {
     "name": "stdout",
     "output_type": "stream",
     "text": [
      "30.3189969457719\n"
     ]
    },
    {
     "data": {
      "text/plain": [
       "59.9563008079342"
      ]
     },
     "execution_count": 9,
     "metadata": {},
     "output_type": "execute_result"
    }
   ],
   "source": [
    "gorlong=gor.loc[36].at['LONGITUDE']\n",
    "gorlat=gor.loc[36].at['LATITUDE']\n",
    "print(gorlong)\n",
    "gorlat"
   ]
  },
  {
   "cell_type": "code",
   "execution_count": 10,
   "id": "ba075337-5806-488f-9419-740cf9a23140",
   "metadata": {},
   "outputs": [],
   "source": [
    "A=abs(df['LATITUDE']-gorlat)*116.16\n",
    "B=abs(df['LONGITUDE']-gorlong)*113.3*np.cos(np.minimum(df['LATITUDE'],gorlat))\n",
    "temp=(A/6400)*(A/6400)+(B/6400)*(B/6400)\n",
    "C=np.sqrt(temp)*6400"
   ]
  },
  {
   "cell_type": "code",
   "execution_count": 11,
   "id": "7a05b052-7fc0-4342-849c-4da95126e4f0",
   "metadata": {},
   "outputs": [],
   "source": [
    "df['S']=C"
   ]
  },
  {
   "cell_type": "code",
   "execution_count": 12,
   "id": "55d37782-1ba0-4c76-9847-a12ae74e233d",
   "metadata": {},
   "outputs": [
    {
     "data": {
      "text/html": [
       "<div>\n",
       "<style scoped>\n",
       "    .dataframe tbody tr th:only-of-type {\n",
       "        vertical-align: middle;\n",
       "    }\n",
       "\n",
       "    .dataframe tbody tr th {\n",
       "        vertical-align: top;\n",
       "    }\n",
       "\n",
       "    .dataframe thead th {\n",
       "        text-align: right;\n",
       "    }\n",
       "</style>\n",
       "<table border=\"1\" class=\"dataframe\">\n",
       "  <thead>\n",
       "    <tr style=\"text-align: right;\">\n",
       "      <th></th>\n",
       "      <th>ID_STOP</th>\n",
       "      <th>STOP_NAME</th>\n",
       "      <th>LATITUDE</th>\n",
       "      <th>LONGITUDE</th>\n",
       "      <th>S</th>\n",
       "    </tr>\n",
       "  </thead>\n",
       "  <tbody>\n",
       "    <tr>\n",
       "      <th>0</th>\n",
       "      <td>100101</td>\n",
       "      <td>Пр.Ветеранов-1</td>\n",
       "      <td>59.841604</td>\n",
       "      <td>30.253984</td>\n",
       "      <td>15.183257</td>\n",
       "    </tr>\n",
       "    <tr>\n",
       "      <th>1</th>\n",
       "      <td>100102</td>\n",
       "      <td>Пр.Ветеранов-2</td>\n",
       "      <td>59.842042</td>\n",
       "      <td>30.250084</td>\n",
       "      <td>15.353283</td>\n",
       "    </tr>\n",
       "    <tr>\n",
       "      <th>2</th>\n",
       "      <td>100103</td>\n",
       "      <td>Ленинский пр.-1</td>\n",
       "      <td>59.851683</td>\n",
       "      <td>30.268385</td>\n",
       "      <td>13.405717</td>\n",
       "    </tr>\n",
       "    <tr>\n",
       "      <th>3</th>\n",
       "      <td>100104</td>\n",
       "      <td>Ленинский пр.-2</td>\n",
       "      <td>59.849710</td>\n",
       "      <td>30.268348</td>\n",
       "      <td>13.616366</td>\n",
       "    </tr>\n",
       "    <tr>\n",
       "      <th>4</th>\n",
       "      <td>100105</td>\n",
       "      <td>Автово</td>\n",
       "      <td>59.867292</td>\n",
       "      <td>30.261133</td>\n",
       "      <td>12.188046</td>\n",
       "    </tr>\n",
       "  </tbody>\n",
       "</table>\n",
       "</div>"
      ],
      "text/plain": [
       "  ID_STOP        STOP_NAME   LATITUDE  LONGITUDE          S\n",
       "0  100101   Пр.Ветеранов-1  59.841604  30.253984  15.183257\n",
       "1  100102   Пр.Ветеранов-2  59.842042  30.250084  15.353283\n",
       "2  100103  Ленинский пр.-1  59.851683  30.268385  13.405717\n",
       "3  100104  Ленинский пр.-2  59.849710  30.268348  13.616366\n",
       "4  100105           Автово  59.867292  30.261133  12.188046"
      ]
     },
     "execution_count": 12,
     "metadata": {},
     "output_type": "execute_result"
    }
   ],
   "source": [
    "df.head()"
   ]
  },
  {
   "cell_type": "code",
   "execution_count": 13,
   "id": "efd6e892-15fb-4eaf-a418-83b79026874b",
   "metadata": {},
   "outputs": [
    {
     "data": {
      "text/html": [
       "<div>\n",
       "<style scoped>\n",
       "    .dataframe tbody tr th:only-of-type {\n",
       "        vertical-align: middle;\n",
       "    }\n",
       "\n",
       "    .dataframe tbody tr th {\n",
       "        vertical-align: top;\n",
       "    }\n",
       "\n",
       "    .dataframe thead th {\n",
       "        text-align: right;\n",
       "    }\n",
       "</style>\n",
       "<table border=\"1\" class=\"dataframe\">\n",
       "  <thead>\n",
       "    <tr style=\"text-align: right;\">\n",
       "      <th></th>\n",
       "      <th>ID_STOP</th>\n",
       "      <th>STOP_NAME</th>\n",
       "      <th>LATITUDE</th>\n",
       "      <th>LONGITUDE</th>\n",
       "      <th>S</th>\n",
       "    </tr>\n",
       "  </thead>\n",
       "  <tbody>\n",
       "    <tr>\n",
       "      <th>0</th>\n",
       "      <td>1383</td>\n",
       "      <td>БОЛЬШАЯ МОНЕТНАЯ УЛ. [46А]</td>\n",
       "      <td>59.960944</td>\n",
       "      <td>30.316399</td>\n",
       "      <td>0.609547</td>\n",
       "    </tr>\n",
       "    <tr>\n",
       "      <th>1</th>\n",
       "      <td>16072</td>\n",
       "      <td>Сытный рынок T (6, 40)</td>\n",
       "      <td>59.956379</td>\n",
       "      <td>30.311045</td>\n",
       "      <td>0.869340</td>\n",
       "    </tr>\n",
       "    <tr>\n",
       "      <th>2</th>\n",
       "      <td>16077</td>\n",
       "      <td>Метро \"Горьковская\" T (6, 40)</td>\n",
       "      <td>59.956536</td>\n",
       "      <td>30.319330</td>\n",
       "      <td>0.045550</td>\n",
       "    </tr>\n",
       "    <tr>\n",
       "      <th>3</th>\n",
       "      <td>16083</td>\n",
       "      <td>Троицкая площадь T (6, 40)</td>\n",
       "      <td>59.954522</td>\n",
       "      <td>30.326731</td>\n",
       "      <td>0.870689</td>\n",
       "    </tr>\n",
       "    <tr>\n",
       "      <th>4</th>\n",
       "      <td>16150</td>\n",
       "      <td>Троицкая площадь T (6, 40)</td>\n",
       "      <td>59.954751</td>\n",
       "      <td>30.326880</td>\n",
       "      <td>0.880631</td>\n",
       "    </tr>\n",
       "    <tr>\n",
       "      <th>5</th>\n",
       "      <td>16153</td>\n",
       "      <td>Метро \"Горьковская\" Т (6, 40)</td>\n",
       "      <td>59.956591</td>\n",
       "      <td>30.319479</td>\n",
       "      <td>0.062550</td>\n",
       "    </tr>\n",
       "    <tr>\n",
       "      <th>6</th>\n",
       "      <td>16158</td>\n",
       "      <td>Сытный рынок T (6, 40)</td>\n",
       "      <td>59.956605</td>\n",
       "      <td>30.311727</td>\n",
       "      <td>0.795436</td>\n",
       "    </tr>\n",
       "    <tr>\n",
       "      <th>7</th>\n",
       "      <td>17847</td>\n",
       "      <td>Б. МОНЕТНАЯ УЛ. (тест)</td>\n",
       "      <td>59.961946</td>\n",
       "      <td>30.315037</td>\n",
       "      <td>0.785707</td>\n",
       "    </tr>\n",
       "    <tr>\n",
       "      <th>8</th>\n",
       "      <td>17848</td>\n",
       "      <td>ТРОИЦКАЯ ПЛ. (тест)</td>\n",
       "      <td>59.954098</td>\n",
       "      <td>30.322533</td>\n",
       "      <td>0.463727</td>\n",
       "    </tr>\n",
       "    <tr>\n",
       "      <th>9</th>\n",
       "      <td>17915</td>\n",
       "      <td>ТРОИЦКАЯ ПЛ. (тест)&lt;</td>\n",
       "      <td>59.953811</td>\n",
       "      <td>30.323404</td>\n",
       "      <td>0.562226</td>\n",
       "    </tr>\n",
       "    <tr>\n",
       "      <th>10</th>\n",
       "      <td>19098</td>\n",
       "      <td>СЫТНЫЙ РЫНОК</td>\n",
       "      <td>59.958649</td>\n",
       "      <td>30.311667</td>\n",
       "      <td>0.846489</td>\n",
       "    </tr>\n",
       "    <tr>\n",
       "      <th>11</th>\n",
       "      <td>19099</td>\n",
       "      <td>АВСТРИЙСКАЯ ПЛ.</td>\n",
       "      <td>59.960045</td>\n",
       "      <td>30.317961</td>\n",
       "      <td>0.449380</td>\n",
       "    </tr>\n",
       "    <tr>\n",
       "      <th>12</th>\n",
       "      <td>19100</td>\n",
       "      <td>М. МОНЕТНАЯ УЛ.</td>\n",
       "      <td>59.961142</td>\n",
       "      <td>30.323509</td>\n",
       "      <td>0.748029</td>\n",
       "    </tr>\n",
       "    <tr>\n",
       "      <th>13</th>\n",
       "      <td>19107</td>\n",
       "      <td>М. МОНЕТНАЯ УЛ.</td>\n",
       "      <td>59.962452</td>\n",
       "      <td>30.321533</td>\n",
       "      <td>0.766378</td>\n",
       "    </tr>\n",
       "    <tr>\n",
       "      <th>14</th>\n",
       "      <td>19108</td>\n",
       "      <td>КАМЕННООСТРОВСКИЙ ПР.</td>\n",
       "      <td>59.961481</td>\n",
       "      <td>30.316120</td>\n",
       "      <td>0.678908</td>\n",
       "    </tr>\n",
       "    <tr>\n",
       "      <th>15</th>\n",
       "      <td>19110</td>\n",
       "      <td>СЫТНИНСКАЯ УЛ.</td>\n",
       "      <td>59.958561</td>\n",
       "      <td>30.312363</td>\n",
       "      <td>0.771259</td>\n",
       "    </tr>\n",
       "    <tr>\n",
       "      <th>16</th>\n",
       "      <td>2062</td>\n",
       "      <td>СТ. МЕТРО \"ГОРЬКОВСКАЯ\"</td>\n",
       "      <td>59.955818</td>\n",
       "      <td>30.320890</td>\n",
       "      <td>0.214468</td>\n",
       "    </tr>\n",
       "    <tr>\n",
       "      <th>17</th>\n",
       "      <td>2150</td>\n",
       "      <td>ТРОИЦКАЯ ПЛОЩАДЬ [46А, 49]&lt;</td>\n",
       "      <td>59.954631</td>\n",
       "      <td>30.326467</td>\n",
       "      <td>0.839704</td>\n",
       "    </tr>\n",
       "    <tr>\n",
       "      <th>18</th>\n",
       "      <td>22833</td>\n",
       "      <td>ТРОИЦКАЯ ПЛ.</td>\n",
       "      <td>59.953363</td>\n",
       "      <td>30.324442</td>\n",
       "      <td>0.686527</td>\n",
       "    </tr>\n",
       "    <tr>\n",
       "      <th>19</th>\n",
       "      <td>23313</td>\n",
       "      <td>Ст. метро \"Горьковская\"</td>\n",
       "      <td>59.956605</td>\n",
       "      <td>30.319870</td>\n",
       "      <td>0.101752</td>\n",
       "    </tr>\n",
       "    <tr>\n",
       "      <th>20</th>\n",
       "      <td>23324</td>\n",
       "      <td>СЫТНЫЙ РЫНОК</td>\n",
       "      <td>59.956820</td>\n",
       "      <td>30.312458</td>\n",
       "      <td>0.717339</td>\n",
       "    </tr>\n",
       "    <tr>\n",
       "      <th>21</th>\n",
       "      <td>3250</td>\n",
       "      <td>СТ. МЕТРО \"ГОРЬКОВСКАЯ\" [46А]&lt;</td>\n",
       "      <td>59.955534</td>\n",
       "      <td>30.321617</td>\n",
       "      <td>0.299998</td>\n",
       "    </tr>\n",
       "  </tbody>\n",
       "</table>\n",
       "</div>"
      ],
      "text/plain": [
       "   ID_STOP                       STOP_NAME   LATITUDE  LONGITUDE         S\n",
       "0     1383      БОЛЬШАЯ МОНЕТНАЯ УЛ. [46А]  59.960944  30.316399  0.609547\n",
       "1    16072          Сытный рынок T (6, 40)  59.956379  30.311045  0.869340\n",
       "2    16077   Метро \"Горьковская\" T (6, 40)  59.956536  30.319330  0.045550\n",
       "3    16083      Троицкая площадь T (6, 40)  59.954522  30.326731  0.870689\n",
       "4    16150      Троицкая площадь T (6, 40)  59.954751  30.326880  0.880631\n",
       "5    16153   Метро \"Горьковская\" Т (6, 40)  59.956591  30.319479  0.062550\n",
       "6    16158          Сытный рынок T (6, 40)  59.956605  30.311727  0.795436\n",
       "7    17847          Б. МОНЕТНАЯ УЛ. (тест)  59.961946  30.315037  0.785707\n",
       "8    17848             ТРОИЦКАЯ ПЛ. (тест)  59.954098  30.322533  0.463727\n",
       "9    17915            ТРОИЦКАЯ ПЛ. (тест)<  59.953811  30.323404  0.562226\n",
       "10   19098                    СЫТНЫЙ РЫНОК  59.958649  30.311667  0.846489\n",
       "11   19099                 АВСТРИЙСКАЯ ПЛ.  59.960045  30.317961  0.449380\n",
       "12   19100                 М. МОНЕТНАЯ УЛ.  59.961142  30.323509  0.748029\n",
       "13   19107                 М. МОНЕТНАЯ УЛ.  59.962452  30.321533  0.766378\n",
       "14   19108           КАМЕННООСТРОВСКИЙ ПР.  59.961481  30.316120  0.678908\n",
       "15   19110                  СЫТНИНСКАЯ УЛ.  59.958561  30.312363  0.771259\n",
       "16    2062         СТ. МЕТРО \"ГОРЬКОВСКАЯ\"  59.955818  30.320890  0.214468\n",
       "17    2150     ТРОИЦКАЯ ПЛОЩАДЬ [46А, 49]<  59.954631  30.326467  0.839704\n",
       "18   22833                    ТРОИЦКАЯ ПЛ.  59.953363  30.324442  0.686527\n",
       "19   23313         Ст. метро \"Горьковская\"  59.956605  30.319870  0.101752\n",
       "20   23324                    СЫТНЫЙ РЫНОК  59.956820  30.312458  0.717339\n",
       "21    3250  СТ. МЕТРО \"ГОРЬКОВСКАЯ\" [46А]<  59.955534  30.321617  0.299998"
      ]
     },
     "execution_count": 13,
     "metadata": {},
     "output_type": "execute_result"
    }
   ],
   "source": [
    "st=df[df['S']<1]\n",
    "st=st.drop(labels=[36])\n",
    "st.index=(range(len(st)))\n",
    "st"
   ]
  },
  {
   "cell_type": "code",
   "execution_count": 14,
   "id": "67d34c09-de34-4096-85d0-2c7065195ad9",
   "metadata": {},
   "outputs": [
    {
     "data": {
      "text/plain": [
       "[<matplotlib.lines.Line2D at 0x1c6bc900340>]"
      ]
     },
     "execution_count": 14,
     "metadata": {},
     "output_type": "execute_result"
    },
    {
     "data": {
      "image/png": "[encoded data removed]",
      "text/plain": [
       "<Figure size 432x288 with 1 Axes>"
      ]
     },
     "metadata": {
      "needs_background": "light"
     },
     "output_type": "display_data"
    }
   ],
   "source": [
    "x=st['LATITUDE']\n",
    "y=st['LONGITUDE']\n",
    "plt.plot(x, y,'bo')\n",
    "plt.plot(gorlat,gorlong,'ro')"
   ]
  },
  {
   "cell_type": "code",
   "execution_count": 15,
   "id": "6c2f7f68-8d5d-41c1-bff4-ae0d644a9daa",
   "metadata": {},
   "outputs": [],
   "source": [
    "\n",
    "from sklearn.cluster import KMeans"
   ]
  },
  {
   "cell_type": "code",
   "execution_count": 16,
   "id": "bb67af6a-49ae-439d-89c4-06cef942434b",
   "metadata": {},
   "outputs": [],
   "source": [
    "stch=st.drop(['ID_STOP','STOP_NAME','S'],axis=1)"
   ]
  },
  {
   "cell_type": "code",
   "execution_count": 17,
   "id": "ce2629cd-4116-40f4-a2df-afde7aaa0629",
   "metadata": {},
   "outputs": [
    {
     "name": "stderr",
     "output_type": "stream",
     "text": [
      "C:\\Users\\olya\\anaconda3\\lib\\site-packages\\sklearn\\cluster\\_kmeans.py:881: UserWarning: KMeans is known to have a memory leak on Windows with MKL, when there are less chunks than available threads. You can avoid it by setting the environment variable OMP_NUM_THREADS=1.\n",
      "  warnings.warn(\n"
     ]
    },
    {
     "data": {
      "text/plain": [
       "Text(0.5, 1.0, 'optimal k')"
      ]
     },
     "execution_count": 17,
     "metadata": {},
     "output_type": "execute_result"
    },
    {
     "data": {
      "image/png": "[encoded data removed]",
      "text/plain": [
       "<Figure size 432x288 with 1 Axes>"
      ]
     },
     "metadata": {
      "needs_background": "light"
     },
     "output_type": "display_data"
    }
   ],
   "source": [
    "K=range(1,10) \n",
    "models=[KMeans(n_clusters=k).fit(stch) for k in K] \n",
    "dist=[model.inertia_ for model in models]\n",
    "OMP_NUM_THREADS=1\n",
    "\n",
    "plt.plot(K,dist,marker='o')\n",
    "plt.xlabel('K')\n",
    "plt.ylabel('sum of distances')\n",
    "plt.title('optimal k')"
   ]
  },
  {
   "cell_type": "code",
   "execution_count": 18,
   "id": "45b42e56-aac3-4733-bd9d-b32c279a3dcc",
   "metadata": {
    "tags": []
   },
   "outputs": [],
   "source": [
    "model=KMeans(n_clusters=2)"
   ]
  },
  {
   "cell_type": "code",
   "execution_count": 19,
   "id": "2bb19f1c-7391-4024-aa4b-3dddf9a4c6ad",
   "metadata": {},
   "outputs": [
    {
     "data": {
      "text/plain": [
       "KMeans(n_clusters=2)"
      ]
     },
     "execution_count": 19,
     "metadata": {},
     "output_type": "execute_result"
    }
   ],
   "source": [
    "model.fit(stch)"
   ]
  },
  {
   "cell_type": "code",
   "execution_count": 20,
   "id": "f4a392c2-c1eb-4aad-bd97-d42a2d3e9a54",
   "metadata": {},
   "outputs": [
    {
     "data": {
      "text/plain": [
       "array([1, 1, 0, 0, 0, 0, 1, 1, 0, 0, 1, 1, 0, 0, 1, 1, 0, 0, 0, 0, 1, 0])"
      ]
     },
     "execution_count": 20,
     "metadata": {},
     "output_type": "execute_result"
    }
   ],
   "source": [
    "model.labels_"
   ]
  },
  {
   "cell_type": "code",
   "execution_count": 21,
   "id": "920b0115-1386-4760-b433-70df6b4eb23d",
   "metadata": {},
   "outputs": [
    {
     "data": {
      "text/plain": [
       "array([[59.95614259, 30.32282198],\n",
       "       [59.95904754, 30.31386396]])"
      ]
     },
     "execution_count": 21,
     "metadata": {},
     "output_type": "execute_result"
    }
   ],
   "source": [
    "model.cluster_centers_"
   ]
  },
  {
   "cell_type": "code",
   "execution_count": 22,
   "id": "cb1411fb-9470-4ff3-976e-63c602f5dec3",
   "metadata": {},
   "outputs": [],
   "source": [
    "x1=st[model.labels_==0]['LATITUDE']\n",
    "y1=st[model.labels_==0]['LONGITUDE']\n",
    "\n",
    "x2=st[model.labels_==1]['LATITUDE']\n",
    "y2=st[model.labels_==1]['LONGITUDE']"
   ]
  },
  {
   "cell_type": "code",
   "execution_count": 23,
   "id": "ef1447c8-5218-4b13-b310-891a01b9a279",
   "metadata": {
    "tags": []
   },
   "outputs": [
    {
     "data": {
      "text/plain": [
       "[<matplotlib.lines.Line2D at 0x1c6c7a4f250>]"
      ]
     },
     "execution_count": 23,
     "metadata": {},
     "output_type": "execute_result"
    },
    {
     "data": {
      "image/png": "[encoded data removed]",
      "text/plain": [
       "<Figure size 432x288 with 1 Axes>"
      ]
     },
     "metadata": {
      "needs_background": "light"
     },
     "output_type": "display_data"
    }
   ],
   "source": [
    "plt.plot(x1, y1,'bo')\n",
    "plt.plot(x2, y2,'go')\n",
    "plt.plot(gorlat,gorlong,'r*')\n",
    "plt.plot(model.cluster_centers_[0,0],model.cluster_centers_[0,1],'m+')\n",
    "plt.plot(model.cluster_centers_[1,0],model.cluster_centers_[1,1],'m+')"
   ]
  },
  {
   "cell_type": "code",
   "execution_count": 24,
   "id": "525f78a8-22c6-4ecc-a700-5efd0dfcd7f2",
   "metadata": {},
   "outputs": [
    {
     "name": "stdout",
     "output_type": "stream",
     "text": [
      "Номер кластера 0 \n",
      " 2      Метро \"Горьковская\" T (6, 40)\n",
      "3         Троицкая площадь T (6, 40)\n",
      "4         Троицкая площадь T (6, 40)\n",
      "5      Метро \"Горьковская\" Т (6, 40)\n",
      "8                ТРОИЦКАЯ ПЛ. (тест)\n",
      "9               ТРОИЦКАЯ ПЛ. (тест)<\n",
      "12                   М. МОНЕТНАЯ УЛ.\n",
      "13                   М. МОНЕТНАЯ УЛ.\n",
      "16           СТ. МЕТРО \"ГОРЬКОВСКАЯ\"\n",
      "17       ТРОИЦКАЯ ПЛОЩАДЬ [46А, 49]<\n",
      "18                      ТРОИЦКАЯ ПЛ.\n",
      "19           Ст. метро \"Горьковская\"\n",
      "21    СТ. МЕТРО \"ГОРЬКОВСКАЯ\" [46А]<\n",
      "Name: STOP_NAME, dtype: object\n",
      "Номер кластера 1 \n",
      " 0     БОЛЬШАЯ МОНЕТНАЯ УЛ. [46А]\n",
      "1         Сытный рынок T (6, 40)\n",
      "6         Сытный рынок T (6, 40)\n",
      "7         Б. МОНЕТНАЯ УЛ. (тест)\n",
      "10                  СЫТНЫЙ РЫНОК\n",
      "11               АВСТРИЙСКАЯ ПЛ.\n",
      "14         КАМЕННООСТРОВСКИЙ ПР.\n",
      "15                СЫТНИНСКАЯ УЛ.\n",
      "20                  СЫТНЫЙ РЫНОК\n",
      "Name: STOP_NAME, dtype: object\n"
     ]
    }
   ],
   "source": [
    "for i in range(2): print(\"Номер кластера\",i,\"\\n\",st[model.labels_==i]['STOP_NAME'])"
   ]
  },
  {
   "cell_type": "code",
   "execution_count": 25,
   "id": "41563c96-98ac-41da-9d1e-291df213dbe4",
   "metadata": {},
   "outputs": [],
   "source": [
    "model=KMeans(n_clusters=4)"
   ]
  },
  {
   "cell_type": "code",
   "execution_count": 26,
   "id": "1a5be039-0fe0-4742-98d1-fd73233f5402",
   "metadata": {},
   "outputs": [
    {
     "data": {
      "text/plain": [
       "KMeans(n_clusters=4)"
      ]
     },
     "execution_count": 26,
     "metadata": {},
     "output_type": "execute_result"
    }
   ],
   "source": [
    "model.fit(stch)"
   ]
  },
  {
   "cell_type": "code",
   "execution_count": 27,
   "id": "782cdd8a-ffd2-4db5-9d3d-8746637ac1ce",
   "metadata": {},
   "outputs": [
    {
     "data": {
      "text/plain": [
       "[<matplotlib.lines.Line2D at 0x1c6c7ab2b20>]"
      ]
     },
     "execution_count": 27,
     "metadata": {},
     "output_type": "execute_result"
    },
    {
     "data": {
      "image/png": "[encoded data removed]",
      "text/plain": [
       "<Figure size 432x288 with 1 Axes>"
      ]
     },
     "metadata": {
      "needs_background": "light"
     },
     "output_type": "display_data"
    }
   ],
   "source": [
    "x1=st[model.labels_==0]['LATITUDE']\n",
    "y1=st[model.labels_==0]['LONGITUDE']\n",
    "\n",
    "x2=st[model.labels_==1]['LATITUDE']\n",
    "y2=st[model.labels_==1]['LONGITUDE']\n",
    "\n",
    "x3=st[model.labels_==2]['LATITUDE']\n",
    "y3=st[model.labels_==2]['LONGITUDE']\n",
    "\n",
    "x4=st[model.labels_==3]['LATITUDE']\n",
    "y4=st[model.labels_==3]['LONGITUDE']\n",
    "\n",
    "plt.plot(x1, y1,'bo')\n",
    "plt.plot(x2, y2,'go')\n",
    "plt.plot(x3, y3,'mo')\n",
    "plt.plot(x4, y4,'co')\n",
    "plt.plot(gorlat,gorlong,'r*')\n",
    "\n",
    "plt.plot(model.cluster_centers_[0,0],model.cluster_centers_[0,1],'k+')\n",
    "plt.plot(model.cluster_centers_[1,0],model.cluster_centers_[1,1],'k+')\n",
    "plt.plot(model.cluster_centers_[3,0],model.cluster_centers_[3,1],'k+')\n",
    "plt.plot(model.cluster_centers_[2,0],model.cluster_centers_[2,1],'k+')"
   ]
  },
  {
   "cell_type": "code",
   "execution_count": 28,
   "id": "a9f6b9c3-21d8-4e39-b0bb-00c9abf20eca",
   "metadata": {},
   "outputs": [
    {
     "name": "stdout",
     "output_type": "stream",
     "text": [
      "Номер кластера 0 \n",
      " 3      Троицкая площадь T (6, 40)\n",
      "4      Троицкая площадь T (6, 40)\n",
      "8             ТРОИЦКАЯ ПЛ. (тест)\n",
      "9            ТРОИЦКАЯ ПЛ. (тест)<\n",
      "17    ТРОИЦКАЯ ПЛОЩАДЬ [46А, 49]<\n",
      "18                   ТРОИЦКАЯ ПЛ.\n",
      "Name: STOP_NAME, dtype: object\n",
      "Номер кластера 1 \n",
      " 1     Сытный рынок T (6, 40)\n",
      "6     Сытный рынок T (6, 40)\n",
      "10              СЫТНЫЙ РЫНОК\n",
      "15            СЫТНИНСКАЯ УЛ.\n",
      "20              СЫТНЫЙ РЫНОК\n",
      "Name: STOP_NAME, dtype: object\n",
      "Номер кластера 2 \n",
      " 2      Метро \"Горьковская\" T (6, 40)\n",
      "5      Метро \"Горьковская\" Т (6, 40)\n",
      "12                   М. МОНЕТНАЯ УЛ.\n",
      "16           СТ. МЕТРО \"ГОРЬКОВСКАЯ\"\n",
      "19           Ст. метро \"Горьковская\"\n",
      "21    СТ. МЕТРО \"ГОРЬКОВСКАЯ\" [46А]<\n",
      "Name: STOP_NAME, dtype: object\n",
      "Номер кластера 3 \n",
      " 0     БОЛЬШАЯ МОНЕТНАЯ УЛ. [46А]\n",
      "7         Б. МОНЕТНАЯ УЛ. (тест)\n",
      "11               АВСТРИЙСКАЯ ПЛ.\n",
      "13               М. МОНЕТНАЯ УЛ.\n",
      "14         КАМЕННООСТРОВСКИЙ ПР.\n",
      "Name: STOP_NAME, dtype: object\n"
     ]
    }
   ],
   "source": [
    "for i in range(4): print(\"Номер кластера\",i,\"\\n\",st[model.labels_==i]['STOP_NAME'])"
   ]
  },
  {
   "cell_type": "code",
   "execution_count": 29,
   "id": "428d6d22-8ea8-4aca-9ac0-eeadab854541",
   "metadata": {},
   "outputs": [],
   "source": [
    "stops_coordinates=[]\n",
    "i = 0\n",
    "while i < len(st.index):\n",
    "    stops_coordinates.append({'index': i, 'Coordinates': [st['LATITUDE'][i], st['LONGITUDE'][i]], 'Location': st['STOP_NAME'][i]})\n",
    "    i += 1"
   ]
  },
  {
   "cell_type": "code",
   "execution_count": 30,
   "id": "0a725888-1154-40a5-83ba-0e51842401db",
   "metadata": {},
   "outputs": [],
   "source": [
    "marker_coordinates = [stops['Coordinates'] for stops in stops_coordinates]\n",
    "marker_coordinates = [[float(x) for x in y] for y in marker_coordinates]"
   ]
  },
  {
   "cell_type": "code",
   "execution_count": 31,
   "id": "75f4863d-4961-48b7-8795-004837fd2113",
   "metadata": {},
   "outputs": [],
   "source": [
    "m = Map(center=(gorlat, gorlong), zoom=15)"
   ]
  },
  {
   "cell_type": "code",
   "execution_count": 32,
   "id": "1b5be1a5-8b98-4b1b-aa62-83963b38ccf6",
   "metadata": {},
   "outputs": [],
   "source": [
    "markers = [Marker(location=(marker_coordinates[i])) for i in range(len(marker_coordinates))]"
   ]
  },
  {
   "cell_type": "code",
   "execution_count": 33,
   "id": "69ecae99-ce96-49f8-8ba2-7f9229414924",
   "metadata": {},
   "outputs": [],
   "source": [
    "info_box_template = \"\"\"\n",
    "<dl>\n",
    "<dt>Адрес:</dt><dd>{Location}\n",
    "</dl>\n",
    "\"\"\""
   ]
  },
  {
   "cell_type": "code",
   "execution_count": 34,
   "id": "c216e835-98c3-49fb-ad4d-258935590047",
   "metadata": {},
   "outputs": [],
   "source": [
    "locations_info  = [info_box_template.format(**point) for point in stops_coordinates]"
   ]
  },
  {
   "cell_type": "code",
   "execution_count": 35,
   "id": "984a3106-8d39-4a0b-83f8-747c64da2d9b",
   "metadata": {},
   "outputs": [],
   "source": [
    "for i in range(len(markers)):\n",
    "    markers[i].popup = HTML(locations_info[i])\n",
    "    m.add_layer(markers[i])"
   ]
  },
  {
   "cell_type": "code",
   "execution_count": 36,
   "id": "55c0153e-044c-4b05-88c8-e127dcef4987",
   "metadata": {},
   "outputs": [
    {
     "data": {
      "application/vnd.jupyter.widget-view+json": {
       "model_id": "ca4e6152cab745c29c7ec142738409d3",
       "version_major": 2,
       "version_minor": 0
      },
      "text/plain": [
       "Map(center=[59.9563008079342, 30.3189969457719], controls=(ZoomControl(options=['position', 'zoom_in_text', 'z…"
      ]
     },
     "metadata": {},
     "output_type": "display_data"
    }
   ],
   "source": [
    "m"
   ]
  },
  {
   "cell_type": "code",
   "execution_count": 37,
   "id": "1fe16bce-b529-4192-b3aa-bbd63f2c2bd6",
   "metadata": {
    "tags": []
   },
   "outputs": [],
   "source": [
    "new_items=[[gorlat,gorlong]]"
   ]
  },
  {
   "cell_type": "code",
   "execution_count": 38,
   "id": "f16198b8-a4ce-4f39-b4a5-29fe3133ab8d",
   "metadata": {},
   "outputs": [
    {
     "data": {
      "text/plain": [
       "array([2])"
      ]
     },
     "execution_count": 38,
     "metadata": {},
     "output_type": "execute_result"
    }
   ],
   "source": [
    "model.predict(new_items)"
   ]
  },
  {
   "cell_type": "code",
   "execution_count": null,
   "id": "72814273-fb73-4ab4-8bcc-fbf0fb891606",
   "metadata": {},
   "outputs": [],
   "source": []
  }
 ],
 "metadata": {
  "kernelspec": {
   "display_name": "Python 3",
   "language": "python",
   "name": "python3"
  },
  "language_info": {
   "codemirror_mode": {
    "name": "ipython",
    "version": 3
   },
   "file_extension": ".py",
   "mimetype": "text/x-python",
   "name": "python",
   "nbconvert_exporter": "python",
   "pygments_lexer": "ipython3",
   "version": "3.8.8"
  }
 },
 "nbformat": 4,
 "nbformat_minor": 5
}
