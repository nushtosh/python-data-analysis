{
 "cells": [
  {
   "cell_type": "code",
   "execution_count": 605,
   "id": "750d5700-dece-4468-8875-22cb6483c107",
   "metadata": {},
   "outputs": [],
   "source": [
    "import pandas as pd\n",
    "import numpy as np\n",
    "import matplotlib\n",
    "import matplotlib.pyplot as plt\n",
    "matplotlib.style.use('ggplot')\n",
    "%matplotlib inline\n",
    "import os\n",
    "\n",
    "os.chdir(\"C:\\\\Users\\\\olya\\\\Downloads\")"
   ]
  },
  {
   "cell_type": "code",
   "execution_count": 606,
   "id": "cecc6f5a-5484-4eb6-8c66-6cc05bec7696",
   "metadata": {
    "tags": []
   },
   "outputs": [
    {
     "data": {
      "text/html": [
       "<div>\n",
       "<style scoped>\n",
       "    .dataframe tbody tr th:only-of-type {\n",
       "        vertical-align: middle;\n",
       "    }\n",
       "\n",
       "    .dataframe tbody tr th {\n",
       "        vertical-align: top;\n",
       "    }\n",
       "\n",
       "    .dataframe thead th {\n",
       "        text-align: right;\n",
       "    }\n",
       "</style>\n",
       "<table border=\"1\" class=\"dataframe\">\n",
       "  <thead>\n",
       "    <tr style=\"text-align: right;\">\n",
       "      <th></th>\n",
       "      <th>Id</th>\n",
       "      <th>SQUARE_METERS</th>\n",
       "      <th>METRO_DISTANCE</th>\n",
       "      <th>PRICE</th>\n",
       "    </tr>\n",
       "  </thead>\n",
       "  <tbody>\n",
       "    <tr>\n",
       "      <th>0</th>\n",
       "      <td>601</td>\n",
       "      <td>28</td>\n",
       "      <td>677</td>\n",
       "      <td>7328400</td>\n",
       "    </tr>\n",
       "    <tr>\n",
       "      <th>1</th>\n",
       "      <td>602</td>\n",
       "      <td>54</td>\n",
       "      <td>120</td>\n",
       "      <td>9754600</td>\n",
       "    </tr>\n",
       "    <tr>\n",
       "      <th>2</th>\n",
       "      <td>603</td>\n",
       "      <td>43</td>\n",
       "      <td>1344</td>\n",
       "      <td>6781500</td>\n",
       "    </tr>\n",
       "    <tr>\n",
       "      <th>3</th>\n",
       "      <td>604</td>\n",
       "      <td>33</td>\n",
       "      <td>1003</td>\n",
       "      <td>6784100</td>\n",
       "    </tr>\n",
       "    <tr>\n",
       "      <th>4</th>\n",
       "      <td>605</td>\n",
       "      <td>30</td>\n",
       "      <td>591</td>\n",
       "      <td>7296200</td>\n",
       "    </tr>\n",
       "    <tr>\n",
       "      <th>...</th>\n",
       "      <td>...</td>\n",
       "      <td>...</td>\n",
       "      <td>...</td>\n",
       "      <td>...</td>\n",
       "    </tr>\n",
       "    <tr>\n",
       "      <th>95</th>\n",
       "      <td>696</td>\n",
       "      <td>28</td>\n",
       "      <td>2073</td>\n",
       "      <td>4826700</td>\n",
       "    </tr>\n",
       "    <tr>\n",
       "      <th>96</th>\n",
       "      <td>697</td>\n",
       "      <td>63</td>\n",
       "      <td>2120</td>\n",
       "      <td>6800800</td>\n",
       "    </tr>\n",
       "    <tr>\n",
       "      <th>97</th>\n",
       "      <td>698</td>\n",
       "      <td>33</td>\n",
       "      <td>1411</td>\n",
       "      <td>6517500</td>\n",
       "    </tr>\n",
       "    <tr>\n",
       "      <th>98</th>\n",
       "      <td>699</td>\n",
       "      <td>47</td>\n",
       "      <td>1715</td>\n",
       "      <td>6812100</td>\n",
       "    </tr>\n",
       "    <tr>\n",
       "      <th>99</th>\n",
       "      <td>700</td>\n",
       "      <td>31</td>\n",
       "      <td>1785</td>\n",
       "      <td>5583200</td>\n",
       "    </tr>\n",
       "  </tbody>\n",
       "</table>\n",
       "<p>100 rows × 4 columns</p>\n",
       "</div>"
      ],
      "text/plain": [
       "     Id  SQUARE_METERS  METRO_DISTANCE    PRICE\n",
       "0   601             28             677  7328400\n",
       "1   602             54             120  9754600\n",
       "2   603             43            1344  6781500\n",
       "3   604             33            1003  6784100\n",
       "4   605             30             591  7296200\n",
       "..  ...            ...             ...      ...\n",
       "95  696             28            2073  4826700\n",
       "96  697             63            2120  6800800\n",
       "97  698             33            1411  6517500\n",
       "98  699             47            1715  6812100\n",
       "99  700             31            1785  5583200\n",
       "\n",
       "[100 rows x 4 columns]"
      ]
     },
     "execution_count": 606,
     "metadata": {},
     "output_type": "execute_result"
    }
   ],
   "source": [
    "df = pd.read_excel('FLATS.xlsx')\n",
    "df"
   ]
  },
  {
   "cell_type": "code",
   "execution_count": 607,
   "id": "5d8130b7-5f9d-461b-8eb0-5fef138baafd",
   "metadata": {},
   "outputs": [
    {
     "data": {
      "text/html": [
       "<div>\n",
       "<style scoped>\n",
       "    .dataframe tbody tr th:only-of-type {\n",
       "        vertical-align: middle;\n",
       "    }\n",
       "\n",
       "    .dataframe tbody tr th {\n",
       "        vertical-align: top;\n",
       "    }\n",
       "\n",
       "    .dataframe thead th {\n",
       "        text-align: right;\n",
       "    }\n",
       "</style>\n",
       "<table border=\"1\" class=\"dataframe\">\n",
       "  <thead>\n",
       "    <tr style=\"text-align: right;\">\n",
       "      <th></th>\n",
       "      <th>model</th>\n",
       "      <th>MAE</th>\n",
       "      <th>RMSE</th>\n",
       "      <th>MPE</th>\n",
       "      <th>MAPE</th>\n",
       "      <th>AD</th>\n",
       "      <th>MAD</th>\n",
       "      <th>R^2</th>\n",
       "      <th>V</th>\n",
       "    </tr>\n",
       "  </thead>\n",
       "  <tbody>\n",
       "    <tr>\n",
       "      <th>0</th>\n",
       "      <td>SQUARE_METERS</td>\n",
       "      <td>0</td>\n",
       "      <td>0</td>\n",
       "      <td>0.0</td>\n",
       "      <td>0.0</td>\n",
       "      <td>0</td>\n",
       "      <td>0</td>\n",
       "      <td>0</td>\n",
       "      <td>0</td>\n",
       "    </tr>\n",
       "  </tbody>\n",
       "</table>\n",
       "</div>"
      ],
      "text/plain": [
       "           model  MAE  RMSE  MPE  MAPE  AD  MAD  R^2  V\n",
       "0  SQUARE_METERS    0     0  0.0   0.0   0    0    0  0"
      ]
     },
     "execution_count": 607,
     "metadata": {},
     "output_type": "execute_result"
    }
   ],
   "source": [
    "mark = pd.DataFrame({'model': ['SQUARE_METERS'], 'MAE': [0],'RMSE': [0],'MPE':[0.0],'MAPE':[0.0],'AD':[0],'MAD':[0],'R^2':[0],'V':[0]})\n",
    "mark1 = pd.DataFrame({'model': ['METRO_DISTANCE'], 'MAE': [0],'RMSE': [0],'MPE':[0.0],'MAPE':[0.0],'AD':[0],'MAD':[0],'R^2':[0],'V':[0]})\n",
    "mark2 = pd.DataFrame({'model': ['&'], 'MAE': [0],'RMSE': [0],'MPE':[0.0],'MAPE':[0.0],'AD':[0],'MAD':[0],'R^2':[0],'V':[0]})\n",
    "mark"
   ]
  },
  {
   "cell_type": "code",
   "execution_count": 608,
   "id": "3beb756c-32a6-4646-b4d9-27373512ce56",
   "metadata": {},
   "outputs": [],
   "source": [
    "from sklearn.linear_model import LinearRegression"
   ]
  },
  {
   "cell_type": "code",
   "execution_count": 609,
   "id": "9272f1b0-960f-46a1-a482-e8f67abc2df7",
   "metadata": {},
   "outputs": [],
   "source": [
    "X = np.array(df['SQUARE_METERS'])\n",
    "X=X.reshape(-1,1)\n",
    "y = np.array(df['PRICE'])\n",
    "y=y.reshape(-1,1)"
   ]
  },
  {
   "cell_type": "code",
   "execution_count": 610,
   "id": "9fabe029-1e19-4616-a119-1bc54da4ee0b",
   "metadata": {},
   "outputs": [
    {
     "data": {
      "text/plain": [
       "LinearRegression()"
      ]
     },
     "execution_count": 610,
     "metadata": {},
     "output_type": "execute_result"
    }
   ],
   "source": [
    "model = LinearRegression()\n",
    "model.fit(X, y, sample_weight=None)"
   ]
  },
  {
   "cell_type": "code",
   "execution_count": 611,
   "id": "0834daa5-898b-4b79-b00e-6fff91186565",
   "metadata": {},
   "outputs": [
    {
     "name": "stderr",
     "output_type": "stream",
     "text": [
      "C:\\Users\\olya\\anaconda3\\lib\\site-packages\\sklearn\\metrics\\cluster\\_supervised.py:58: UserWarning: Clustering metrics expects discrete values but received continuous values for label, and multiclass values for target\n",
      "  warnings.warn(msg, UserWarning)\n"
     ]
    },
    {
     "data": {
      "text/html": [
       "<div>\n",
       "<style scoped>\n",
       "    .dataframe tbody tr th:only-of-type {\n",
       "        vertical-align: middle;\n",
       "    }\n",
       "\n",
       "    .dataframe tbody tr th {\n",
       "        vertical-align: top;\n",
       "    }\n",
       "\n",
       "    .dataframe thead th {\n",
       "        text-align: right;\n",
       "    }\n",
       "</style>\n",
       "<table border=\"1\" class=\"dataframe\">\n",
       "  <thead>\n",
       "    <tr style=\"text-align: right;\">\n",
       "      <th></th>\n",
       "      <th>model</th>\n",
       "      <th>MAE</th>\n",
       "      <th>RMSE</th>\n",
       "      <th>MPE</th>\n",
       "      <th>MAPE</th>\n",
       "      <th>AD</th>\n",
       "      <th>MAD</th>\n",
       "      <th>R^2</th>\n",
       "      <th>V</th>\n",
       "    </tr>\n",
       "  </thead>\n",
       "  <tbody>\n",
       "    <tr>\n",
       "      <th>0</th>\n",
       "      <td>SQUARE_METERS</td>\n",
       "      <td>990261.942495</td>\n",
       "      <td>1.141985e+06</td>\n",
       "      <td>-3.30114</td>\n",
       "      <td>0.156938</td>\n",
       "      <td>632052.577029</td>\n",
       "      <td>6320.52577</td>\n",
       "      <td>0.452221</td>\n",
       "      <td>0.896014</td>\n",
       "    </tr>\n",
       "  </tbody>\n",
       "</table>\n",
       "</div>"
      ],
      "text/plain": [
       "           model            MAE          RMSE      MPE      MAPE  \\\n",
       "0  SQUARE_METERS  990261.942495  1.141985e+06 -3.30114  0.156938   \n",
       "\n",
       "              AD         MAD       R^2         V  \n",
       "0  632052.577029  6320.52577  0.452221  0.896014  "
      ]
     },
     "execution_count": 611,
     "metadata": {},
     "output_type": "execute_result"
    }
   ],
   "source": [
    "y_pred = model.predict(X)\n",
    "\n",
    "mae= metrics.mean_absolute_error(y, y_pred)\n",
    "mark['MAE']=mae\n",
    "\n",
    "rmse=np.sqrt(metrics.mean_squared_error(y, y_pred))\n",
    "mark['RMSE']=rmse\n",
    "\n",
    "mpe = np.mean((y - y_pred)/y)*100\n",
    "mark['MPE']=mpe\n",
    "\n",
    "mape=metrics.mean_absolute_percentage_error(y,y_pred)\n",
    "mark['MAPE']=mape\n",
    "\n",
    "yav=np.mean(y)\n",
    "ad=0\n",
    "sum=0\n",
    "for num in range(100):\n",
    "    ad=abs(y_pred[num]-yav)\n",
    "    sum = sum + ad \n",
    "mark['AD']=ad[0]\n",
    "mark['MAD']=ad[0]/100\n",
    "\n",
    "r2=(model.score(X, y))\n",
    "mark['R^2']=r2\n",
    "\n",
    "yar=[v[0] for v in y]\n",
    "y_predar=[v[0] for v in y_pred]\n",
    "v=metrics.v_measure_score(y_predar,yar)\n",
    "mark['V']=v\n",
    "\n",
    "\n",
    "mark"
   ]
  },
  {
   "cell_type": "code",
   "execution_count": 612,
   "id": "783fd9fb-d6bc-41ba-8b29-ead06a44833d",
   "metadata": {},
   "outputs": [],
   "source": [
    "X = np.array(df['METRO_DISTANCE'])\n",
    "X=X.reshape(-1,1)\n",
    "y = np.array(df['PRICE'])\n",
    "y=y.reshape(-1,1)"
   ]
  },
  {
   "cell_type": "code",
   "execution_count": 613,
   "id": "66ef8ff3-9a6a-44cf-9095-02cd5e711026",
   "metadata": {},
   "outputs": [
    {
     "data": {
      "text/plain": [
       "LinearRegression()"
      ]
     },
     "execution_count": 613,
     "metadata": {},
     "output_type": "execute_result"
    }
   ],
   "source": [
    "model = LinearRegression()\n",
    "model.fit(X, y, sample_weight=None)"
   ]
  },
  {
   "cell_type": "code",
   "execution_count": 614,
   "id": "2cb35b98-d421-4af2-86fe-358bc77eae3c",
   "metadata": {},
   "outputs": [
    {
     "name": "stderr",
     "output_type": "stream",
     "text": [
      "C:\\Users\\olya\\anaconda3\\lib\\site-packages\\sklearn\\metrics\\cluster\\_supervised.py:58: UserWarning: Clustering metrics expects discrete values but received continuous values for label, and multiclass values for target\n",
      "  warnings.warn(msg, UserWarning)\n"
     ]
    },
    {
     "data": {
      "text/html": [
       "<div>\n",
       "<style scoped>\n",
       "    .dataframe tbody tr th:only-of-type {\n",
       "        vertical-align: middle;\n",
       "    }\n",
       "\n",
       "    .dataframe tbody tr th {\n",
       "        vertical-align: top;\n",
       "    }\n",
       "\n",
       "    .dataframe thead th {\n",
       "        text-align: right;\n",
       "    }\n",
       "</style>\n",
       "<table border=\"1\" class=\"dataframe\">\n",
       "  <thead>\n",
       "    <tr style=\"text-align: right;\">\n",
       "      <th></th>\n",
       "      <th>model</th>\n",
       "      <th>MAE</th>\n",
       "      <th>RMSE</th>\n",
       "      <th>MPE</th>\n",
       "      <th>MAPE</th>\n",
       "      <th>AD</th>\n",
       "      <th>MAD</th>\n",
       "      <th>R^2</th>\n",
       "      <th>V</th>\n",
       "    </tr>\n",
       "  </thead>\n",
       "  <tbody>\n",
       "    <tr>\n",
       "      <th>0</th>\n",
       "      <td>METRO_DISTANCE</td>\n",
       "      <td>870605.15841</td>\n",
       "      <td>1.002814e+06</td>\n",
       "      <td>-2.569574</td>\n",
       "      <td>0.137804</td>\n",
       "      <td>845492.834796</td>\n",
       "      <td>8454.928348</td>\n",
       "      <td>0.577598</td>\n",
       "      <td>0.998493</td>\n",
       "    </tr>\n",
       "  </tbody>\n",
       "</table>\n",
       "</div>"
      ],
      "text/plain": [
       "            model           MAE          RMSE       MPE      MAPE  \\\n",
       "0  METRO_DISTANCE  870605.15841  1.002814e+06 -2.569574  0.137804   \n",
       "\n",
       "              AD          MAD       R^2         V  \n",
       "0  845492.834796  8454.928348  0.577598  0.998493  "
      ]
     },
     "execution_count": 614,
     "metadata": {},
     "output_type": "execute_result"
    }
   ],
   "source": [
    "y_pred = model.predict(X)\n",
    "\n",
    "mae= metrics.mean_absolute_error(y, y_pred)\n",
    "mark1['MAE']=mae\n",
    "\n",
    "rmse=np.sqrt(metrics.mean_squared_error(y, y_pred))\n",
    "mark1['RMSE']=rmse\n",
    "\n",
    "mpe = np.mean((y - y_pred)/y)*100\n",
    "mark1['MPE']=mpe\n",
    "\n",
    "mape=metrics.mean_absolute_percentage_error(y,y_pred)\n",
    "mark1['MAPE']=mape\n",
    "\n",
    "yav=np.mean(y)\n",
    "ad=0\n",
    "sum=0\n",
    "for num in range(100):\n",
    "    ad=abs(y_pred[num]-yav)\n",
    "    sum = sum + ad \n",
    "mark1['AD']=ad[0]\n",
    "mark1['MAD']=ad[0]/100\n",
    "\n",
    "r2=(model.score(X, y))\n",
    "mark1['R^2']=r2\n",
    "\n",
    "yar=[v[0] for v in y]\n",
    "y_predar=[v[0] for v in y_pred]\n",
    "v=metrics.v_measure_score(y_predar,yar)\n",
    "mark1['V']=v\n",
    "\n",
    "\n",
    "mark1"
   ]
  },
  {
   "cell_type": "code",
   "execution_count": 615,
   "id": "41409272-7f0f-464b-9849-4ebd5b32b93f",
   "metadata": {},
   "outputs": [
    {
     "data": {
      "image/png": "[encoded data removed]",
      "text/plain": [
       "<Figure size 432x288 with 1 Axes>"
      ]
     },
     "metadata": {
      "needs_background": "light"
     },
     "output_type": "display_data"
    }
   ],
   "source": [
    "Y_pred = model.predict(X)\n",
    "plt.scatter(X, y)\n",
    "plt.plot(X, Y_pred, color='blue')\n",
    "plt.show()"
   ]
  },
  {
   "cell_type": "code",
   "execution_count": 616,
   "id": "c59c7bf3-325f-4dd2-99a2-0ca82bc28cf4",
   "metadata": {
    "tags": []
   },
   "outputs": [],
   "source": [
    "X = df.drop(['Id', 'PRICE'], axis=1)\n",
    "\n",
    "y =df['PRICE']"
   ]
  },
  {
   "cell_type": "code",
   "execution_count": 617,
   "id": "b19626e2-3989-4b84-ae82-c2eb87992730",
   "metadata": {},
   "outputs": [
    {
     "data": {
      "text/plain": [
       "LinearRegression()"
      ]
     },
     "execution_count": 617,
     "metadata": {},
     "output_type": "execute_result"
    }
   ],
   "source": [
    "model = LinearRegression()\n",
    "model.fit(X, y, sample_weight=None)"
   ]
  },
  {
   "cell_type": "code",
   "execution_count": 618,
   "id": "a971c1bd-486c-47ab-8870-827c7427f2d7",
   "metadata": {},
   "outputs": [
    {
     "name": "stderr",
     "output_type": "stream",
     "text": [
      "C:\\Users\\olya\\anaconda3\\lib\\site-packages\\sklearn\\metrics\\cluster\\_supervised.py:58: UserWarning: Clustering metrics expects discrete values but received continuous values for label, and multiclass values for target\n",
      "  warnings.warn(msg, UserWarning)\n"
     ]
    },
    {
     "data": {
      "text/html": [
       "<div>\n",
       "<style scoped>\n",
       "    .dataframe tbody tr th:only-of-type {\n",
       "        vertical-align: middle;\n",
       "    }\n",
       "\n",
       "    .dataframe tbody tr th {\n",
       "        vertical-align: top;\n",
       "    }\n",
       "\n",
       "    .dataframe thead th {\n",
       "        text-align: right;\n",
       "    }\n",
       "</style>\n",
       "<table border=\"1\" class=\"dataframe\">\n",
       "  <thead>\n",
       "    <tr style=\"text-align: right;\">\n",
       "      <th></th>\n",
       "      <th>model</th>\n",
       "      <th>MAE</th>\n",
       "      <th>RMSE</th>\n",
       "      <th>MPE</th>\n",
       "      <th>MAPE</th>\n",
       "      <th>AD</th>\n",
       "      <th>MAD</th>\n",
       "      <th>R^2</th>\n",
       "      <th>V</th>\n",
       "    </tr>\n",
       "  </thead>\n",
       "  <tbody>\n",
       "    <tr>\n",
       "      <th>0</th>\n",
       "      <td>&amp;</td>\n",
       "      <td>188069.835656</td>\n",
       "      <td>231660.844156</td>\n",
       "      <td>-0.130611</td>\n",
       "      <td>0.028459</td>\n",
       "      <td>1.402643e+06</td>\n",
       "      <td>14026.430647</td>\n",
       "      <td>0.977458</td>\n",
       "      <td>1.0</td>\n",
       "    </tr>\n",
       "  </tbody>\n",
       "</table>\n",
       "</div>"
      ],
      "text/plain": [
       "  model            MAE           RMSE       MPE      MAPE            AD  \\\n",
       "0     &  188069.835656  231660.844156 -0.130611  0.028459  1.402643e+06   \n",
       "\n",
       "            MAD       R^2    V  \n",
       "0  14026.430647  0.977458  1.0  "
      ]
     },
     "execution_count": 618,
     "metadata": {},
     "output_type": "execute_result"
    }
   ],
   "source": [
    "y_pred = model.predict(X)\n",
    "\n",
    "mae= metrics.mean_absolute_error(y, y_pred)\n",
    "mark2['MAE']=mae\n",
    "\n",
    "rmse=np.sqrt(metrics.mean_squared_error(y, y_pred))\n",
    "mark2['RMSE']=rmse\n",
    "\n",
    "mpe = np.mean((y - y_pred)/y)*100\n",
    "mark2['MPE']=mpe\n",
    "\n",
    "mape=metrics.mean_absolute_percentage_error(y,y_pred)\n",
    "mark2['MAPE']=mape\n",
    "\n",
    "yav=np.mean(y)\n",
    "ad=0\n",
    "sum=0\n",
    "for num in range(100):\n",
    "    ad=abs(y_pred[num]-yav)\n",
    "    sum = sum + ad \n",
    "mark2['AD']=ad\n",
    "mark2['MAD']=ad/100\n",
    "\n",
    "r2=(model.score(X, y))\n",
    "mark2['R^2']=r2\n",
    "\n",
    "#yar=[v[0] for v in y]\n",
    "#y_predar=[v[0] for v in y_pred]\n",
    "v=metrics.v_measure_score(y_pred,y)\n",
    "mark2['V']=v\n",
    "\n",
    "\n",
    "mark2"
   ]
  },
  {
   "cell_type": "code",
   "execution_count": 633,
   "id": "454e204f-9453-42a8-8eef-2d89be823124",
   "metadata": {},
   "outputs": [
    {
     "data": {
      "text/html": [
       "<div>\n",
       "<style scoped>\n",
       "    .dataframe tbody tr th:only-of-type {\n",
       "        vertical-align: middle;\n",
       "    }\n",
       "\n",
       "    .dataframe tbody tr th {\n",
       "        vertical-align: top;\n",
       "    }\n",
       "\n",
       "    .dataframe thead th {\n",
       "        text-align: right;\n",
       "    }\n",
       "</style>\n",
       "<table border=\"1\" class=\"dataframe\">\n",
       "  <thead>\n",
       "    <tr style=\"text-align: right;\">\n",
       "      <th></th>\n",
       "      <th>model</th>\n",
       "      <th>MAE</th>\n",
       "      <th>RMSE</th>\n",
       "      <th>MPE</th>\n",
       "      <th>MAPE</th>\n",
       "      <th>AD</th>\n",
       "      <th>MAD</th>\n",
       "      <th>R^2</th>\n",
       "      <th>V</th>\n",
       "    </tr>\n",
       "  </thead>\n",
       "  <tbody>\n",
       "    <tr>\n",
       "      <th>0</th>\n",
       "      <td>SQUARE_METERS</td>\n",
       "      <td>990261.942495</td>\n",
       "      <td>1.141985e+06</td>\n",
       "      <td>-3.301140</td>\n",
       "      <td>0.156938</td>\n",
       "      <td>6.320526e+05</td>\n",
       "      <td>6320.525770</td>\n",
       "      <td>0.452221</td>\n",
       "      <td>0.896014</td>\n",
       "    </tr>\n",
       "    <tr>\n",
       "      <th>0</th>\n",
       "      <td>METRO_DISTANCE</td>\n",
       "      <td>870605.158410</td>\n",
       "      <td>1.002814e+06</td>\n",
       "      <td>-2.569574</td>\n",
       "      <td>0.137804</td>\n",
       "      <td>8.454928e+05</td>\n",
       "      <td>8454.928348</td>\n",
       "      <td>0.577598</td>\n",
       "      <td>0.998493</td>\n",
       "    </tr>\n",
       "    <tr>\n",
       "      <th>0</th>\n",
       "      <td>&amp;</td>\n",
       "      <td>188069.835656</td>\n",
       "      <td>2.316608e+05</td>\n",
       "      <td>-0.130611</td>\n",
       "      <td>0.028459</td>\n",
       "      <td>1.402643e+06</td>\n",
       "      <td>14026.430647</td>\n",
       "      <td>0.977458</td>\n",
       "      <td>1.000000</td>\n",
       "    </tr>\n",
       "  </tbody>\n",
       "</table>\n",
       "</div>"
      ],
      "text/plain": [
       "            model            MAE          RMSE       MPE      MAPE  \\\n",
       "0   SQUARE_METERS  990261.942495  1.141985e+06 -3.301140  0.156938   \n",
       "0  METRO_DISTANCE  870605.158410  1.002814e+06 -2.569574  0.137804   \n",
       "0               &  188069.835656  2.316608e+05 -0.130611  0.028459   \n",
       "\n",
       "             AD           MAD       R^2         V  \n",
       "0  6.320526e+05   6320.525770  0.452221  0.896014  \n",
       "0  8.454928e+05   8454.928348  0.577598  0.998493  \n",
       "0  1.402643e+06  14026.430647  0.977458  1.000000  "
      ]
     },
     "execution_count": 633,
     "metadata": {},
     "output_type": "execute_result"
    }
   ],
   "source": [
    "res = pd.concat([mark,mark1,mark2], axis=0)\n",
    "res"
   ]
  },
  {
   "cell_type": "code",
   "execution_count": 108,
   "id": "bbdfb1eb-729d-440b-afad-f2b02d0fb707",
   "metadata": {},
   "outputs": [
    {
     "data": {
      "text/html": [
       "<div>\n",
       "<style scoped>\n",
       "    .dataframe tbody tr th:only-of-type {\n",
       "        vertical-align: middle;\n",
       "    }\n",
       "\n",
       "    .dataframe tbody tr th {\n",
       "        vertical-align: top;\n",
       "    }\n",
       "\n",
       "    .dataframe thead th {\n",
       "        text-align: right;\n",
       "    }\n",
       "</style>\n",
       "<table border=\"1\" class=\"dataframe\">\n",
       "  <thead>\n",
       "    <tr style=\"text-align: right;\">\n",
       "      <th></th>\n",
       "      <th>predictor</th>\n",
       "      <th>coef</th>\n",
       "    </tr>\n",
       "  </thead>\n",
       "  <tbody>\n",
       "    <tr>\n",
       "      <th>0</th>\n",
       "      <td>intercept</td>\n",
       "      <td>6.496840e+06</td>\n",
       "    </tr>\n",
       "    <tr>\n",
       "      <th>1</th>\n",
       "      <td>SQUARE_METERS</td>\n",
       "      <td>5.852554e+04</td>\n",
       "    </tr>\n",
       "    <tr>\n",
       "      <th>2</th>\n",
       "      <td>METRO_DISTANCE</td>\n",
       "      <td>-1.603460e+03</td>\n",
       "    </tr>\n",
       "  </tbody>\n",
       "</table>\n",
       "</div>"
      ],
      "text/plain": [
       "        predictor          coef\n",
       "0       intercept  6.496840e+06\n",
       "1   SQUARE_METERS  5.852554e+04\n",
       "2  METRO_DISTANCE -1.603460e+03"
      ]
     },
     "execution_count": 108,
     "metadata": {},
     "output_type": "execute_result"
    }
   ],
   "source": [
    "coef = pd.DataFrame(zip(['intercept'] + X.columns.tolist(), [model.intercept_] + model.coef_.tolist()),\n",
    "                    columns=['predictor', 'coef'])\n",
    "coef"
   ]
  },
  {
   "cell_type": "code",
   "execution_count": null,
   "id": "e9c3def9-b064-4946-99e0-0be92d07c992",
   "metadata": {},
   "outputs": [],
   "source": []
  },
  {
   "cell_type": "code",
   "execution_count": null,
   "id": "05719989-787b-4361-8604-1a3f50103694",
   "metadata": {},
   "outputs": [],
   "source": []
  },
  {
   "cell_type": "code",
   "execution_count": null,
   "id": "f52c2a43-2241-410a-988f-7cebd3afb34a",
   "metadata": {},
   "outputs": [],
   "source": []
  },
  {
   "cell_type": "code",
   "execution_count": 110,
   "id": "052ad185-3b52-44ec-858d-95760b23d8b7",
   "metadata": {},
   "outputs": [
    {
     "data": {
      "text/html": [
       "<div>\n",
       "<style scoped>\n",
       "    .dataframe tbody tr th:only-of-type {\n",
       "        vertical-align: middle;\n",
       "    }\n",
       "\n",
       "    .dataframe tbody tr th {\n",
       "        vertical-align: top;\n",
       "    }\n",
       "\n",
       "    .dataframe thead th {\n",
       "        text-align: right;\n",
       "    }\n",
       "</style>\n",
       "<table border=\"1\" class=\"dataframe\">\n",
       "  <thead>\n",
       "    <tr style=\"text-align: right;\">\n",
       "      <th></th>\n",
       "      <th>predictor</th>\n",
       "      <th>coef</th>\n",
       "      <th>pvalue</th>\n",
       "    </tr>\n",
       "  </thead>\n",
       "  <tbody>\n",
       "    <tr>\n",
       "      <th>0</th>\n",
       "      <td>intercept</td>\n",
       "      <td>6.496840e+06</td>\n",
       "      <td>0.0</td>\n",
       "    </tr>\n",
       "    <tr>\n",
       "      <th>1</th>\n",
       "      <td>SQUARE_METERS</td>\n",
       "      <td>5.852554e+04</td>\n",
       "      <td>0.0</td>\n",
       "    </tr>\n",
       "    <tr>\n",
       "      <th>2</th>\n",
       "      <td>METRO_DISTANCE</td>\n",
       "      <td>-1.603460e+03</td>\n",
       "      <td>0.0</td>\n",
       "    </tr>\n",
       "  </tbody>\n",
       "</table>\n",
       "</div>"
      ],
      "text/plain": [
       "        predictor          coef  pvalue\n",
       "0       intercept  6.496840e+06     0.0\n",
       "1   SQUARE_METERS  5.852554e+04     0.0\n",
       "2  METRO_DISTANCE -1.603460e+03     0.0"
      ]
     },
     "execution_count": 110,
     "metadata": {},
     "output_type": "execute_result"
    }
   ],
   "source": [
    "from scipy import stats\n",
    "\n",
    "def regression_coef(model, X, y):\n",
    "    coef = pd.DataFrame(zip(['intercept'] + X.columns.tolist(), [model.intercept_] + model.coef_.tolist()),\n",
    "                    columns=['predictor', 'coef'])\n",
    "    X1 = np.append(np.ones((len(X),1)), X, axis=1)\n",
    "    b = np.append(model.intercept_, model.coef_)\n",
    "    MSE = np.sum((model.predict(X) - y) ** 2, axis=0) / float(X.shape[0] - X.shape[1])\n",
    "    var_b = MSE * (np.linalg.inv(np.dot(X1.T, X1)).diagonal())\n",
    "    sd_b = np.sqrt(var_b)\n",
    "    t = b / sd_b\n",
    "    coef['pvalue'] = [2 * (1 - stats.t.cdf(np.abs(i), (len(X1) - 1))) for i in t]\n",
    "    return coef\n",
    "regression_coef(model, X, y)"
   ]
  },
  {
   "cell_type": "code",
   "execution_count": null,
   "id": "ebbfe87c-700b-4e30-93f8-b7cee77d9a9b",
   "metadata": {},
   "outputs": [],
   "source": []
  }
 ],
 "metadata": {
  "kernelspec": {
   "display_name": "Python 3",
   "language": "python",
   "name": "python3"
  },
  "language_info": {
   "codemirror_mode": {
    "name": "ipython",
    "version": 3
   },
   "file_extension": ".py",
   "mimetype": "text/x-python",
   "name": "python",
   "nbconvert_exporter": "python",
   "pygments_lexer": "ipython3",
   "version": "3.8.8"
  }
 },
 "nbformat": 4,
 "nbformat_minor": 5
}
